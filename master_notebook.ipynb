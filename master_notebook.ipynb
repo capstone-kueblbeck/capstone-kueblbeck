{
 "cells": [
  {
   "attachments": {},
   "cell_type": "markdown",
   "metadata": {},
   "source": [
    "# Introduction\n",
    "In this notebook we present our code for our capstone project in an easy to read and understandable way.\n",
    "\n",
    "* ___Say something about the project___\n",
    "\n",
    "* ___Say something about the notebook structure___\n",
    "\n",
    "* ___Any additional notes?___"
   ]
  },
  {
   "attachments": {},
   "cell_type": "markdown",
   "metadata": {},
   "source": [
    "# Setup\n",
    "\n",
    "* ___Optional: Add subtext to every header___"
   ]
  },
  {
   "attachments": {},
   "cell_type": "markdown",
   "metadata": {},
   "source": [
    "## Basic setup"
   ]
  },
  {
   "cell_type": "code",

   "execution_count": 2,

   "metadata": {},
   "outputs": [],
   "source": [
    "# Import libraries\n",
    "import pandas as pd #pandas is a Python package that provides fast, flexible, and expressive data structures.\n",
    "import numpy as np #NumPy is an Python library that facilitates efficient numerical operations on large quantities of data.\n",
    "import sqlalchemy #SQLAlchemy is the Python SQL toolkit and Object Relational Mapper that gives application developers the power and flexibility of SQL.\n",
    "import psycopg2 # needed to get database exception errors when uploading dataframe\n",
    "import matplotlib.pyplot as plt # needed for visualizations\n",
    "import seaborn as sns # data visualization library based on matplotlib\n",
    "import os # provides functions for interacting with the operating system\n",
    "import math # provides access to the mathematical functions\n",
    "import sql_functions as sf # own collection of functions to manage connections to our SQL database\n",
    "import re #this module provides regular expression matching operations\n",
    "import math #this module provides access to the mathematical functions\n",
    "import warnings #the warnings filter controls whether warnings are ignored, displayed, or turned into errors (raising an exception).\n",
    "warnings.filterwarnings('ignore')\n"
   ]
  },
  {
   "cell_type": "code",

   "execution_count": 3,

   "metadata": {},
   "outputs": [],
   "source": [
    "# Define variables\n",
    "schema = 'capstone_kueblbeck'\n",
    "engine = sf.get_engine()"
   ]
  },
  {
   "cell_type": "code",

   "execution_count": 4,

   "metadata": {},
   "outputs": [],
   "source": [
    "# Other settings\n",
    "pd.options.display.max_columns = 40\n",
    "pd.options.display.float_format = \"{:,.2f}\".format"
   ]
  },
  {
   "attachments": {},
   "cell_type": "markdown",
   "metadata": {},
   "source": [
    "## Prepare data and export to SQL"
   ]
  },
  {
   "attachments": {},
   "cell_type": "markdown",
   "metadata": {},
   "source": [
    "### Import data from external files"
   ]
  },
  {
   "cell_type": "code",

   "execution_count": 5,
   "metadata": {},
   "outputs": [
    {
     "ename": "FileNotFoundError",
     "evalue": "[Errno 2] No such file or directory: './data/Lagerbestand_02.Juni.2023.txt'",
     "output_type": "error",
     "traceback": [
      "\u001b[0;31m---------------------------------------------------------------------------\u001b[0m",
      "\u001b[0;31mFileNotFoundError\u001b[0m                         Traceback (most recent call last)",
      "Cell \u001b[0;32mIn[5], line 2\u001b[0m\n\u001b[1;32m      1\u001b[0m \u001b[39m# Import \"Lagerbestand\"\u001b[39;00m\n\u001b[0;32m----> 2\u001b[0m lagerbestand \u001b[39m=\u001b[39m pd\u001b[39m.\u001b[39;49mread_csv(\u001b[39m'\u001b[39;49m\u001b[39m./data/Lagerbestand_02.Juni.2023.txt\u001b[39;49m\u001b[39m'\u001b[39;49m, decimal\u001b[39m=\u001b[39;49m\u001b[39m'\u001b[39;49m\u001b[39m,\u001b[39;49m\u001b[39m'\u001b[39;49m)\n\u001b[1;32m      3\u001b[0m lagerbestand \u001b[39m=\u001b[39m lagerbestand\u001b[39m.\u001b[39mdrop(lagerbestand\u001b[39m.\u001b[39mindex[\u001b[39m0\u001b[39m])\n",
      "File \u001b[0;32m/opt/homebrew/Caskroom/miniconda/base/envs/nf_sql/lib/python3.9/site-packages/pandas/util/_decorators.py:211\u001b[0m, in \u001b[0;36mdeprecate_kwarg.<locals>._deprecate_kwarg.<locals>.wrapper\u001b[0;34m(*args, **kwargs)\u001b[0m\n\u001b[1;32m    209\u001b[0m     \u001b[39melse\u001b[39;00m:\n\u001b[1;32m    210\u001b[0m         kwargs[new_arg_name] \u001b[39m=\u001b[39m new_arg_value\n\u001b[0;32m--> 211\u001b[0m \u001b[39mreturn\u001b[39;00m func(\u001b[39m*\u001b[39;49margs, \u001b[39m*\u001b[39;49m\u001b[39m*\u001b[39;49mkwargs)\n",
      "File \u001b[0;32m/opt/homebrew/Caskroom/miniconda/base/envs/nf_sql/lib/python3.9/site-packages/pandas/util/_decorators.py:331\u001b[0m, in \u001b[0;36mdeprecate_nonkeyword_arguments.<locals>.decorate.<locals>.wrapper\u001b[0;34m(*args, **kwargs)\u001b[0m\n\u001b[1;32m    325\u001b[0m \u001b[39mif\u001b[39;00m \u001b[39mlen\u001b[39m(args) \u001b[39m>\u001b[39m num_allow_args:\n\u001b[1;32m    326\u001b[0m     warnings\u001b[39m.\u001b[39mwarn(\n\u001b[1;32m    327\u001b[0m         msg\u001b[39m.\u001b[39mformat(arguments\u001b[39m=\u001b[39m_format_argument_list(allow_args)),\n\u001b[1;32m    328\u001b[0m         \u001b[39mFutureWarning\u001b[39;00m,\n\u001b[1;32m    329\u001b[0m         stacklevel\u001b[39m=\u001b[39mfind_stack_level(),\n\u001b[1;32m    330\u001b[0m     )\n\u001b[0;32m--> 331\u001b[0m \u001b[39mreturn\u001b[39;00m func(\u001b[39m*\u001b[39;49margs, \u001b[39m*\u001b[39;49m\u001b[39m*\u001b[39;49mkwargs)\n",
      "File \u001b[0;32m/opt/homebrew/Caskroom/miniconda/base/envs/nf_sql/lib/python3.9/site-packages/pandas/io/parsers/readers.py:950\u001b[0m, in \u001b[0;36mread_csv\u001b[0;34m(filepath_or_buffer, sep, delimiter, header, names, index_col, usecols, squeeze, prefix, mangle_dupe_cols, dtype, engine, converters, true_values, false_values, skipinitialspace, skiprows, skipfooter, nrows, na_values, keep_default_na, na_filter, verbose, skip_blank_lines, parse_dates, infer_datetime_format, keep_date_col, date_parser, dayfirst, cache_dates, iterator, chunksize, compression, thousands, decimal, lineterminator, quotechar, quoting, doublequote, escapechar, comment, encoding, encoding_errors, dialect, error_bad_lines, warn_bad_lines, on_bad_lines, delim_whitespace, low_memory, memory_map, float_precision, storage_options)\u001b[0m\n\u001b[1;32m    935\u001b[0m kwds_defaults \u001b[39m=\u001b[39m _refine_defaults_read(\n\u001b[1;32m    936\u001b[0m     dialect,\n\u001b[1;32m    937\u001b[0m     delimiter,\n\u001b[0;32m   (...)\u001b[0m\n\u001b[1;32m    946\u001b[0m     defaults\u001b[39m=\u001b[39m{\u001b[39m\"\u001b[39m\u001b[39mdelimiter\u001b[39m\u001b[39m\"\u001b[39m: \u001b[39m\"\u001b[39m\u001b[39m,\u001b[39m\u001b[39m\"\u001b[39m},\n\u001b[1;32m    947\u001b[0m )\n\u001b[1;32m    948\u001b[0m kwds\u001b[39m.\u001b[39mupdate(kwds_defaults)\n\u001b[0;32m--> 950\u001b[0m \u001b[39mreturn\u001b[39;00m _read(filepath_or_buffer, kwds)\n",
      "File \u001b[0;32m/opt/homebrew/Caskroom/miniconda/base/envs/nf_sql/lib/python3.9/site-packages/pandas/io/parsers/readers.py:605\u001b[0m, in \u001b[0;36m_read\u001b[0;34m(filepath_or_buffer, kwds)\u001b[0m\n\u001b[1;32m    602\u001b[0m _validate_names(kwds\u001b[39m.\u001b[39mget(\u001b[39m\"\u001b[39m\u001b[39mnames\u001b[39m\u001b[39m\"\u001b[39m, \u001b[39mNone\u001b[39;00m))\n\u001b[1;32m    604\u001b[0m \u001b[39m# Create the parser.\u001b[39;00m\n\u001b[0;32m--> 605\u001b[0m parser \u001b[39m=\u001b[39m TextFileReader(filepath_or_buffer, \u001b[39m*\u001b[39;49m\u001b[39m*\u001b[39;49mkwds)\n\u001b[1;32m    607\u001b[0m \u001b[39mif\u001b[39;00m chunksize \u001b[39mor\u001b[39;00m iterator:\n\u001b[1;32m    608\u001b[0m     \u001b[39mreturn\u001b[39;00m parser\n",
      "File \u001b[0;32m/opt/homebrew/Caskroom/miniconda/base/envs/nf_sql/lib/python3.9/site-packages/pandas/io/parsers/readers.py:1442\u001b[0m, in \u001b[0;36mTextFileReader.__init__\u001b[0;34m(self, f, engine, **kwds)\u001b[0m\n\u001b[1;32m   1439\u001b[0m     \u001b[39mself\u001b[39m\u001b[39m.\u001b[39moptions[\u001b[39m\"\u001b[39m\u001b[39mhas_index_names\u001b[39m\u001b[39m\"\u001b[39m] \u001b[39m=\u001b[39m kwds[\u001b[39m\"\u001b[39m\u001b[39mhas_index_names\u001b[39m\u001b[39m\"\u001b[39m]\n\u001b[1;32m   1441\u001b[0m \u001b[39mself\u001b[39m\u001b[39m.\u001b[39mhandles: IOHandles \u001b[39m|\u001b[39m \u001b[39mNone\u001b[39;00m \u001b[39m=\u001b[39m \u001b[39mNone\u001b[39;00m\n\u001b[0;32m-> 1442\u001b[0m \u001b[39mself\u001b[39m\u001b[39m.\u001b[39m_engine \u001b[39m=\u001b[39m \u001b[39mself\u001b[39;49m\u001b[39m.\u001b[39;49m_make_engine(f, \u001b[39mself\u001b[39;49m\u001b[39m.\u001b[39;49mengine)\n",
      "File \u001b[0;32m/opt/homebrew/Caskroom/miniconda/base/envs/nf_sql/lib/python3.9/site-packages/pandas/io/parsers/readers.py:1735\u001b[0m, in \u001b[0;36mTextFileReader._make_engine\u001b[0;34m(self, f, engine)\u001b[0m\n\u001b[1;32m   1733\u001b[0m     \u001b[39mif\u001b[39;00m \u001b[39m\"\u001b[39m\u001b[39mb\u001b[39m\u001b[39m\"\u001b[39m \u001b[39mnot\u001b[39;00m \u001b[39min\u001b[39;00m mode:\n\u001b[1;32m   1734\u001b[0m         mode \u001b[39m+\u001b[39m\u001b[39m=\u001b[39m \u001b[39m\"\u001b[39m\u001b[39mb\u001b[39m\u001b[39m\"\u001b[39m\n\u001b[0;32m-> 1735\u001b[0m \u001b[39mself\u001b[39m\u001b[39m.\u001b[39mhandles \u001b[39m=\u001b[39m get_handle(\n\u001b[1;32m   1736\u001b[0m     f,\n\u001b[1;32m   1737\u001b[0m     mode,\n\u001b[1;32m   1738\u001b[0m     encoding\u001b[39m=\u001b[39;49m\u001b[39mself\u001b[39;49m\u001b[39m.\u001b[39;49moptions\u001b[39m.\u001b[39;49mget(\u001b[39m\"\u001b[39;49m\u001b[39mencoding\u001b[39;49m\u001b[39m\"\u001b[39;49m, \u001b[39mNone\u001b[39;49;00m),\n\u001b[1;32m   1739\u001b[0m     compression\u001b[39m=\u001b[39;49m\u001b[39mself\u001b[39;49m\u001b[39m.\u001b[39;49moptions\u001b[39m.\u001b[39;49mget(\u001b[39m\"\u001b[39;49m\u001b[39mcompression\u001b[39;49m\u001b[39m\"\u001b[39;49m, \u001b[39mNone\u001b[39;49;00m),\n\u001b[1;32m   1740\u001b[0m     memory_map\u001b[39m=\u001b[39;49m\u001b[39mself\u001b[39;49m\u001b[39m.\u001b[39;49moptions\u001b[39m.\u001b[39;49mget(\u001b[39m\"\u001b[39;49m\u001b[39mmemory_map\u001b[39;49m\u001b[39m\"\u001b[39;49m, \u001b[39mFalse\u001b[39;49;00m),\n\u001b[1;32m   1741\u001b[0m     is_text\u001b[39m=\u001b[39;49mis_text,\n\u001b[1;32m   1742\u001b[0m     errors\u001b[39m=\u001b[39;49m\u001b[39mself\u001b[39;49m\u001b[39m.\u001b[39;49moptions\u001b[39m.\u001b[39;49mget(\u001b[39m\"\u001b[39;49m\u001b[39mencoding_errors\u001b[39;49m\u001b[39m\"\u001b[39;49m, \u001b[39m\"\u001b[39;49m\u001b[39mstrict\u001b[39;49m\u001b[39m\"\u001b[39;49m),\n\u001b[1;32m   1743\u001b[0m     storage_options\u001b[39m=\u001b[39;49m\u001b[39mself\u001b[39;49m\u001b[39m.\u001b[39;49moptions\u001b[39m.\u001b[39;49mget(\u001b[39m\"\u001b[39;49m\u001b[39mstorage_options\u001b[39;49m\u001b[39m\"\u001b[39;49m, \u001b[39mNone\u001b[39;49;00m),\n\u001b[1;32m   1744\u001b[0m )\n\u001b[1;32m   1745\u001b[0m \u001b[39massert\u001b[39;00m \u001b[39mself\u001b[39m\u001b[39m.\u001b[39mhandles \u001b[39mis\u001b[39;00m \u001b[39mnot\u001b[39;00m \u001b[39mNone\u001b[39;00m\n\u001b[1;32m   1746\u001b[0m f \u001b[39m=\u001b[39m \u001b[39mself\u001b[39m\u001b[39m.\u001b[39mhandles\u001b[39m.\u001b[39mhandle\n",
      "File \u001b[0;32m/opt/homebrew/Caskroom/miniconda/base/envs/nf_sql/lib/python3.9/site-packages/pandas/io/common.py:856\u001b[0m, in \u001b[0;36mget_handle\u001b[0;34m(path_or_buf, mode, encoding, compression, memory_map, is_text, errors, storage_options)\u001b[0m\n\u001b[1;32m    851\u001b[0m \u001b[39melif\u001b[39;00m \u001b[39misinstance\u001b[39m(handle, \u001b[39mstr\u001b[39m):\n\u001b[1;32m    852\u001b[0m     \u001b[39m# Check whether the filename is to be opened in binary mode.\u001b[39;00m\n\u001b[1;32m    853\u001b[0m     \u001b[39m# Binary mode does not support 'encoding' and 'newline'.\u001b[39;00m\n\u001b[1;32m    854\u001b[0m     \u001b[39mif\u001b[39;00m ioargs\u001b[39m.\u001b[39mencoding \u001b[39mand\u001b[39;00m \u001b[39m\"\u001b[39m\u001b[39mb\u001b[39m\u001b[39m\"\u001b[39m \u001b[39mnot\u001b[39;00m \u001b[39min\u001b[39;00m ioargs\u001b[39m.\u001b[39mmode:\n\u001b[1;32m    855\u001b[0m         \u001b[39m# Encoding\u001b[39;00m\n\u001b[0;32m--> 856\u001b[0m         handle \u001b[39m=\u001b[39m \u001b[39mopen\u001b[39;49m(\n\u001b[1;32m    857\u001b[0m             handle,\n\u001b[1;32m    858\u001b[0m             ioargs\u001b[39m.\u001b[39;49mmode,\n\u001b[1;32m    859\u001b[0m             encoding\u001b[39m=\u001b[39;49mioargs\u001b[39m.\u001b[39;49mencoding,\n\u001b[1;32m    860\u001b[0m             errors\u001b[39m=\u001b[39;49merrors,\n\u001b[1;32m    861\u001b[0m             newline\u001b[39m=\u001b[39;49m\u001b[39m\"\u001b[39;49m\u001b[39m\"\u001b[39;49m,\n\u001b[1;32m    862\u001b[0m         )\n\u001b[1;32m    863\u001b[0m     \u001b[39melse\u001b[39;00m:\n\u001b[1;32m    864\u001b[0m         \u001b[39m# Binary mode\u001b[39;00m\n\u001b[1;32m    865\u001b[0m         handle \u001b[39m=\u001b[39m \u001b[39mopen\u001b[39m(handle, ioargs\u001b[39m.\u001b[39mmode)\n",
      "\u001b[0;31mFileNotFoundError\u001b[0m: [Errno 2] No such file or directory: './data/Lagerbestand_02.Juni.2023.txt'"
     ]
    }
   ],

   "source": [
    "# Import \"Lagerbestand\"\n",
    "lagerbestand = pd.read_csv('./data/Lagerbestand_02.Juni.2023.txt', decimal=',')\n",
    "lagerbestand = lagerbestand.drop(lagerbestand.index[0])"
   ]
  },
  {
   "cell_type": "code",
   "execution_count": null,
   "metadata": {},
   "outputs": [],
   "source": [
    "# Import \"Lieferanten\"\n",
    "lieferanten = pd.read_excel('./data/Lieferantenübersicht.xlsx')\n",
    "lieferanten = lieferanten.drop(lieferanten.index[0])"
   ]
  },
  {
   "cell_type": "code",
   "execution_count": null,
   "metadata": {},

   "outputs": [
    {
     "name": "stderr",
     "output_type": "stream",
     "text": [
      "/var/folders/kv/8g80w4s52_ldz0hf8y_2jgw40000gn/T/ipykernel_22812/3738684025.py:2: DtypeWarning: Columns (4,5,6,7,8,9,10,11,12,13) have mixed types. Specify dtype option on import or set low_memory=False.\n",
      "  verkaeufe = pd.read_csv('./data/Abverkauf_DE_2022_8410.csv', decimal=',')\n"
     ]
    }
   ],

   "source": [
    "# Import \"Verkäufe\"\n",
    "verkaeufe = pd.read_csv('./data/Abverkauf_DE_2022_8410.csv', decimal=',')\n",
    "verkaeufe = verkaeufe.drop(verkaeufe.index[0])"
   ]
  },
  {
   "attachments": {},
   "cell_type": "markdown",
   "metadata": {},
   "source": [
    "### Correct datatypes for each table (if necessary)"
   ]
  },
  {
   "attachments": {},
   "cell_type": "markdown",
   "metadata": {},
   "source": [
    "#### Lagerbestand"
   ]
  },
  {
   "cell_type": "code",
   "execution_count": null,
   "metadata": {},
   "outputs": [],
   "source": [
    "# Change date columns from string to date type\n",
    "date_columns = [\"Ltz. VK ges.\", \"Ltz. VK WEN\", \"Ltz. VK RGB\", \"Ltz. VK AMB\", \"Ltz. VK CHA\", \"Ltz. VK STR\", \"Ltz. VK PAS\", \"Ltz. VK LAN\", \"Ltz. VK MÜH\", \"Ltz. VK ROS\"]\n",
    "\n",
    "for column in date_columns:\n",
    "        lagerbestand[column] = pd.to_datetime(lagerbestand[column], format='%d.%m.%Y', errors='coerce')"
   ]
  },
  {
   "cell_type": "code",
   "execution_count": null,
   "metadata": {},

   "outputs": [
    {
     "name": "stderr",
     "output_type": "stream",
     "text": [
      "/var/folders/kv/8g80w4s52_ldz0hf8y_2jgw40000gn/T/ipykernel_22812/2712846017.py:5: FutureWarning: The default value of regex will change from True to False in a future version. In addition, single character regular expressions will *not* be treated as literal strings when regex=True.\n",
      "  lagerbestand[column] = pd.to_numeric(lagerbestand[column].str.replace('.', '').str.replace(',','.'), errors='coerce')\n"
     ]
    }
   ],

   "source": [
    "# Change selected number columns from string to float type\n",
    "numeric_columns = ['Gesamt', 'WEN', 'RGB', 'AMB', 'CHA', 'STR', 'PAS', 'LAN', 'MÜH', 'ROS']\n",
    "\n",
    "for column in numeric_columns:\n",
    "    lagerbestand[column] = pd.to_numeric(lagerbestand[column].str.replace('.', '').str.replace(',','.'), errors='coerce')"
   ]
  },
  {
   "cell_type": "code",
   "execution_count": null,
   "metadata": {},

   "outputs": [
    {
     "name": "stderr",
     "output_type": "stream",
     "text": [
      "/var/folders/kv/8g80w4s52_ldz0hf8y_2jgw40000gn/T/ipykernel_22812/727319556.py:5: FutureWarning: The default value of regex will change from True to False in a future version. In addition, single character regular expressions will *not* be treated as literal strings when regex=True.\n",
      "  lagerbestand[column] = pd.to_numeric(lagerbestand[column].str.replace('.', '').str.replace(',','.'))\n"
     ]
    }
   ],

   "source": [
    "# Special treatment for columns 'Basispreis' and 'Basispr. Summe'\n",
    "numeric_columns_basis = ['Basispreis', 'Basispr. Summe']\n",
    "\n",
    "for column in numeric_columns_basis:\n",
    "    lagerbestand[column] = pd.to_numeric(lagerbestand[column].str.replace('.', '').str.replace(',','.'))"
   ]
  },
  {
   "cell_type": "code",
   "execution_count": null,
   "metadata": {},
   "outputs": [],
   "source": [
    "# Change 'Lfnr' and 'VPE' to Integer type, as these are categorical numbers\n",
    "lagerbestand['Lfnr'] = lagerbestand['Lfnr'].astype(int)\n",
    "lagerbestand['VPE'] = lagerbestand['VPE'].astype(int)"
   ]
  },
  {
   "attachments": {},
   "cell_type": "markdown",
   "metadata": {},
   "source": [
    "#### Lieferanten"
   ]
  },
  {
   "cell_type": "code",
   "execution_count": null,
   "metadata": {},
   "outputs": [],
   "source": [
    "# Sync datatype in column 'Lfnr' to table 'Lagerbestand'\n",
    "lieferanten['Lfnr'] = lieferanten['Lfnr'].astype(int)"
   ]
  },
  {
   "attachments": {},
   "cell_type": "markdown",
   "metadata": {},
   "source": [
    "#### Verkaeufe"
   ]
  },
  {
   "cell_type": "code",
   "execution_count": null,
   "metadata": {},

   "outputs": [
    {
     "name": "stderr",
     "output_type": "stream",
     "text": [
      "/var/folders/kv/8g80w4s52_ldz0hf8y_2jgw40000gn/T/ipykernel_22812/1413186216.py:5: FutureWarning: The default value of regex will change from True to False in a future version. In addition, single character regular expressions will *not* be treated as literal strings when regex=True.\n",
      "  verkaeufe[column] = pd.to_numeric(verkaeufe[column].str.replace('.', ''), errors='coerce')\n"
     ]
    }
   ],

   "source": [
    "# Change selected number columns from string to float type\n",
    "numeric_columns = [\"Gesamt\", \"WEN\", \"RGB\", \"AMB\", \"CHA\", \"STR\", \"PAS\", \"LAN\", \"MÜH\", \"ROS\"]\n",
    "\n",
    "for column in numeric_columns:\n",
    "    verkaeufe[column] = pd.to_numeric(verkaeufe[column].str.replace('.', ''), errors='coerce')"
   ]
  },
  {
   "cell_type": "code",
   "execution_count": null,
   "metadata": {},
   "outputs": [],
   "source": [
    "# Sync datatype in column 'Lfr.' to table 'Lagerbestand'\n",
    "verkaeufe['Lfr.'] = verkaeufe['Lfr.'].astype(int)"
   ]
  },
  {
   "attachments": {},
   "cell_type": "markdown",
   "metadata": {},
   "source": [
    "#### Check Dataframes before Export"
   ]
  },
  {
   "cell_type": "code",
   "execution_count": null,
   "metadata": {},

   "outputs": [
    {
     "data": {
      "text/html": [
       "<div>\n",
       "<style scoped>\n",
       "    .dataframe tbody tr th:only-of-type {\n",
       "        vertical-align: middle;\n",
       "    }\n",
       "\n",
       "    .dataframe tbody tr th {\n",
       "        vertical-align: top;\n",
       "    }\n",
       "\n",
       "    .dataframe thead th {\n",
       "        text-align: right;\n",
       "    }\n",
       "</style>\n",
       "<table border=\"1\" class=\"dataframe\">\n",
       "  <thead>\n",
       "    <tr style=\"text-align: right;\">\n",
       "      <th></th>\n",
       "      <th>Lfnr</th>\n",
       "      <th>Artnr</th>\n",
       "      <th>Index</th>\n",
       "      <th>Beschr.</th>\n",
       "      <th>BKZ</th>\n",
       "      <th>VPE</th>\n",
       "      <th>St.gr.</th>\n",
       "      <th>Ltz. VK ges.</th>\n",
       "      <th>Basispreis</th>\n",
       "      <th>Basispr. Summe</th>\n",
       "      <th>Gesamt</th>\n",
       "      <th>WEN</th>\n",
       "      <th>Ltz. VK WEN</th>\n",
       "      <th>RGB</th>\n",
       "      <th>Ltz. VK RGB</th>\n",
       "      <th>AMB</th>\n",
       "      <th>Ltz. VK AMB</th>\n",
       "      <th>CHA</th>\n",
       "      <th>Ltz. VK CHA</th>\n",
       "      <th>STR</th>\n",
       "      <th>Ltz. VK STR</th>\n",
       "      <th>PAS</th>\n",
       "      <th>Ltz. VK PAS</th>\n",
       "      <th>LAN</th>\n",
       "      <th>Ltz. VK LAN</th>\n",
       "      <th>MÜH</th>\n",
       "      <th>Ltz. VK MÜH</th>\n",
       "      <th>ROS</th>\n",
       "      <th>Ltz. VK ROS</th>\n",
       "    </tr>\n",
       "  </thead>\n",
       "  <tbody>\n",
       "    <tr>\n",
       "      <th>1</th>\n",
       "      <td>430</td>\n",
       "      <td>08.607.83</td>\n",
       "      <td>000</td>\n",
       "      <td>N CORSA D  1,0L  44KW  BJ 2006</td>\n",
       "      <td>8</td>\n",
       "      <td>1</td>\n",
       "      <td>L20</td>\n",
       "      <td>2018-11-07</td>\n",
       "      <td>75.36</td>\n",
       "      <td>0.00</td>\n",
       "      <td>0.00</td>\n",
       "      <td>0.00</td>\n",
       "      <td>NaT</td>\n",
       "      <td>0.00</td>\n",
       "      <td>2018-11-07</td>\n",
       "      <td>0.00</td>\n",
       "      <td>2017-08-08</td>\n",
       "      <td>0.00</td>\n",
       "      <td>2016-04-29</td>\n",
       "      <td>0.00</td>\n",
       "      <td>2017-12-14</td>\n",
       "      <td>0.00</td>\n",
       "      <td>NaT</td>\n",
       "      <td>0.00</td>\n",
       "      <td>2017-08-31</td>\n",
       "      <td>0.00</td>\n",
       "      <td>NaT</td>\n",
       "      <td>0.00</td>\n",
       "      <td>2014-03-26</td>\n",
       "    </tr>\n",
       "    <tr>\n",
       "      <th>2</th>\n",
       "      <td>430</td>\n",
       "      <td>08.607.81</td>\n",
       "      <td>000</td>\n",
       "      <td>M CORSA D  1,4L  66KW  BJ 2006</td>\n",
       "      <td>8</td>\n",
       "      <td>1</td>\n",
       "      <td>L20</td>\n",
       "      <td>2021-08-04</td>\n",
       "      <td>93.63</td>\n",
       "      <td>0.00</td>\n",
       "      <td>0.00</td>\n",
       "      <td>0.00</td>\n",
       "      <td>2021-08-04</td>\n",
       "      <td>0.00</td>\n",
       "      <td>2017-07-10</td>\n",
       "      <td>0.00</td>\n",
       "      <td>2021-04-26</td>\n",
       "      <td>0.00</td>\n",
       "      <td>2021-04-28</td>\n",
       "      <td>0.00</td>\n",
       "      <td>2018-09-13</td>\n",
       "      <td>0.00</td>\n",
       "      <td>2019-07-31</td>\n",
       "      <td>0.00</td>\n",
       "      <td>2016-06-24</td>\n",
       "      <td>0.00</td>\n",
       "      <td>NaT</td>\n",
       "      <td>0.00</td>\n",
       "      <td>2015-05-04</td>\n",
       "    </tr>\n",
       "  </tbody>\n",
       "</table>\n",
       "</div>"
      ],
      "text/plain": [
       "   Lfnr      Artnr Index                         Beschr. BKZ  VPE St.gr.  \\\n",
       "1   430  08.607.83   000  N CORSA D  1,0L  44KW  BJ 2006   8    1    L20   \n",
       "2   430  08.607.81   000  M CORSA D  1,4L  66KW  BJ 2006   8    1    L20   \n",
       "\n",
       "  Ltz. VK ges.  Basispreis  Basispr. Summe  Gesamt  WEN Ltz. VK WEN  RGB  \\\n",
       "1   2018-11-07       75.36            0.00    0.00 0.00         NaT 0.00   \n",
       "2   2021-08-04       93.63            0.00    0.00 0.00  2021-08-04 0.00   \n",
       "\n",
       "  Ltz. VK RGB  AMB Ltz. VK AMB  CHA Ltz. VK CHA  STR Ltz. VK STR  PAS  \\\n",
       "1  2018-11-07 0.00  2017-08-08 0.00  2016-04-29 0.00  2017-12-14 0.00   \n",
       "2  2017-07-10 0.00  2021-04-26 0.00  2021-04-28 0.00  2018-09-13 0.00   \n",
       "\n",
       "  Ltz. VK PAS  LAN Ltz. VK LAN  MÜH Ltz. VK MÜH  ROS Ltz. VK ROS  \n",
       "1         NaT 0.00  2017-08-31 0.00         NaT 0.00  2014-03-26  \n",
       "2  2019-07-31 0.00  2016-06-24 0.00         NaT 0.00  2015-05-04  "
      ]
     },
     "metadata": {},
     "output_type": "display_data"
    },
    {
     "name": "stdout",
     "output_type": "stream",
     "text": [
      "<class 'pandas.core.frame.DataFrame'>\n",
      "RangeIndex: 357829 entries, 1 to 357829\n",
      "Data columns (total 29 columns):\n",
      " #   Column          Non-Null Count   Dtype         \n",
      "---  ------          --------------   -----         \n",
      " 0   Lfnr            357829 non-null  int64         \n",
      " 1   Artnr           357829 non-null  object        \n",
      " 2   Index           357829 non-null  object        \n",
      " 3   Beschr.         357829 non-null  object        \n",
      " 4   BKZ             357829 non-null  object        \n",
      " 5   VPE             357829 non-null  int64         \n",
      " 6   St.gr.          357829 non-null  object        \n",
      " 7   Ltz. VK ges.    338128 non-null  datetime64[ns]\n",
      " 8   Basispreis      357829 non-null  float64       \n",
      " 9   Basispr. Summe  357829 non-null  float64       \n",
      " 10  Gesamt          325061 non-null  float64       \n",
      " 11  WEN             325061 non-null  float64       \n",
      " 12  Ltz. VK WEN     204992 non-null  datetime64[ns]\n",
      " 13  RGB             98303 non-null   float64       \n",
      " 14  Ltz. VK RGB     124822 non-null  datetime64[ns]\n",
      " 15  AMB             98303 non-null   float64       \n",
      " 16  Ltz. VK AMB     112562 non-null  datetime64[ns]\n",
      " 17  CHA             32767 non-null   float64       \n",
      " 18  Ltz. VK CHA     55833 non-null   datetime64[ns]\n",
      " 19  STR             95685 non-null   float64       \n",
      " 20  Ltz. VK STR     149798 non-null  datetime64[ns]\n",
      " 21  PAS             98303 non-null   float64       \n",
      " 22  Ltz. VK PAS     70193 non-null   datetime64[ns]\n",
      " 23  LAN             62917 non-null   float64       \n",
      " 24  Ltz. VK LAN     89659 non-null   datetime64[ns]\n",
      " 25  MÜH             32767 non-null   float64       \n",
      " 26  Ltz. VK MÜH     77325 non-null   datetime64[ns]\n",
      " 27  ROS             98303 non-null   float64       \n",
      " 28  Ltz. VK ROS     112682 non-null  datetime64[ns]\n",
      "dtypes: datetime64[ns](10), float64(12), int64(2), object(5)\n",
      "memory usage: 79.2+ MB\n"
     ]
    },
    {
     "data": {
      "text/plain": [
       "None"
      ]
     },
     "metadata": {},
     "output_type": "display_data"
    }
   ],

   "source": [
    "display(lagerbestand.head(2))\n",
    "display(lagerbestand.info())"
   ]
  },
  {
   "cell_type": "code",
   "execution_count": null,
   "metadata": {},

   "outputs": [
    {
     "data": {
      "text/html": [
       "<div>\n",
       "<style scoped>\n",
       "    .dataframe tbody tr th:only-of-type {\n",
       "        vertical-align: middle;\n",
       "    }\n",
       "\n",
       "    .dataframe tbody tr th {\n",
       "        vertical-align: top;\n",
       "    }\n",
       "\n",
       "    .dataframe thead th {\n",
       "        text-align: right;\n",
       "    }\n",
       "</style>\n",
       "<table border=\"1\" class=\"dataframe\">\n",
       "  <thead>\n",
       "    <tr style=\"text-align: right;\">\n",
       "      <th></th>\n",
       "      <th>Lfnr</th>\n",
       "      <th>Beschreibung</th>\n",
       "    </tr>\n",
       "  </thead>\n",
       "  <tbody>\n",
       "    <tr>\n",
       "      <th>1</th>\n",
       "      <td>0</td>\n",
       "      <td>BOSCH</td>\n",
       "    </tr>\n",
       "    <tr>\n",
       "      <th>2</th>\n",
       "      <td>1</td>\n",
       "      <td>HELLA</td>\n",
       "    </tr>\n",
       "  </tbody>\n",
       "</table>\n",
       "</div>"
      ],
      "text/plain": [
       "   Lfnr Beschreibung\n",
       "1     0        BOSCH\n",
       "2     1        HELLA"
      ]
     },
     "metadata": {},
     "output_type": "display_data"
    },
    {
     "name": "stdout",
     "output_type": "stream",
     "text": [
      "<class 'pandas.core.frame.DataFrame'>\n",
      "RangeIndex: 378 entries, 1 to 378\n",
      "Data columns (total 2 columns):\n",
      " #   Column        Non-Null Count  Dtype \n",
      "---  ------        --------------  ----- \n",
      " 0   Lfnr          378 non-null    int64 \n",
      " 1   Beschreibung  376 non-null    object\n",
      "dtypes: int64(1), object(1)\n",
      "memory usage: 6.0+ KB\n"
     ]
    },
    {
     "data": {
      "text/plain": [
       "None"
      ]
     },
     "metadata": {},
     "output_type": "display_data"
    }
   ],

   "source": [
    "display(lieferanten.head(2))\n",
    "display(lieferanten.info())"
   ]
  },
  {
   "cell_type": "code",
   "execution_count": null,
   "metadata": {},

   "outputs": [
    {
     "data": {
      "text/html": [
       "<div>\n",
       "<style scoped>\n",
       "    .dataframe tbody tr th:only-of-type {\n",
       "        vertical-align: middle;\n",
       "    }\n",
       "\n",
       "    .dataframe tbody tr th {\n",
       "        vertical-align: top;\n",
       "    }\n",
       "\n",
       "    .dataframe thead th {\n",
       "        text-align: right;\n",
       "    }\n",
       "</style>\n",
       "<table border=\"1\" class=\"dataframe\">\n",
       "  <thead>\n",
       "    <tr style=\"text-align: right;\">\n",
       "      <th></th>\n",
       "      <th>Lfr.</th>\n",
       "      <th>Art.nr.</th>\n",
       "      <th>Ind.</th>\n",
       "      <th>Beschreibung</th>\n",
       "      <th>Gesamt</th>\n",
       "      <th>WEN</th>\n",
       "      <th>RGB</th>\n",
       "      <th>STR</th>\n",
       "      <th>PAS</th>\n",
       "      <th>AMB</th>\n",
       "      <th>CHA</th>\n",
       "      <th>LAN</th>\n",
       "      <th>MÜH</th>\n",
       "      <th>ROS</th>\n",
       "    </tr>\n",
       "  </thead>\n",
       "  <tbody>\n",
       "    <tr>\n",
       "      <th>1</th>\n",
       "      <td>0</td>\n",
       "      <td>1928498680</td>\n",
       "      <td>0.00</td>\n",
       "      <td>BUCHSENKONTAKT</td>\n",
       "      <td>38,400.00</td>\n",
       "      <td>38,400.00</td>\n",
       "      <td>0.00</td>\n",
       "      <td>0.00</td>\n",
       "      <td>0.00</td>\n",
       "      <td>0.00</td>\n",
       "      <td>0.00</td>\n",
       "      <td>0.00</td>\n",
       "      <td>0.00</td>\n",
       "      <td>0.00</td>\n",
       "    </tr>\n",
       "    <tr>\n",
       "      <th>2</th>\n",
       "      <td>52</td>\n",
       "      <td>50266496</td>\n",
       "      <td>0.00</td>\n",
       "      <td>KABELBAND 300X4,8MM SCHWARZ</td>\n",
       "      <td>28,200.00</td>\n",
       "      <td>25,000.00</td>\n",
       "      <td>0.00</td>\n",
       "      <td>0.00</td>\n",
       "      <td>0.00</td>\n",
       "      <td>0.00</td>\n",
       "      <td>1,400.00</td>\n",
       "      <td>0.00</td>\n",
       "      <td>1,500.00</td>\n",
       "      <td>300.00</td>\n",
       "    </tr>\n",
       "  </tbody>\n",
       "</table>\n",
       "</div>"
      ],
      "text/plain": [
       "   Lfr.     Art.nr.  Ind.                 Beschreibung    Gesamt       WEN  \\\n",
       "1     0  1928498680  0.00               BUCHSENKONTAKT 38,400.00 38,400.00   \n",
       "2    52    50266496  0.00  KABELBAND 300X4,8MM SCHWARZ 28,200.00 25,000.00   \n",
       "\n",
       "   RGB  STR  PAS  AMB      CHA  LAN      MÜH    ROS  \n",
       "1 0.00 0.00 0.00 0.00     0.00 0.00     0.00   0.00  \n",
       "2 0.00 0.00 0.00 0.00 1,400.00 0.00 1,500.00 300.00  "
      ]
     },
     "metadata": {},
     "output_type": "display_data"
    },
    {
     "name": "stdout",
     "output_type": "stream",
     "text": [
      "<class 'pandas.core.frame.DataFrame'>\n",
      "RangeIndex: 66009 entries, 1 to 66009\n",
      "Data columns (total 14 columns):\n",
      " #   Column        Non-Null Count  Dtype  \n",
      "---  ------        --------------  -----  \n",
      " 0   Lfr.          66009 non-null  int64  \n",
      " 1   Art.nr.       66009 non-null  object \n",
      " 2   Ind.          66009 non-null  float64\n",
      " 3   Beschreibung  66009 non-null  object \n",
      " 4   Gesamt        65535 non-null  float64\n",
      " 5   WEN           65535 non-null  float64\n",
      " 6   RGB           65535 non-null  float64\n",
      " 7   STR           65535 non-null  float64\n",
      " 8   PAS           65535 non-null  float64\n",
      " 9   AMB           65535 non-null  float64\n",
      " 10  CHA           65535 non-null  float64\n",
      " 11  LAN           65535 non-null  float64\n",
      " 12  MÜH           65535 non-null  float64\n",
      " 13  ROS           65535 non-null  float64\n",
      "dtypes: float64(11), int64(1), object(2)\n",
      "memory usage: 7.1+ MB\n"
     ]
    },
    {
     "data": {
      "text/plain": [
       "None"
      ]
     },
     "metadata": {},
     "output_type": "display_data"
    }
   ],

   "source": [
    "display(verkaeufe.head(2))\n",
    "display(verkaeufe.info())"
   ]
  },
  {
   "attachments": {},
   "cell_type": "markdown",
   "metadata": {},
   "source": [
    "### Export to SQL\n",
    "\n",
    "Note: The following code blocks will be fully commented out as the dataframes are already uploaded. Running these codes would therefore cause an error due to restrictions on our SQL server."
   ]
  },
  {
   "cell_type": "code",
   "execution_count": null,
   "metadata": {},
   "outputs": [],
   "source": [
    "# # Import Lagerbestand data into SQL \n",
    "# table_name = 'lagerbestand'\n",
    "\n",
    "# # Write records stored in a dataframe to SQL database\n",
    "# if engine!=None:\n",
    "#     try:\n",
    "#         lagerbestand.to_sql(name=table_name, # Name of SQL table\n",
    "#                         con=engine, # Engine or connection\n",
    "#                         if_exists='replace', # Drop the table before inserting new values \n",
    "#                         schema=schema, # Use schema that was defined earlier\n",
    "#                         index=False, # Write DataFrame index as a column\n",
    "#                         chunksize=5000, # Specify the number of rows in each batch to be written at a time\n",
    "#                         method='multi') # Pass multiple values in a single INSERT clause\n",
    "#         print(f\"The {table_name} table was imported successfully.\")\n",
    "#     # Error handling\n",
    "#     except (Exception, psycopg2.DatabaseError) as error:\n",
    "#         print(error)\n",
    "#         engine = None"
   ]
  },
  {
   "cell_type": "code",
   "execution_count": null,
   "metadata": {},
   "outputs": [],
   "source": [
    "# # Import 'Lieferanten' data into SQL \n",
    "# table_name = 'lieferanten'\n",
    "\n",
    "# # Write records stored in a dataframe to SQL database\n",
    "# if engine!=None:\n",
    "#     try:\n",
    "#         lieferanten.to_sql(name=table_name, # Name of SQL table\n",
    "#                         con=engine, # Engine or connection\n",
    "#                         if_exists='replace', # Drop the table before inserting new values \n",
    "#                         schema=schema, # Use schema that was defined earlier\n",
    "#                         index=False, # Write DataFrame index as a column\n",
    "#                         chunksize=5000, # Specify the number of rows in each batch to be written at a time\n",
    "#                         method='multi') # Pass multiple values in a single INSERT clause\n",
    "#         print(f\"The {table_name} table was imported successfully.\")\n",
    "#     # Error handling\n",
    "#     except (Exception, psycopg2.DatabaseError) as error:\n",
    "#         print(error)\n",
    "#         engine = None"
   ]
  },
  {
   "cell_type": "code",
   "execution_count": null,
   "metadata": {},
   "outputs": [],
   "source": [
    "# # Import 'Verkaeufe' data into SQL \n",
    "# table_name = 'verkäufe'\n",
    "\n",
    "# # Write records stored in a dataframe to SQL database\n",
    "# if engine!=None:\n",
    "#     try:\n",
    "#         verkaeufe.to_sql(name=table_name, # Name of SQL table\n",
    "#                         con=engine, # Engine or connection\n",
    "#                         if_exists='replace', # Drop the table before inserting new values \n",
    "#                         schema=schema, # Use schema that was defined earlier\n",
    "#                         index=False, # Write DataFrame index as a column\n",
    "#                         chunksize=5000, # Specify the number of rows in each batch to be written at a time\n",
    "#                         method='multi') # Pass multiple values in a single INSERT clause\n",
    "#         print(f\"The {table_name} table was imported successfully.\")\n",
    "#     # Error handling\n",
    "#     except (Exception, psycopg2.DatabaseError) as error:\n",
    "#         print(error)\n",
    "#         engine = None"
   ]
  },
  {
   "attachments": {},
   "cell_type": "markdown",
   "metadata": {},
   "source": [
    "# Data Cleaning"
   ]
  },
  {
   "attachments": {},
   "cell_type": "markdown",
   "metadata": {},
   "source": [
    "## Loading dataframes"
   ]
  },
  {
   "cell_type": "code",
   "execution_count": null,
   "metadata": {},
   "outputs": [],
   "source": [
    "# Lagerbestand\n",
    "sql_query = f'select * from {schema}.lagerbestand'\n",
    "df_lagerbestand = sf.get_dataframe(sql_query)"
   ]
  },
  {
   "cell_type": "code",
   "execution_count": null,
   "metadata": {},
   "outputs": [],
   "source": [
    "# Lieferanten\n",
    "sql_query = f'select * from {schema}.lieferanten'\n",
    "df_lieferanten = sf.get_dataframe(sql_query)"
   ]
  },
  {
   "cell_type": "code",
   "execution_count": null,
   "metadata": {},
   "outputs": [],
   "source": [
    "# Verkaeufe\n",
    "sql_query = f'select * from {schema}.verkäufe'\n",
    "df_verkaeufe = sf.get_dataframe(sql_query)"
   ]
  },
  {
   "attachments": {},
   "cell_type": "markdown",
   "metadata": {},
   "source": [
    "## df_lagerbestand"
   ]
  },
  {
   "cell_type": "code",
   "execution_count": null,
   "metadata": {},
   "outputs": [],
   "source": [
    "# Adjust column names\n",
    "df_lagerbestand.columns = df_lagerbestand.columns.str.lower()\n",
    "df_lagerbestand.columns = [col.replace(\" \", \"_\") for col in df_lagerbestand.columns.tolist()]\n",
    "df_lagerbestand.columns = [col.replace(\".\", \"\") for col in df_lagerbestand.columns.tolist()]"
   ]
  },
  {
   "cell_type": "code",
   "execution_count": null,
   "metadata": {},
   "outputs": [],
   "source": [
    "# Change names of selected columns for clearer identification\n",
    "new_columns = {'beschr':'beschreibung',\n",
    "               'bkz':'bestellkennzeichen',\n",
    "               'vpe':'verp_einheit',\n",
    "               'stgr':'stat_gruppe',\n",
    "               'gesamt':'gesamt_lager',\n",
    "               'wen':'wen_lager',\n",
    "               'rgb':'rgb_lager',\n",
    "               'str':'str_lager',\n",
    "               'pas':'pas_lager',\n",
    "               'amb':'amb_lager',\n",
    "               'cha':'cha_lager',\n",
    "               'lan':'lan_lager',\n",
    "               'müh':'müh_lager',\n",
    "               'ros':'ros_lager'}\n",
    "\n",
    "df_lagerbestand = df_lagerbestand.rename(columns=new_columns)"
   ]
  },
  {
   "cell_type": "code",
   "execution_count": null,
   "metadata": {},
   "outputs": [],
   "source": [
    "# Additional changing of datatypes for index column (Integer due to it being categorical)\n",
    "df_lagerbestand['index'] = df_lagerbestand['index'].astype(int)"
   ]
  },
  {
   "attachments": {},
   "cell_type": "markdown",
   "metadata": {},
   "source": [
    "## df_lieferanten"
   ]
  },
  {
   "cell_type": "code",
   "execution_count": null,
   "metadata": {},
   "outputs": [],
   "source": [
    "# Adjust column names\n",
    "df_lieferanten.columns = df_lieferanten.columns.str.lower()\n",
    "df_lieferanten.columns = [col.replace(\" \", \"_\") for col in df_lieferanten.columns.tolist()]\n",
    "df_lieferanten.columns = [col.replace(\".\", \"\") for col in df_lieferanten.columns.tolist()]"
   ]
  },
  {
   "cell_type": "code",
   "execution_count": null,
   "metadata": {},
   "outputs": [],
   "source": [
    "# Change names of selected columns for clearer identification\n",
    "df_lieferanten = df_lieferanten.rename(columns={'beschreibung':'lieferant'})"
   ]
  },
  {
   "attachments": {},
   "cell_type": "markdown",
   "metadata": {},
   "source": [
    "## df_verkaeufe"
   ]
  },
  {
   "cell_type": "code",
   "execution_count": null,
   "metadata": {},
   "outputs": [],
   "source": [
    "# Adjust column names\n",
    "df_verkaeufe.columns = df_verkaeufe.columns.str.lower()\n",
    "df_verkaeufe.columns = [col.replace(\" \", \"_\") for col in df_verkaeufe.columns.tolist()]\n",
    "df_verkaeufe.columns = [col.replace(\".\", \"\") for col in df_verkaeufe.columns.tolist()]"
   ]
  },
  {
   "cell_type": "code",
   "execution_count": null,
   "metadata": {},
   "outputs": [],
   "source": [
    "# Change names of selected columns for clearer identification\n",
    "new_columns = {'lfr':'lfnr',\n",
    "               'ind': 'index',\n",
    "               'gesamt':'gesamt_vk',\n",
    "               'wen':'wen_vk',\n",
    "               'rgb':'rgb_vk',\n",
    "               'str':'str_vk',\n",
    "               'pas':'pas_vk',\n",
    "               'amb':'amb_vk',\n",
    "               'cha':'cha_vk',\n",
    "               'lan':'lan_vk',\n",
    "               'müh':'müh_vk',\n",
    "               'ros':'ros_vk'}\n",
    "\n",
    "df_verkaeufe = df_verkaeufe.rename(columns=new_columns)"
   ]
  },
  {
   "cell_type": "code",
   "execution_count": null,
   "metadata": {},
   "outputs": [],
   "source": [
    "# Additional changing of datatypes for index column (Integer due to it being categorical)\n",
    "df_verkaeufe['index'] = df_verkaeufe['index'].astype(int)"
   ]
  },
  {
   "attachments": {},
   "cell_type": "markdown",
   "metadata": {},
   "source": [
    "## Check dataframes"
   ]
  },
  {
   "cell_type": "code",
   "execution_count": null,
   "metadata": {},
    
   "outputs": [
    {
     "data": {
      "text/html": [
       "<div>\n",
       "<style scoped>\n",
       "    .dataframe tbody tr th:only-of-type {\n",
       "        vertical-align: middle;\n",
       "    }\n",
       "\n",
       "    .dataframe tbody tr th {\n",
       "        vertical-align: top;\n",
       "    }\n",
       "\n",
       "    .dataframe thead th {\n",
       "        text-align: right;\n",
       "    }\n",
       "</style>\n",
       "<table border=\"1\" class=\"dataframe\">\n",
       "  <thead>\n",
       "    <tr style=\"text-align: right;\">\n",
       "      <th></th>\n",
       "      <th>lfnr</th>\n",
       "      <th>artnr</th>\n",
       "      <th>index</th>\n",
       "      <th>beschreibung</th>\n",
       "      <th>bestellkennzeichen</th>\n",
       "      <th>verp_einheit</th>\n",
       "      <th>stat_gruppe</th>\n",
       "      <th>ltz_vk_ges</th>\n",
       "      <th>basispreis</th>\n",
       "      <th>basispr_summe</th>\n",
       "      <th>gesamt_lager</th>\n",
       "      <th>wen_lager</th>\n",
       "      <th>ltz_vk_wen</th>\n",
       "      <th>rgb_lager</th>\n",
       "      <th>ltz_vk_rgb</th>\n",
       "      <th>amb_lager</th>\n",
       "      <th>ltz_vk_amb</th>\n",
       "      <th>cha_lager</th>\n",
       "      <th>ltz_vk_cha</th>\n",
       "      <th>str_lager</th>\n",
       "      <th>ltz_vk_str</th>\n",
       "      <th>pas_lager</th>\n",
       "      <th>ltz_vk_pas</th>\n",
       "      <th>lan_lager</th>\n",
       "      <th>ltz_vk_lan</th>\n",
       "      <th>müh_lager</th>\n",
       "      <th>ltz_vk_müh</th>\n",
       "      <th>ros_lager</th>\n",
       "      <th>ltz_vk_ros</th>\n",
       "    </tr>\n",
       "  </thead>\n",
       "  <tbody>\n",
       "    <tr>\n",
       "      <th>0</th>\n",
       "      <td>430</td>\n",
       "      <td>08.607.83</td>\n",
       "      <td>0</td>\n",
       "      <td>N CORSA D  1,0L  44KW  BJ 2006</td>\n",
       "      <td>8</td>\n",
       "      <td>1</td>\n",
       "      <td>L20</td>\n",
       "      <td>2018-11-07</td>\n",
       "      <td>75.36</td>\n",
       "      <td>0.00</td>\n",
       "      <td>0</td>\n",
       "      <td>0</td>\n",
       "      <td>NaT</td>\n",
       "      <td>0</td>\n",
       "      <td>2018-11-07</td>\n",
       "      <td>0</td>\n",
       "      <td>2017-08-08</td>\n",
       "      <td>0</td>\n",
       "      <td>2016-04-29</td>\n",
       "      <td>0</td>\n",
       "      <td>2017-12-14</td>\n",
       "      <td>0</td>\n",
       "      <td>NaT</td>\n",
       "      <td>0</td>\n",
       "      <td>2017-08-31</td>\n",
       "      <td>0</td>\n",
       "      <td>NaT</td>\n",
       "      <td>0</td>\n",
       "      <td>2014-03-26</td>\n",
       "    </tr>\n",
       "    <tr>\n",
       "      <th>1</th>\n",
       "      <td>430</td>\n",
       "      <td>08.607.81</td>\n",
       "      <td>0</td>\n",
       "      <td>M CORSA D  1,4L  66KW  BJ 2006</td>\n",
       "      <td>8</td>\n",
       "      <td>1</td>\n",
       "      <td>L20</td>\n",
       "      <td>2021-08-04</td>\n",
       "      <td>93.63</td>\n",
       "      <td>0.00</td>\n",
       "      <td>0</td>\n",
       "      <td>0</td>\n",
       "      <td>2021-08-04</td>\n",
       "      <td>0</td>\n",
       "      <td>2017-07-10</td>\n",
       "      <td>0</td>\n",
       "      <td>2021-04-26</td>\n",
       "      <td>0</td>\n",
       "      <td>2021-04-28</td>\n",
       "      <td>0</td>\n",
       "      <td>2018-09-13</td>\n",
       "      <td>0</td>\n",
       "      <td>2019-07-31</td>\n",
       "      <td>0</td>\n",
       "      <td>2016-06-24</td>\n",
       "      <td>0</td>\n",
       "      <td>NaT</td>\n",
       "      <td>0</td>\n",
       "      <td>2015-05-04</td>\n",
       "    </tr>\n",
       "  </tbody>\n",
       "</table>\n",
       "</div>"
      ],
      "text/plain": [
       "  lfnr      artnr  index                    beschreibung bestellkennzeichen  \\\n",
       "0  430  08.607.83      0  N CORSA D  1,0L  44KW  BJ 2006                  8   \n",
       "1  430  08.607.81      0  M CORSA D  1,4L  66KW  BJ 2006                  8   \n",
       "\n",
       "  verp_einheit stat_gruppe ltz_vk_ges  basispreis  basispr_summe  \\\n",
       "0            1         L20 2018-11-07       75.36           0.00   \n",
       "1            1         L20 2021-08-04       93.63           0.00   \n",
       "\n",
       "   gesamt_lager  wen_lager ltz_vk_wen  rgb_lager ltz_vk_rgb  amb_lager  \\\n",
       "0             0          0        NaT          0 2018-11-07          0   \n",
       "1             0          0 2021-08-04          0 2017-07-10          0   \n",
       "\n",
       "  ltz_vk_amb  cha_lager ltz_vk_cha  str_lager ltz_vk_str  pas_lager  \\\n",
       "0 2017-08-08          0 2016-04-29          0 2017-12-14          0   \n",
       "1 2021-04-26          0 2021-04-28          0 2018-09-13          0   \n",
       "\n",
       "  ltz_vk_pas  lan_lager ltz_vk_lan  müh_lager ltz_vk_müh  ros_lager ltz_vk_ros  \n",
       "0        NaT          0 2017-08-31          0        NaT          0 2014-03-26  \n",
       "1 2019-07-31          0 2016-06-24          0        NaT          0 2015-05-04  "
      ]
     },
     "metadata": {},
     "output_type": "display_data"
    },
    {
     "name": "stdout",
     "output_type": "stream",
     "text": [
      "<class 'pandas.core.frame.DataFrame'>\n",
      "RangeIndex: 357829 entries, 0 to 357828\n",
      "Data columns (total 29 columns):\n",
      " #   Column              Non-Null Count   Dtype         \n",
      "---  ------              --------------   -----         \n",
      " 0   lfnr                357829 non-null  object        \n",
      " 1   artnr               357829 non-null  object        \n",
      " 2   index               357829 non-null  int64         \n",
      " 3   beschreibung        357829 non-null  object        \n",
      " 4   bestellkennzeichen  357829 non-null  object        \n",
      " 5   verp_einheit        357829 non-null  object        \n",
      " 6   stat_gruppe         357829 non-null  object        \n",
      " 7   ltz_vk_ges          338128 non-null  datetime64[ns]\n",
      " 8   basispreis          357829 non-null  float64       \n",
      " 9   basispr_summe       357829 non-null  float64       \n",
      " 10  gesamt_lager        357829 non-null  int64         \n",
      " 11  wen_lager           357829 non-null  int64         \n",
      " 12  ltz_vk_wen          204992 non-null  datetime64[ns]\n",
      " 13  rgb_lager           357829 non-null  int64         \n",
      " 14  ltz_vk_rgb          124822 non-null  datetime64[ns]\n",
      " 15  amb_lager           357829 non-null  int64         \n",
      " 16  ltz_vk_amb          112562 non-null  datetime64[ns]\n",
      " 17  cha_lager           357829 non-null  int64         \n",
      " 18  ltz_vk_cha          55833 non-null   datetime64[ns]\n",
      " 19  str_lager           357829 non-null  int64         \n",
      " 20  ltz_vk_str          149798 non-null  datetime64[ns]\n",
      " 21  pas_lager           357829 non-null  int64         \n",
      " 22  ltz_vk_pas          70193 non-null   datetime64[ns]\n",
      " 23  lan_lager           357829 non-null  int64         \n",
      " 24  ltz_vk_lan          89659 non-null   datetime64[ns]\n",
      " 25  müh_lager           357829 non-null  int64         \n",
      " 26  ltz_vk_müh          77325 non-null   datetime64[ns]\n",
      " 27  ros_lager           357829 non-null  int64         \n",
      " 28  ltz_vk_ros          112682 non-null  datetime64[ns]\n",
      "dtypes: datetime64[ns](10), float64(2), int64(11), object(6)\n",
      "memory usage: 79.2+ MB\n"
     ]
    },
    {
     "data": {
      "text/plain": [
       "None"
      ]
     },
     "metadata": {},
     "output_type": "display_data"
    }
   ],

   "source": [
    "display(df_lagerbestand.head(2))\n",
    "display(df_lagerbestand.info())"
   ]
  },
  {
   "cell_type": "code",
   "execution_count": null,
   "metadata": {},

   "outputs": [
    {
     "data": {
      "text/html": [
       "<div>\n",
       "<style scoped>\n",
       "    .dataframe tbody tr th:only-of-type {\n",
       "        vertical-align: middle;\n",
       "    }\n",
       "\n",
       "    .dataframe tbody tr th {\n",
       "        vertical-align: top;\n",
       "    }\n",
       "\n",
       "    .dataframe thead th {\n",
       "        text-align: right;\n",
       "    }\n",
       "</style>\n",
       "<table border=\"1\" class=\"dataframe\">\n",
       "  <thead>\n",
       "    <tr style=\"text-align: right;\">\n",
       "      <th></th>\n",
       "      <th>lfnr</th>\n",
       "      <th>lieferant</th>\n",
       "    </tr>\n",
       "  </thead>\n",
       "  <tbody>\n",
       "    <tr>\n",
       "      <th>0</th>\n",
       "      <td>0</td>\n",
       "      <td>BOSCH</td>\n",
       "    </tr>\n",
       "    <tr>\n",
       "      <th>1</th>\n",
       "      <td>1</td>\n",
       "      <td>HELLA</td>\n",
       "    </tr>\n",
       "  </tbody>\n",
       "</table>\n",
       "</div>"
      ],
      "text/plain": [
       "  lfnr lieferant\n",
       "0    0     BOSCH\n",
       "1    1     HELLA"
      ]
     },
     "metadata": {},
     "output_type": "display_data"
    },
    {
     "name": "stdout",
     "output_type": "stream",
     "text": [
      "<class 'pandas.core.frame.DataFrame'>\n",
      "RangeIndex: 378 entries, 0 to 377\n",
      "Data columns (total 2 columns):\n",
      " #   Column     Non-Null Count  Dtype \n",
      "---  ------     --------------  ----- \n",
      " 0   lfnr       378 non-null    object\n",
      " 1   lieferant  376 non-null    object\n",
      "dtypes: object(2)\n",
      "memory usage: 6.0+ KB\n"
     ]
    },
    {
     "data": {
      "text/plain": [
       "None"
      ]
     },
     "metadata": {},
     "output_type": "display_data"
    }
   ],

   "source": [
    "display(df_lieferanten.head(2))\n",
    "display(df_lieferanten.info())"
   ]
  },
  {
   "cell_type": "code",
   "execution_count": null,
   "metadata": {},

   "outputs": [
    {
     "data": {
      "text/html": [
       "<div>\n",
       "<style scoped>\n",
       "    .dataframe tbody tr th:only-of-type {\n",
       "        vertical-align: middle;\n",
       "    }\n",
       "\n",
       "    .dataframe tbody tr th {\n",
       "        vertical-align: top;\n",
       "    }\n",
       "\n",
       "    .dataframe thead th {\n",
       "        text-align: right;\n",
       "    }\n",
       "</style>\n",
       "<table border=\"1\" class=\"dataframe\">\n",
       "  <thead>\n",
       "    <tr style=\"text-align: right;\">\n",
       "      <th></th>\n",
       "      <th>lfnr</th>\n",
       "      <th>artnr</th>\n",
       "      <th>index</th>\n",
       "      <th>beschreibung</th>\n",
       "      <th>wawi_artikeleinstandspreis_(fest)</th>\n",
       "      <th>gesamt_vk</th>\n",
       "      <th>wen_vk</th>\n",
       "      <th>rgb_vk</th>\n",
       "      <th>str_vk</th>\n",
       "      <th>pas_vk</th>\n",
       "      <th>amb_vk</th>\n",
       "      <th>cha_vk</th>\n",
       "      <th>lan_vk</th>\n",
       "      <th>müh_vk</th>\n",
       "      <th>ros_vk</th>\n",
       "    </tr>\n",
       "  </thead>\n",
       "  <tbody>\n",
       "    <tr>\n",
       "      <th>0</th>\n",
       "      <td>0</td>\n",
       "      <td>1928498680</td>\n",
       "      <td>0</td>\n",
       "      <td>BUCHSENKONTAKT</td>\n",
       "      <td>0.17</td>\n",
       "      <td>38400</td>\n",
       "      <td>38400</td>\n",
       "      <td>0</td>\n",
       "      <td>0</td>\n",
       "      <td>0</td>\n",
       "      <td>0</td>\n",
       "      <td>0</td>\n",
       "      <td>0</td>\n",
       "      <td>0</td>\n",
       "      <td>0</td>\n",
       "    </tr>\n",
       "    <tr>\n",
       "      <th>1</th>\n",
       "      <td>52</td>\n",
       "      <td>50266496</td>\n",
       "      <td>0</td>\n",
       "      <td>KABELBAND 300X4,8MM SCHWARZ</td>\n",
       "      <td>0.05</td>\n",
       "      <td>28200</td>\n",
       "      <td>25000</td>\n",
       "      <td>0</td>\n",
       "      <td>0</td>\n",
       "      <td>0</td>\n",
       "      <td>0</td>\n",
       "      <td>1400</td>\n",
       "      <td>0</td>\n",
       "      <td>1500</td>\n",
       "      <td>300</td>\n",
       "    </tr>\n",
       "  </tbody>\n",
       "</table>\n",
       "</div>"
      ],
      "text/plain": [
       "  lfnr       artnr  index                 beschreibung  \\\n",
       "0    0  1928498680      0               BUCHSENKONTAKT   \n",
       "1   52    50266496      0  KABELBAND 300X4,8MM SCHWARZ   \n",
       "\n",
       "   wawi_artikeleinstandspreis_(fest)  gesamt_vk  wen_vk  rgb_vk  str_vk  \\\n",
       "0                               0.17      38400   38400       0       0   \n",
       "1                               0.05      28200   25000       0       0   \n",
       "\n",
       "   pas_vk  amb_vk  cha_vk  lan_vk  müh_vk  ros_vk  \n",
       "0       0       0       0       0       0       0  \n",
       "1       0       0    1400       0    1500     300  "
      ]
     },
     "metadata": {},
     "output_type": "display_data"
    },
    {
     "name": "stdout",
     "output_type": "stream",
     "text": [
      "<class 'pandas.core.frame.DataFrame'>\n",
      "RangeIndex: 66010 entries, 0 to 66009\n",
      "Data columns (total 15 columns):\n",
      " #   Column                             Non-Null Count  Dtype  \n",
      "---  ------                             --------------  -----  \n",
      " 0   lfnr                               66010 non-null  object \n",
      " 1   artnr                              66010 non-null  object \n",
      " 2   index                              66010 non-null  int64  \n",
      " 3   beschreibung                       66010 non-null  object \n",
      " 4   wawi_artikeleinstandspreis_(fest)  66010 non-null  float64\n",
      " 5   gesamt_vk                          66010 non-null  int64  \n",
      " 6   wen_vk                             66010 non-null  int64  \n",
      " 7   rgb_vk                             66010 non-null  int64  \n",
      " 8   str_vk                             66010 non-null  int64  \n",
      " 9   pas_vk                             66010 non-null  int64  \n",
      " 10  amb_vk                             66010 non-null  int64  \n",
      " 11  cha_vk                             66010 non-null  int64  \n",
      " 12  lan_vk                             66010 non-null  int64  \n",
      " 13  müh_vk                             66010 non-null  int64  \n",
      " 14  ros_vk                             66010 non-null  int64  \n",
      "dtypes: float64(1), int64(11), object(3)\n",
      "memory usage: 7.6+ MB\n"
     ]
    },
    {
     "data": {
      "text/plain": [
       "None"
      ]
     },
     "metadata": {},
     "output_type": "display_data"
    }
   ],

   "source": [
    "display(df_verkaeufe.head(2))\n",
    "display(df_verkaeufe.info())"
   ]
  },
  {
   "attachments": {},
   "cell_type": "markdown",
   "metadata": {},
   "source": [
    "# Merging tables to df_master"
   ]
  },
  {
   "cell_type": "code",
   "execution_count": null,
   "metadata": {},
   "outputs": [],
   "source": [
    "# Merging df_lagerbestand and df_lieferanten\n",
    "df_master = df_lagerbestand.merge(df_lieferanten, how='left', on='lfnr')"
   ]
  },
  {
   "cell_type": "code",
   "execution_count": null,
   "metadata": {},
   "outputs": [],
   "source": [
    "# Merging df_verkaeufe on df_master\n",
    "df_master = df_master.merge(df_verkaeufe, how='left', on=['lfnr', 'artnr', 'index', 'beschreibung'])"
   ]
  },
  {
   "cell_type": "code",
   "execution_count": null,
   "metadata": {},
   "outputs": [],
   "source": [
    "# Adjusting column positions\n",
    "new_column_order = ['lfnr','lieferant', 'artnr', 'beschreibung', 'index', 'bestellkennzeichen',\n",
    "       'verp_einheit', 'stat_gruppe', 'ltz_vk_ges', 'basispreis',\n",
    "       'basispr_summe', 'gesamt_lager', 'wen_lager', 'ltz_vk_wen', 'rgb_lager',\n",
    "       'ltz_vk_rgb', 'amb_lager', 'ltz_vk_amb', 'cha_lager', 'ltz_vk_cha',\n",
    "       'str_lager', 'ltz_vk_str', 'pas_lager', 'ltz_vk_pas', 'lan_lager',\n",
    "       'ltz_vk_lan', 'müh_lager', 'ltz_vk_müh', 'ros_lager', 'ltz_vk_ros',\n",
    "        'gesamt_vk', 'wen_vk', 'rgb_vk', 'str_vk', 'pas_vk',\n",
    "       'amb_vk', 'cha_vk', 'lan_vk', 'müh_vk', 'ros_vk']\n",
    "\n",
    "df_master = df_master.reindex(columns = new_column_order)"
   ]
  },
  {
   "attachments": {},
   "cell_type": "markdown",
   "metadata": {},
   "source": [
    "## Check df_master"
   ]
  },
  {
   "cell_type": "code",
   "execution_count": null,
   "metadata": {},

   "outputs": [
    {
     "data": {
      "text/html": [
       "<div>\n",
       "<style scoped>\n",
       "    .dataframe tbody tr th:only-of-type {\n",
       "        vertical-align: middle;\n",
       "    }\n",
       "\n",
       "    .dataframe tbody tr th {\n",
       "        vertical-align: top;\n",
       "    }\n",
       "\n",
       "    .dataframe thead th {\n",
       "        text-align: right;\n",
       "    }\n",
       "</style>\n",
       "<table border=\"1\" class=\"dataframe\">\n",
       "  <thead>\n",
       "    <tr style=\"text-align: right;\">\n",
       "      <th></th>\n",
       "      <th>lfnr</th>\n",
       "      <th>lieferant</th>\n",
       "      <th>artnr</th>\n",
       "      <th>beschreibung</th>\n",
       "      <th>index</th>\n",
       "      <th>bestellkennzeichen</th>\n",
       "      <th>verp_einheit</th>\n",
       "      <th>stat_gruppe</th>\n",
       "      <th>ltz_vk_ges</th>\n",
       "      <th>basispreis</th>\n",
       "      <th>basispr_summe</th>\n",
       "      <th>gesamt_lager</th>\n",
       "      <th>wen_lager</th>\n",
       "      <th>ltz_vk_wen</th>\n",
       "      <th>rgb_lager</th>\n",
       "      <th>ltz_vk_rgb</th>\n",
       "      <th>amb_lager</th>\n",
       "      <th>ltz_vk_amb</th>\n",
       "      <th>cha_lager</th>\n",
       "      <th>ltz_vk_cha</th>\n",
       "      <th>str_lager</th>\n",
       "      <th>ltz_vk_str</th>\n",
       "      <th>pas_lager</th>\n",
       "      <th>ltz_vk_pas</th>\n",
       "      <th>lan_lager</th>\n",
       "      <th>ltz_vk_lan</th>\n",
       "      <th>müh_lager</th>\n",
       "      <th>ltz_vk_müh</th>\n",
       "      <th>ros_lager</th>\n",
       "      <th>ltz_vk_ros</th>\n",
       "      <th>gesamt_vk</th>\n",
       "      <th>wen_vk</th>\n",
       "      <th>rgb_vk</th>\n",
       "      <th>str_vk</th>\n",
       "      <th>pas_vk</th>\n",
       "      <th>amb_vk</th>\n",
       "      <th>cha_vk</th>\n",
       "      <th>lan_vk</th>\n",
       "      <th>müh_vk</th>\n",
       "      <th>ros_vk</th>\n",
       "    </tr>\n",
       "  </thead>\n",
       "  <tbody>\n",
       "    <tr>\n",
       "      <th>0</th>\n",
       "      <td>430</td>\n",
       "      <td>Eberspächer Abgas</td>\n",
       "      <td>08.607.83</td>\n",
       "      <td>N CORSA D  1,0L  44KW  BJ 2006</td>\n",
       "      <td>0</td>\n",
       "      <td>8</td>\n",
       "      <td>1</td>\n",
       "      <td>L20</td>\n",
       "      <td>2018-11-07</td>\n",
       "      <td>75.36</td>\n",
       "      <td>0.00</td>\n",
       "      <td>0</td>\n",
       "      <td>0</td>\n",
       "      <td>NaT</td>\n",
       "      <td>0</td>\n",
       "      <td>2018-11-07</td>\n",
       "      <td>0</td>\n",
       "      <td>2017-08-08</td>\n",
       "      <td>0</td>\n",
       "      <td>2016-04-29</td>\n",
       "      <td>0</td>\n",
       "      <td>2017-12-14</td>\n",
       "      <td>0</td>\n",
       "      <td>NaT</td>\n",
       "      <td>0</td>\n",
       "      <td>2017-08-31</td>\n",
       "      <td>0</td>\n",
       "      <td>NaT</td>\n",
       "      <td>0</td>\n",
       "      <td>2014-03-26</td>\n",
       "      <td>NaN</td>\n",
       "      <td>NaN</td>\n",
       "      <td>NaN</td>\n",
       "      <td>NaN</td>\n",
       "      <td>NaN</td>\n",
       "      <td>NaN</td>\n",
       "      <td>NaN</td>\n",
       "      <td>NaN</td>\n",
       "      <td>NaN</td>\n",
       "      <td>NaN</td>\n",
       "    </tr>\n",
       "    <tr>\n",
       "      <th>1</th>\n",
       "      <td>430</td>\n",
       "      <td>Eberspächer Abgas</td>\n",
       "      <td>08.607.81</td>\n",
       "      <td>M CORSA D  1,4L  66KW  BJ 2006</td>\n",
       "      <td>0</td>\n",
       "      <td>8</td>\n",
       "      <td>1</td>\n",
       "      <td>L20</td>\n",
       "      <td>2021-08-04</td>\n",
       "      <td>93.63</td>\n",
       "      <td>0.00</td>\n",
       "      <td>0</td>\n",
       "      <td>0</td>\n",
       "      <td>2021-08-04</td>\n",
       "      <td>0</td>\n",
       "      <td>2017-07-10</td>\n",
       "      <td>0</td>\n",
       "      <td>2021-04-26</td>\n",
       "      <td>0</td>\n",
       "      <td>2021-04-28</td>\n",
       "      <td>0</td>\n",
       "      <td>2018-09-13</td>\n",
       "      <td>0</td>\n",
       "      <td>2019-07-31</td>\n",
       "      <td>0</td>\n",
       "      <td>2016-06-24</td>\n",
       "      <td>0</td>\n",
       "      <td>NaT</td>\n",
       "      <td>0</td>\n",
       "      <td>2015-05-04</td>\n",
       "      <td>NaN</td>\n",
       "      <td>NaN</td>\n",
       "      <td>NaN</td>\n",
       "      <td>NaN</td>\n",
       "      <td>NaN</td>\n",
       "      <td>NaN</td>\n",
       "      <td>NaN</td>\n",
       "      <td>NaN</td>\n",
       "      <td>NaN</td>\n",
       "      <td>NaN</td>\n",
       "    </tr>\n",
       "  </tbody>\n",
       "</table>\n",
       "</div>"
      ],
      "text/plain": [
       "  lfnr          lieferant      artnr                    beschreibung  index  \\\n",
       "0  430  Eberspächer Abgas  08.607.83  N CORSA D  1,0L  44KW  BJ 2006      0   \n",
       "1  430  Eberspächer Abgas  08.607.81  M CORSA D  1,4L  66KW  BJ 2006      0   \n",
       "\n",
       "  bestellkennzeichen verp_einheit stat_gruppe ltz_vk_ges  basispreis  \\\n",
       "0                  8            1         L20 2018-11-07       75.36   \n",
       "1                  8            1         L20 2021-08-04       93.63   \n",
       "\n",
       "   basispr_summe  gesamt_lager  wen_lager ltz_vk_wen  rgb_lager ltz_vk_rgb  \\\n",
       "0           0.00             0          0        NaT          0 2018-11-07   \n",
       "1           0.00             0          0 2021-08-04          0 2017-07-10   \n",
       "\n",
       "   amb_lager ltz_vk_amb  cha_lager ltz_vk_cha  str_lager ltz_vk_str  \\\n",
       "0          0 2017-08-08          0 2016-04-29          0 2017-12-14   \n",
       "1          0 2021-04-26          0 2021-04-28          0 2018-09-13   \n",
       "\n",
       "   pas_lager ltz_vk_pas  lan_lager ltz_vk_lan  müh_lager ltz_vk_müh  \\\n",
       "0          0        NaT          0 2017-08-31          0        NaT   \n",
       "1          0 2019-07-31          0 2016-06-24          0        NaT   \n",
       "\n",
       "   ros_lager ltz_vk_ros  gesamt_vk  wen_vk  rgb_vk  str_vk  pas_vk  amb_vk  \\\n",
       "0          0 2014-03-26        NaN     NaN     NaN     NaN     NaN     NaN   \n",
       "1          0 2015-05-04        NaN     NaN     NaN     NaN     NaN     NaN   \n",
       "\n",
       "   cha_vk  lan_vk  müh_vk  ros_vk  \n",
       "0     NaN     NaN     NaN     NaN  \n",
       "1     NaN     NaN     NaN     NaN  "
      ]
     },
     "metadata": {},
     "output_type": "display_data"
    },
    {
     "name": "stdout",
     "output_type": "stream",
     "text": [
      "<class 'pandas.core.frame.DataFrame'>\n",
      "Int64Index: 357830 entries, 0 to 357829\n",
      "Data columns (total 40 columns):\n",
      " #   Column              Non-Null Count   Dtype         \n",
      "---  ------              --------------   -----         \n",
      " 0   lfnr                357830 non-null  object        \n",
      " 1   lieferant           357829 non-null  object        \n",
      " 2   artnr               357830 non-null  object        \n",
      " 3   beschreibung        357830 non-null  object        \n",
      " 4   index               357830 non-null  int64         \n",
      " 5   bestellkennzeichen  357830 non-null  object        \n",
      " 6   verp_einheit        357830 non-null  object        \n",
      " 7   stat_gruppe         357830 non-null  object        \n",
      " 8   ltz_vk_ges          338129 non-null  datetime64[ns]\n",
      " 9   basispreis          357830 non-null  float64       \n",
      " 10  basispr_summe       357830 non-null  float64       \n",
      " 11  gesamt_lager        357830 non-null  int64         \n",
      " 12  wen_lager           357830 non-null  int64         \n",
      " 13  ltz_vk_wen          204992 non-null  datetime64[ns]\n",
      " 14  rgb_lager           357830 non-null  int64         \n",
      " 15  ltz_vk_rgb          124822 non-null  datetime64[ns]\n",
      " 16  amb_lager           357830 non-null  int64         \n",
      " 17  ltz_vk_amb          112563 non-null  datetime64[ns]\n",
      " 18  cha_lager           357830 non-null  int64         \n",
      " 19  ltz_vk_cha          55834 non-null   datetime64[ns]\n",
      " 20  str_lager           357830 non-null  int64         \n",
      " 21  ltz_vk_str          149799 non-null  datetime64[ns]\n",
      " 22  pas_lager           357830 non-null  int64         \n",
      " 23  ltz_vk_pas          70194 non-null   datetime64[ns]\n",
      " 24  lan_lager           357830 non-null  int64         \n",
      " 25  ltz_vk_lan          89659 non-null   datetime64[ns]\n",
      " 26  müh_lager           357830 non-null  int64         \n",
      " 27  ltz_vk_müh          77325 non-null   datetime64[ns]\n",
      " 28  ros_lager           357830 non-null  int64         \n",
      " 29  ltz_vk_ros          112682 non-null  datetime64[ns]\n",
      " 30  gesamt_vk           56988 non-null   float64       \n",
      " 31  wen_vk              56988 non-null   float64       \n",
      " 32  rgb_vk              56988 non-null   float64       \n",
      " 33  str_vk              56988 non-null   float64       \n",
      " 34  pas_vk              56988 non-null   float64       \n",
      " 35  amb_vk              56988 non-null   float64       \n",
      " 36  cha_vk              56988 non-null   float64       \n",
      " 37  lan_vk              56988 non-null   float64       \n",
      " 38  müh_vk              56988 non-null   float64       \n",
      " 39  ros_vk              56988 non-null   float64       \n",
      "dtypes: datetime64[ns](10), float64(12), int64(11), object(7)\n",
      "memory usage: 111.9+ MB\n"
     ]
    },
    {
     "data": {
      "text/plain": [
       "None"
      ]
     },
     "metadata": {},
     "output_type": "display_data"
    }
   ],

   "source": [
    "display(df_master.head(2))\n",
    "display(df_master.info())"
   ]
  },
  {
   "attachments": {},
   "cell_type": "markdown",
   "metadata": {},
   "source": [
    "# Creating visualizations"
   ]
  },
  {
   "attachments": {},
   "cell_type": "markdown",
   "metadata": {},
   "source": [
    "## Visualize quality stock"
   ]
  },
  {
   "cell_type": "code",
   "execution_count": null,
   "metadata": {},

   "outputs": [
    {
     "ename": "KeyboardInterrupt",
     "evalue": "",
     "output_type": "error",
     "traceback": [
      "\u001b[0;31m---------------------------------------------------------------------------\u001b[0m",
      "\u001b[0;31mKeyboardInterrupt\u001b[0m                         Traceback (most recent call last)",
      "Cell \u001b[0;32mIn[43], line 39\u001b[0m\n\u001b[1;32m     34\u001b[0m z \u001b[39m=\u001b[39m \u001b[39m1\u001b[39m\n\u001b[1;32m     36\u001b[0m \u001b[39mfor\u001b[39;00m key, value \u001b[39min\u001b[39;00m locations\u001b[39m.\u001b[39mitems():\n\u001b[0;32m---> 39\u001b[0m     location \u001b[39m=\u001b[39m df_master\u001b[39m.\u001b[39;49mquery(key \u001b[39m+\u001b[39;49m \u001b[39m'\u001b[39;49m\u001b[39m_quality != \u001b[39;49m\u001b[39m\"\u001b[39;49m\u001b[39m0\u001b[39;49m\u001b[39m\"\u001b[39;49m\u001b[39m'\u001b[39;49m)\n\u001b[1;32m     41\u001b[0m     sub \u001b[39m=\u001b[39m sns\u001b[39m.\u001b[39mcountplot(ax\u001b[39m=\u001b[39maxes[y, z], x\u001b[39m=\u001b[39mkey \u001b[39m+\u001b[39m \u001b[39m'\u001b[39m\u001b[39m_quality\u001b[39m\u001b[39m'\u001b[39m, data\u001b[39m=\u001b[39mlocation, order\u001b[39m=\u001b[39mdisplay_order_quality)\n\u001b[1;32m     42\u001b[0m     axes[y, z]\u001b[39m.\u001b[39mset_title(\u001b[39m\"\u001b[39m\u001b[39mQualität \u001b[39m\u001b[39m\"\u001b[39m \u001b[39m+\u001b[39m value, fontsize\u001b[39m=\u001b[39m\u001b[39m15.0\u001b[39m)\n",
      "File \u001b[0;32m/opt/homebrew/Caskroom/miniconda/base/envs/nf_sql/lib/python3.9/site-packages/pandas/util/_decorators.py:331\u001b[0m, in \u001b[0;36mdeprecate_nonkeyword_arguments.<locals>.decorate.<locals>.wrapper\u001b[0;34m(*args, **kwargs)\u001b[0m\n\u001b[1;32m    325\u001b[0m \u001b[39mif\u001b[39;00m \u001b[39mlen\u001b[39m(args) \u001b[39m>\u001b[39m num_allow_args:\n\u001b[1;32m    326\u001b[0m     warnings\u001b[39m.\u001b[39mwarn(\n\u001b[1;32m    327\u001b[0m         msg\u001b[39m.\u001b[39mformat(arguments\u001b[39m=\u001b[39m_format_argument_list(allow_args)),\n\u001b[1;32m    328\u001b[0m         \u001b[39mFutureWarning\u001b[39;00m,\n\u001b[1;32m    329\u001b[0m         stacklevel\u001b[39m=\u001b[39mfind_stack_level(),\n\u001b[1;32m    330\u001b[0m     )\n\u001b[0;32m--> 331\u001b[0m \u001b[39mreturn\u001b[39;00m func(\u001b[39m*\u001b[39;49margs, \u001b[39m*\u001b[39;49m\u001b[39m*\u001b[39;49mkwargs)\n",
      "File \u001b[0;32m/opt/homebrew/Caskroom/miniconda/base/envs/nf_sql/lib/python3.9/site-packages/pandas/core/frame.py:4477\u001b[0m, in \u001b[0;36mDataFrame.query\u001b[0;34m(self, expr, inplace, **kwargs)\u001b[0m\n\u001b[1;32m   4474\u001b[0m res \u001b[39m=\u001b[39m \u001b[39mself\u001b[39m\u001b[39m.\u001b[39meval(expr, \u001b[39m*\u001b[39m\u001b[39m*\u001b[39mkwargs)\n\u001b[1;32m   4476\u001b[0m \u001b[39mtry\u001b[39;00m:\n\u001b[0;32m-> 4477\u001b[0m     result \u001b[39m=\u001b[39m \u001b[39mself\u001b[39;49m\u001b[39m.\u001b[39;49mloc[res]\n\u001b[1;32m   4478\u001b[0m \u001b[39mexcept\u001b[39;00m \u001b[39mValueError\u001b[39;00m:\n\u001b[1;32m   4479\u001b[0m     \u001b[39m# when res is multi-dimensional loc raises, but this is sometimes a\u001b[39;00m\n\u001b[1;32m   4480\u001b[0m     \u001b[39m# valid query\u001b[39;00m\n\u001b[1;32m   4481\u001b[0m     result \u001b[39m=\u001b[39m \u001b[39mself\u001b[39m[res]\n",
      "File \u001b[0;32m/opt/homebrew/Caskroom/miniconda/base/envs/nf_sql/lib/python3.9/site-packages/pandas/core/indexing.py:1073\u001b[0m, in \u001b[0;36m_LocationIndexer.__getitem__\u001b[0;34m(self, key)\u001b[0m\n\u001b[1;32m   1070\u001b[0m axis \u001b[39m=\u001b[39m \u001b[39mself\u001b[39m\u001b[39m.\u001b[39maxis \u001b[39mor\u001b[39;00m \u001b[39m0\u001b[39m\n\u001b[1;32m   1072\u001b[0m maybe_callable \u001b[39m=\u001b[39m com\u001b[39m.\u001b[39mapply_if_callable(key, \u001b[39mself\u001b[39m\u001b[39m.\u001b[39mobj)\n\u001b[0;32m-> 1073\u001b[0m \u001b[39mreturn\u001b[39;00m \u001b[39mself\u001b[39;49m\u001b[39m.\u001b[39;49m_getitem_axis(maybe_callable, axis\u001b[39m=\u001b[39;49maxis)\n",
      "File \u001b[0;32m/opt/homebrew/Caskroom/miniconda/base/envs/nf_sql/lib/python3.9/site-packages/pandas/core/indexing.py:1292\u001b[0m, in \u001b[0;36m_LocIndexer._getitem_axis\u001b[0;34m(self, key, axis)\u001b[0m\n\u001b[1;32m   1290\u001b[0m     \u001b[39mreturn\u001b[39;00m \u001b[39mself\u001b[39m\u001b[39m.\u001b[39m_get_slice_axis(key, axis\u001b[39m=\u001b[39maxis)\n\u001b[1;32m   1291\u001b[0m \u001b[39melif\u001b[39;00m com\u001b[39m.\u001b[39mis_bool_indexer(key):\n\u001b[0;32m-> 1292\u001b[0m     \u001b[39mreturn\u001b[39;00m \u001b[39mself\u001b[39;49m\u001b[39m.\u001b[39;49m_getbool_axis(key, axis\u001b[39m=\u001b[39;49maxis)\n\u001b[1;32m   1293\u001b[0m \u001b[39melif\u001b[39;00m is_list_like_indexer(key):\n\u001b[1;32m   1294\u001b[0m \n\u001b[1;32m   1295\u001b[0m     \u001b[39m# an iterable multi-selection\u001b[39;00m\n\u001b[1;32m   1296\u001b[0m     \u001b[39mif\u001b[39;00m \u001b[39mnot\u001b[39;00m (\u001b[39misinstance\u001b[39m(key, \u001b[39mtuple\u001b[39m) \u001b[39mand\u001b[39;00m \u001b[39misinstance\u001b[39m(labels, MultiIndex)):\n",
      "File \u001b[0;32m/opt/homebrew/Caskroom/miniconda/base/envs/nf_sql/lib/python3.9/site-packages/pandas/core/indexing.py:1093\u001b[0m, in \u001b[0;36m_LocationIndexer._getbool_axis\u001b[0;34m(self, key, axis)\u001b[0m\n\u001b[1;32m   1091\u001b[0m key \u001b[39m=\u001b[39m check_bool_indexer(labels, key)\n\u001b[1;32m   1092\u001b[0m inds \u001b[39m=\u001b[39m key\u001b[39m.\u001b[39mnonzero()[\u001b[39m0\u001b[39m]\n\u001b[0;32m-> 1093\u001b[0m \u001b[39mreturn\u001b[39;00m \u001b[39mself\u001b[39;49m\u001b[39m.\u001b[39;49mobj\u001b[39m.\u001b[39;49m_take_with_is_copy(inds, axis\u001b[39m=\u001b[39;49maxis)\n",
      "File \u001b[0;32m/opt/homebrew/Caskroom/miniconda/base/envs/nf_sql/lib/python3.9/site-packages/pandas/core/generic.py:3902\u001b[0m, in \u001b[0;36mNDFrame._take_with_is_copy\u001b[0;34m(self, indices, axis)\u001b[0m\n\u001b[1;32m   3894\u001b[0m \u001b[39mdef\u001b[39;00m \u001b[39m_take_with_is_copy\u001b[39m(\u001b[39mself\u001b[39m: NDFrameT, indices, axis\u001b[39m=\u001b[39m\u001b[39m0\u001b[39m) \u001b[39m-\u001b[39m\u001b[39m>\u001b[39m NDFrameT:\n\u001b[1;32m   3895\u001b[0m     \u001b[39m\"\"\"\u001b[39;00m\n\u001b[1;32m   3896\u001b[0m \u001b[39m    Internal version of the `take` method that sets the `_is_copy`\u001b[39;00m\n\u001b[1;32m   3897\u001b[0m \u001b[39m    attribute to keep track of the parent dataframe (using in indexing\u001b[39;00m\n\u001b[0;32m   (...)\u001b[0m\n\u001b[1;32m   3900\u001b[0m \u001b[39m    See the docstring of `take` for full explanation of the parameters.\u001b[39;00m\n\u001b[1;32m   3901\u001b[0m \u001b[39m    \"\"\"\u001b[39;00m\n\u001b[0;32m-> 3902\u001b[0m     result \u001b[39m=\u001b[39m \u001b[39mself\u001b[39;49m\u001b[39m.\u001b[39;49m_take(indices\u001b[39m=\u001b[39;49mindices, axis\u001b[39m=\u001b[39;49maxis)\n\u001b[1;32m   3903\u001b[0m     \u001b[39m# Maybe set copy if we didn't actually change the index.\u001b[39;00m\n\u001b[1;32m   3904\u001b[0m     \u001b[39mif\u001b[39;00m \u001b[39mnot\u001b[39;00m result\u001b[39m.\u001b[39m_get_axis(axis)\u001b[39m.\u001b[39mequals(\u001b[39mself\u001b[39m\u001b[39m.\u001b[39m_get_axis(axis)):\n",
      "File \u001b[0;32m/opt/homebrew/Caskroom/miniconda/base/envs/nf_sql/lib/python3.9/site-packages/pandas/core/generic.py:3886\u001b[0m, in \u001b[0;36mNDFrame._take\u001b[0;34m(self, indices, axis, convert_indices)\u001b[0m\n\u001b[1;32m   3879\u001b[0m \u001b[39m\"\"\"\u001b[39;00m\n\u001b[1;32m   3880\u001b[0m \u001b[39mInternal version of the `take` allowing specification of additional args.\u001b[39;00m\n\u001b[1;32m   3881\u001b[0m \n\u001b[1;32m   3882\u001b[0m \u001b[39mSee the docstring of `take` for full explanation of the parameters.\u001b[39;00m\n\u001b[1;32m   3883\u001b[0m \u001b[39m\"\"\"\u001b[39;00m\n\u001b[1;32m   3884\u001b[0m \u001b[39mself\u001b[39m\u001b[39m.\u001b[39m_consolidate_inplace()\n\u001b[0;32m-> 3886\u001b[0m new_data \u001b[39m=\u001b[39m \u001b[39mself\u001b[39;49m\u001b[39m.\u001b[39;49m_mgr\u001b[39m.\u001b[39;49mtake(\n\u001b[1;32m   3887\u001b[0m     indices,\n\u001b[1;32m   3888\u001b[0m     axis\u001b[39m=\u001b[39;49m\u001b[39mself\u001b[39;49m\u001b[39m.\u001b[39;49m_get_block_manager_axis(axis),\n\u001b[1;32m   3889\u001b[0m     verify\u001b[39m=\u001b[39;49m\u001b[39mTrue\u001b[39;49;00m,\n\u001b[1;32m   3890\u001b[0m     convert_indices\u001b[39m=\u001b[39;49mconvert_indices,\n\u001b[1;32m   3891\u001b[0m )\n\u001b[1;32m   3892\u001b[0m \u001b[39mreturn\u001b[39;00m \u001b[39mself\u001b[39m\u001b[39m.\u001b[39m_constructor(new_data)\u001b[39m.\u001b[39m__finalize__(\u001b[39mself\u001b[39m, method\u001b[39m=\u001b[39m\u001b[39m\"\u001b[39m\u001b[39mtake\u001b[39m\u001b[39m\"\u001b[39m)\n",
      "File \u001b[0;32m/opt/homebrew/Caskroom/miniconda/base/envs/nf_sql/lib/python3.9/site-packages/pandas/core/internals/managers.py:978\u001b[0m, in \u001b[0;36mBaseBlockManager.take\u001b[0;34m(self, indexer, axis, verify, convert_indices)\u001b[0m\n\u001b[1;32m    975\u001b[0m     indexer \u001b[39m=\u001b[39m maybe_convert_indices(indexer, n, verify\u001b[39m=\u001b[39mverify)\n\u001b[1;32m    977\u001b[0m new_labels \u001b[39m=\u001b[39m \u001b[39mself\u001b[39m\u001b[39m.\u001b[39maxes[axis]\u001b[39m.\u001b[39mtake(indexer)\n\u001b[0;32m--> 978\u001b[0m \u001b[39mreturn\u001b[39;00m \u001b[39mself\u001b[39;49m\u001b[39m.\u001b[39;49mreindex_indexer(\n\u001b[1;32m    979\u001b[0m     new_axis\u001b[39m=\u001b[39;49mnew_labels,\n\u001b[1;32m    980\u001b[0m     indexer\u001b[39m=\u001b[39;49mindexer,\n\u001b[1;32m    981\u001b[0m     axis\u001b[39m=\u001b[39;49maxis,\n\u001b[1;32m    982\u001b[0m     allow_dups\u001b[39m=\u001b[39;49m\u001b[39mTrue\u001b[39;49;00m,\n\u001b[1;32m    983\u001b[0m     copy\u001b[39m=\u001b[39;49m\u001b[39mNone\u001b[39;49;00m,\n\u001b[1;32m    984\u001b[0m )\n",
      "File \u001b[0;32m/opt/homebrew/Caskroom/miniconda/base/envs/nf_sql/lib/python3.9/site-packages/pandas/core/internals/managers.py:751\u001b[0m, in \u001b[0;36mBaseBlockManager.reindex_indexer\u001b[0;34m(self, new_axis, indexer, axis, fill_value, allow_dups, copy, only_slice, use_na_proxy)\u001b[0m\n\u001b[1;32m    749\u001b[0m     parent \u001b[39m=\u001b[39m \u001b[39mNone\u001b[39;00m \u001b[39mif\u001b[39;00m com\u001b[39m.\u001b[39mall_none(\u001b[39m*\u001b[39mnew_refs) \u001b[39melse\u001b[39;00m \u001b[39mself\u001b[39m\n\u001b[1;32m    750\u001b[0m \u001b[39melse\u001b[39;00m:\n\u001b[0;32m--> 751\u001b[0m     new_blocks \u001b[39m=\u001b[39m [\n\u001b[1;32m    752\u001b[0m         blk\u001b[39m.\u001b[39mtake_nd(\n\u001b[1;32m    753\u001b[0m             indexer,\n\u001b[1;32m    754\u001b[0m             axis\u001b[39m=\u001b[39m\u001b[39m1\u001b[39m,\n\u001b[1;32m    755\u001b[0m             fill_value\u001b[39m=\u001b[39m(\n\u001b[1;32m    756\u001b[0m                 fill_value \u001b[39mif\u001b[39;00m fill_value \u001b[39mis\u001b[39;00m \u001b[39mnot\u001b[39;00m \u001b[39mNone\u001b[39;00m \u001b[39melse\u001b[39;00m blk\u001b[39m.\u001b[39mfill_value\n\u001b[1;32m    757\u001b[0m             ),\n\u001b[1;32m    758\u001b[0m         )\n\u001b[1;32m    759\u001b[0m         \u001b[39mfor\u001b[39;00m blk \u001b[39min\u001b[39;00m \u001b[39mself\u001b[39m\u001b[39m.\u001b[39mblocks\n\u001b[1;32m    760\u001b[0m     ]\n\u001b[1;32m    761\u001b[0m     new_refs \u001b[39m=\u001b[39m \u001b[39mNone\u001b[39;00m\n\u001b[1;32m    762\u001b[0m     parent \u001b[39m=\u001b[39m \u001b[39mNone\u001b[39;00m\n",
      "File \u001b[0;32m/opt/homebrew/Caskroom/miniconda/base/envs/nf_sql/lib/python3.9/site-packages/pandas/core/internals/managers.py:752\u001b[0m, in \u001b[0;36m<listcomp>\u001b[0;34m(.0)\u001b[0m\n\u001b[1;32m    749\u001b[0m     parent \u001b[39m=\u001b[39m \u001b[39mNone\u001b[39;00m \u001b[39mif\u001b[39;00m com\u001b[39m.\u001b[39mall_none(\u001b[39m*\u001b[39mnew_refs) \u001b[39melse\u001b[39;00m \u001b[39mself\u001b[39m\n\u001b[1;32m    750\u001b[0m \u001b[39melse\u001b[39;00m:\n\u001b[1;32m    751\u001b[0m     new_blocks \u001b[39m=\u001b[39m [\n\u001b[0;32m--> 752\u001b[0m         blk\u001b[39m.\u001b[39;49mtake_nd(\n\u001b[1;32m    753\u001b[0m             indexer,\n\u001b[1;32m    754\u001b[0m             axis\u001b[39m=\u001b[39;49m\u001b[39m1\u001b[39;49m,\n\u001b[1;32m    755\u001b[0m             fill_value\u001b[39m=\u001b[39;49m(\n\u001b[1;32m    756\u001b[0m                 fill_value \u001b[39mif\u001b[39;49;00m fill_value \u001b[39mis\u001b[39;49;00m \u001b[39mnot\u001b[39;49;00m \u001b[39mNone\u001b[39;49;00m \u001b[39melse\u001b[39;49;00m blk\u001b[39m.\u001b[39;49mfill_value\n\u001b[1;32m    757\u001b[0m             ),\n\u001b[1;32m    758\u001b[0m         )\n\u001b[1;32m    759\u001b[0m         \u001b[39mfor\u001b[39;00m blk \u001b[39min\u001b[39;00m \u001b[39mself\u001b[39m\u001b[39m.\u001b[39mblocks\n\u001b[1;32m    760\u001b[0m     ]\n\u001b[1;32m    761\u001b[0m     new_refs \u001b[39m=\u001b[39m \u001b[39mNone\u001b[39;00m\n\u001b[1;32m    762\u001b[0m     parent \u001b[39m=\u001b[39m \u001b[39mNone\u001b[39;00m\n",
      "File \u001b[0;32m/opt/homebrew/Caskroom/miniconda/base/envs/nf_sql/lib/python3.9/site-packages/pandas/core/internals/blocks.py:880\u001b[0m, in \u001b[0;36mBlock.take_nd\u001b[0;34m(self, indexer, axis, new_mgr_locs, fill_value)\u001b[0m\n\u001b[1;32m    877\u001b[0m     allow_fill \u001b[39m=\u001b[39m \u001b[39mTrue\u001b[39;00m\n\u001b[1;32m    879\u001b[0m \u001b[39m# Note: algos.take_nd has upcast logic similar to coerce_to_target_dtype\u001b[39;00m\n\u001b[0;32m--> 880\u001b[0m new_values \u001b[39m=\u001b[39m algos\u001b[39m.\u001b[39;49mtake_nd(\n\u001b[1;32m    881\u001b[0m     values, indexer, axis\u001b[39m=\u001b[39;49maxis, allow_fill\u001b[39m=\u001b[39;49mallow_fill, fill_value\u001b[39m=\u001b[39;49mfill_value\n\u001b[1;32m    882\u001b[0m )\n\u001b[1;32m    884\u001b[0m \u001b[39m# Called from three places in managers, all of which satisfy\u001b[39;00m\n\u001b[1;32m    885\u001b[0m \u001b[39m#  this assertion\u001b[39;00m\n\u001b[1;32m    886\u001b[0m \u001b[39massert\u001b[39;00m \u001b[39mnot\u001b[39;00m (axis \u001b[39m==\u001b[39m \u001b[39m0\u001b[39m \u001b[39mand\u001b[39;00m new_mgr_locs \u001b[39mis\u001b[39;00m \u001b[39mNone\u001b[39;00m)\n",
      "File \u001b[0;32m/opt/homebrew/Caskroom/miniconda/base/envs/nf_sql/lib/python3.9/site-packages/pandas/core/array_algos/take.py:117\u001b[0m, in \u001b[0;36mtake_nd\u001b[0;34m(arr, indexer, axis, fill_value, allow_fill)\u001b[0m\n\u001b[1;32m    114\u001b[0m     \u001b[39mreturn\u001b[39;00m arr\u001b[39m.\u001b[39mtake(indexer, fill_value\u001b[39m=\u001b[39mfill_value, allow_fill\u001b[39m=\u001b[39mallow_fill)\n\u001b[1;32m    116\u001b[0m arr \u001b[39m=\u001b[39m np\u001b[39m.\u001b[39masarray(arr)\n\u001b[0;32m--> 117\u001b[0m \u001b[39mreturn\u001b[39;00m _take_nd_ndarray(arr, indexer, axis, fill_value, allow_fill)\n",
      "File \u001b[0;32m/opt/homebrew/Caskroom/miniconda/base/envs/nf_sql/lib/python3.9/site-packages/pandas/core/array_algos/take.py:163\u001b[0m, in \u001b[0;36m_take_nd_ndarray\u001b[0;34m(arr, indexer, axis, fill_value, allow_fill)\u001b[0m\n\u001b[1;32m    158\u001b[0m     out \u001b[39m=\u001b[39m np\u001b[39m.\u001b[39mempty(out_shape, dtype\u001b[39m=\u001b[39mdtype)\n\u001b[1;32m    160\u001b[0m func \u001b[39m=\u001b[39m _get_take_nd_function(\n\u001b[1;32m    161\u001b[0m     arr\u001b[39m.\u001b[39mndim, arr\u001b[39m.\u001b[39mdtype, out\u001b[39m.\u001b[39mdtype, axis\u001b[39m=\u001b[39maxis, mask_info\u001b[39m=\u001b[39mmask_info\n\u001b[1;32m    162\u001b[0m )\n\u001b[0;32m--> 163\u001b[0m func(arr, indexer, out, fill_value)\n\u001b[1;32m    165\u001b[0m \u001b[39mif\u001b[39;00m flip_order:\n\u001b[1;32m    166\u001b[0m     out \u001b[39m=\u001b[39m out\u001b[39m.\u001b[39mT\n",
      "\u001b[0;31mKeyboardInterrupt\u001b[0m: "
     ]
    },
    {
     "data": {
      "image/png": "[encoded data removed]",
      "text/plain": [
       "<Figure size 2500x2000 with 12 Axes>"
      ]
     },
     "metadata": {},
     "output_type": "display_data"
    }
   ],

   "source": [
    "# Create a bar chart with subplots to display overall and subsidiary's number of articles in stock categorized into number of sales\n",
    "\n",
    "# Set up key and value of the Küblbeck locations in a dictionary\n",
    "locations = {'gesamt': 'Gesamt', \n",
    "             'wen': 'Weiden', \n",
    "             'rgb': 'Regensburg', \n",
    "             'amb': 'Amberg', \n",
    "             'cha': 'Cham', \n",
    "             'str': 'Straubing', \n",
    "             'pas': 'Passau', \n",
    "             'lan': 'Landshut', \n",
    "             'müh': 'Mühldorf', \n",
    "             'ros': 'Rosenheim'}\n",
    "\n",
    "# Defining wahrehousequality standards\n",
    "PE_categories = ['In stock, 4+ sales', 'In stock, 3 sales', 'In stock, 2 sales', 'In stock, 1 sale', 'In stock, 0 sales']\n",
    "display_order_quality = PE_categories\n",
    "\n",
    "for x in locations.keys():\n",
    "    PE_condition = [\n",
    "        (df_master[x+'_lager'] > 0) & (df_master[x+'_vk'] > 3),\n",
    "        (df_master[x+'_lager'] > 0) & (df_master[x+'_vk'] == 3),\n",
    "        (df_master[x+'_lager'] > 0) & (df_master[x+'_vk'] == 2),\n",
    "        (df_master[x+'_lager'] > 0) & (df_master[x+'_vk'] == 1),\n",
    "        (df_master[x+'_lager'] > 0) & (df_master[x+'_vk'] == 0)   \n",
    "    ]\n",
    "\n",
    "    df_master[x+'_quality'] = np.select(PE_condition, PE_categories)\n",
    "\n",
    "#Plotting\n",
    "fig, axes = plt.subplots(4, 3, figsize=(25,20))\n",
    "fig.suptitle('Warehouse management quality stock', fontweight='bold', fontsize=30)\n",
    "fig.tight_layout(pad=5.0)\n",
    "\n",
    "for i in range (13):\n",
    "    y = 0\n",
    "    z = 1\n",
    "\n",
    "    for key, value in locations.items():\n",
    "\n",
    "        # Create new columns with the quality  \n",
    "        location = df_master.query(key + '_quality != \"0\"')\n",
    "\n",
    "        # Plot tables\n",
    "        sub = sns.countplot(ax=axes[y, z], x=key + '_quality', data=location, order=display_order_quality)\n",
    "        axes[y, z].set_title(\"Qualität \" + value, fontsize=15.0)\n",
    "        axes[y, z].set_xlabel('Qualität', fontsize=10.0)\n",
    "        axes[y, z].set_ylabel('Anzahl', fontsize=10.0)\n",
    "        \n",
    "        total = location[key + '_quality'].count()\n",
    "\n",
    "        freq_series = location[key + '_quality'].value_counts()\n",
    "        freq_series = freq_series.reindex(display_order_quality)\n",
    "\n",
    "        rects = sub.patches\n",
    "        labels = [f'{(x/total)*100:.1f}%' for x in freq_series]\n",
    "        for rect, label in zip(rects, labels):\n",
    "            height = rect.get_height()\n",
    "            axes[y, z].text(rect.get_x() + rect.get_width() / 2, height + 5, label,\n",
    "                    ha='center', va='bottom')\n",
    "            \n",
    "        z += 1  \n",
    "        if y == 0 and z == 2:\n",
    "            y = 1\n",
    "            z = 0\n",
    "            \n",
    "        elif z >= 3:\n",
    "            y += 1\n",
    "            z = 0\n"
   ]
  },
  {
   "attachments": {},
   "cell_type": "markdown",
   "metadata": {},
   "source": [
    "## Visualize quality sales"
   ]
  },
  {
   "cell_type": "code",
   "execution_count": null,
   "metadata": {},
   "outputs": [],
   "source": [
    "# Create a bar chart with subplots to display overall and subsidiary's number of articles categorized into number of sales and if in or out of stock \n",
    "# Set up key and value of the Küblbeck locations in a dictionary\n",
    "locations = {'gesamt': 'Gesamt', \n",
    "             'wen': 'Weiden', \n",
    "             'rgb': 'Regensburg', \n",
    "             'amb': 'Amberg', \n",
    "             'cha': 'Cham', \n",
    "             'str': 'Straubing', \n",
    "             'pas': 'Passau', \n",
    "             'lan': 'Landshut', \n",
    "             'müh': 'Mühldorf', \n",
    "             'ros': 'Rosenheim'}\n",
    "\n",
    "# Defining wahrehousequality standards\n",
    "PE_categories = ['4+ sales, in stock', '4+ sales, no stock', '1-3 sales, in stock', '1-3 sales, no stock', '0 sales, in stock']\n",
    "display_order_quality = PE_categories\n",
    "\n",
    "for x in locations.keys():\n",
    "    PE_condition = [\n",
    "        (df_master[x+'_lager'] > 0) & (df_master[x+'_vk'] > 3),\n",
    "        (df_master[x+'_lager'] == 0) & (df_master[x+'_vk'] > 3),\n",
    "        (df_master[x+'_lager'] > 0) & (df_master[x+'_vk'] < 3) & (df_master[x+'_vk'] > 0),\n",
    "        (df_master[x+'_lager'] == 0) & (df_master[x+'_vk'] < 3) & (df_master[x+'_vk'] > 0),\n",
    "        (df_master[x+'_lager'] > 0) & (df_master[x+'_vk'] == 0)\n",
    "    ]\n",
    "\n",
    "    df_master[x+'_quality'] = np.select(PE_condition, PE_categories)\n",
    "\n",
    "#Plotting\n",
    "fig, axes = plt.subplots(4, 3, figsize=(25,20))\n",
    "fig.suptitle('Warehouse management quality sales', fontweight='bold', fontsize=30)\n",
    "fig.tight_layout(pad=5.0)\n",
    "\n",
    "for i in range (13):\n",
    "    y = 0\n",
    "    z = 1\n",
    "\n",
    "    for key, value in locations.items():\n",
    "\n",
    "        # Create new columns with the quality    \n",
    "        location = df_master.query(key + '_quality != \"0\"').reset_index()\n",
    "\n",
    "        # Plot tables\n",
    "        sub = sns.countplot(ax=axes[y, z], x=key + '_quality', data=location, order=display_order_quality)\n",
    "        axes[y, z].set_title(\"Qualität \" + value, fontsize=15.0)\n",
    "        axes[y, z].set_xlabel('Qualität', fontsize=10.0)\n",
    "        axes[y, z].set_ylabel('Anzahl', fontsize=10.0)\n",
    "        total = location[key + '_quality'].count()\n",
    "\n",
    "        freq_series = location[key + '_quality'].value_counts()\n",
    "        freq_series = freq_series.reindex(display_order_quality)\n",
    "\n",
    "        rects = sub.patches\n",
    "        labels = [f'{(x/total)*100:.1f}%' for x in freq_series]\n",
    "        for rect, label in zip(rects, labels):\n",
    "            height = rect.get_height()\n",
    "            axes[y, z].text(rect.get_x() + rect.get_width() / 2, height + 5, label,\n",
    "                    ha='center', va='bottom')\n",
    "            \n",
    "        z += 1  \n",
    "        if y == 0 and z == 2:\n",
    "            y = 1\n",
    "            z = 0\n",
    "            \n",
    "        elif z >= 3:\n",
    "            y += 1\n",
    "            z = 0\n"
   ]
  },
  {
   "attachments": {},
   "cell_type": "markdown",
   "metadata": {},
   "source": [
    "# Preparing Distribution Method"
   ]
  },
  {
   "cell_type": "code",
   "execution_count": null,
   "metadata": {},
   "outputs": [
    {
     "ename": "NameError",
     "evalue": "name 'df_master' is not defined",
     "output_type": "error",
     "traceback": [
      "\u001b[0;31m---------------------------------------------------------------------------\u001b[0m",
      "\u001b[0;31mNameError\u001b[0m                                 Traceback (most recent call last)",
      "Cell \u001b[0;32mIn[1], line 1\u001b[0m\n\u001b[0;32m----> 1\u001b[0m df_master_quality \u001b[39m=\u001b[39m df_master\u001b[39m.\u001b[39mquery(\u001b[39m'\u001b[39m\u001b[39mgesamt_quality != \u001b[39m\u001b[39m\"\u001b[39m\u001b[39m0\u001b[39m\u001b[39m\"\u001b[39m\u001b[39m'\u001b[39m)\n\u001b[1;32m      3\u001b[0m \u001b[39m# Set up key and value of the Küblbeck locations in a dictionary\u001b[39;00m\n\u001b[1;32m      4\u001b[0m locations \u001b[39m=\u001b[39m {\u001b[39m'\u001b[39m\u001b[39mwen\u001b[39m\u001b[39m'\u001b[39m: \u001b[39m'\u001b[39m\u001b[39mWeiden\u001b[39m\u001b[39m'\u001b[39m, \n\u001b[1;32m      5\u001b[0m              \u001b[39m'\u001b[39m\u001b[39mrgb\u001b[39m\u001b[39m'\u001b[39m: \u001b[39m'\u001b[39m\u001b[39mRegensburg\u001b[39m\u001b[39m'\u001b[39m, \n\u001b[1;32m      6\u001b[0m              \u001b[39m'\u001b[39m\u001b[39mamb\u001b[39m\u001b[39m'\u001b[39m: \u001b[39m'\u001b[39m\u001b[39mAmberg\u001b[39m\u001b[39m'\u001b[39m, \n\u001b[0;32m   (...)\u001b[0m\n\u001b[1;32m     11\u001b[0m              \u001b[39m'\u001b[39m\u001b[39mmüh\u001b[39m\u001b[39m'\u001b[39m: \u001b[39m'\u001b[39m\u001b[39mMühldorf\u001b[39m\u001b[39m'\u001b[39m, \n\u001b[1;32m     12\u001b[0m              \u001b[39m'\u001b[39m\u001b[39mros\u001b[39m\u001b[39m'\u001b[39m: \u001b[39m'\u001b[39m\u001b[39mRosenheim\u001b[39m\u001b[39m'\u001b[39m}\n",
      "\u001b[0;31mNameError\u001b[0m: name 'df_master' is not defined"
     ]
    }
   ],
   "source": [
    "df_master_quality = df_master.query('gesamt_quality != \"0\"')\n",
    "\n",
    "# Set up key and value of the Küblbeck locations in a dictionary\n",
    "locations = {'wen': 'Weiden', \n",
    "             'rgb': 'Regensburg', \n",
    "             'amb': 'Amberg', \n",
    "             'cha': 'Cham', \n",
    "             'str': 'Straubing', \n",
    "             'pas': 'Passau', \n",
    "             'lan': 'Landshut', \n",
    "             'müh': 'Mühldorf', \n",
    "             'ros': 'Rosenheim'}\n",
    "\n",
    "# Defining wahrehousequality standards\n",
    "PE_categories = ['4+ sales, in stock', '4+ sales, no stock', '1-3 sales, in stock', '1-3 sales, no stock', '0 sales, in stock']\n",
    "display_order_quality = PE_categories\n",
    "\n",
    "for x in locations.keys():\n",
    "    PE_condition = [\n",
    "        (df_master[x+'_lager'] > 0) & (df_master[x+'_vk'] > 3),\n",
    "        (df_master[x+'_lager'] == 0) & (df_master[x+'_vk'] > 3),\n",
    "        (df_master[x+'_lager'] > 0) & (df_master[x+'_vk'] < 3) & (df_master[x+'_vk'] > 0),\n",
    "        (df_master[x+'_lager'] == 0) & (df_master[x+'_vk'] < 3) & (df_master[x+'_vk'] > 0),\n",
    "        (df_master[x+'_lager'] > 0) & (df_master[x+'_vk'] == 0)\n",
    "    ]\n",
    "\n",
    "    df_master[x+'_quality'] = np.select(PE_condition, PE_categories)\n",
    "\n",
    "# Create new columns with the quality\n",
    "for key, value in locations.items():\n",
    "    df_master_quality['take_from_' + key] = df_master_quality.apply(lambda row: ', '.join([k for k, v in locations.items() if row[k + '_quality'] == '4+ sales, no stock']) if row[key + '_quality'] in ['1-3 sales, in stock', '0 sales, in stock'] else '-', axis=1)\n",
    "\n",
    "df_master_quality_final = df_master_quality[~(df_master_quality.filter(like='take_from_').isin(['-', ''])).all(axis=1)]"
   ]
  },
  {
   "attachments": {},
   "cell_type": "markdown",
   "metadata": {},
   "source": [
    "# Code for Distribution Method\n"
   ]
  },
  {
   "cell_type": "code",
   "execution_count": null,
   "metadata": {},
   "outputs": [],
   "source": [
    "df_master_quality_distribution = df_master_quality_final\n",
    "\n",
    "# Count how many locations should get Items\n",
    "def count_list_elements(x):\n",
    "    if x == ['-']:\n",
    "        return 0\n",
    "    else:\n",
    "        return len(x)\n",
    "\n",
    "# Find out the location with the best sales and 0 Stock\n",
    "def best_sale(row):\n",
    "    a = row['list']\n",
    "    if a == ['-']:\n",
    "        return '-'\n",
    "    else:\n",
    "        best_sales = sorted([row[k + '_vk'] for k in row['list'] if k != '-' and k + '_vk' in row.index and row[k + '_vk'] is not None], key=lambda y: float(y) if isinstance(y, str) else y, reverse=True)[0]\n",
    "        for i in row['list']:\n",
    "            if row[i + '_vk'] == best_sales:\n",
    "                return i\n",
    "    \n",
    "# Give back the numbers of Items a location should get\n",
    "def assigning(row):\n",
    "    a = row['list']\n",
    "    b = row['dividing']\n",
    "    c = row['remainder']\n",
    "    d = row['best_sales']\n",
    "    result = [f\"{x} ({b + c:.0f})\" if x == d else f\"{x} ({b:.0f})\" for x in a]\n",
    "    return result\n",
    "\n",
    "# Calculate the combined stock of all locations that should give items       \n",
    "def calculate_stock(row):\n",
    "    total_stock = 0\n",
    "    pattern = r'\\(\\d+\\)'\n",
    "    for key in locations.keys():\n",
    "        if isinstance(row['take_from_' + key], str) and row['take_from_' + key] != '-':\n",
    "            matches = re.findall(pattern, row['take_from_' + key])\n",
    "            for match in matches:\n",
    "                stock = int(match[1:-1])\n",
    "                total_stock += stock\n",
    "    #total_stock *= row['basispreis']\n",
    "    return total_stock\n",
    "\n",
    "# Change abbreviation of the locations to full location names\n",
    "def renaming(row, key):\n",
    "    pattern = '|'.join(locations.keys())\n",
    "    a = row['take_from_' + key]\n",
    "    p = pattern\n",
    "    res = re.sub(pattern, lambda match: locations[match.group(0)], a)\n",
    "    return res\n",
    "\n",
    "# Format the output and make a new line after every location\n",
    "def formating(row, key):\n",
    "    a = row['take_from_' + key]\n",
    "    res_blank = a.replace(',', ',\\n')\n",
    "    #res_double = a.replace(') (', ',)\"\"')\n",
    "    return res_blank\n",
    "\n",
    "# Create the table\n",
    "for key, value in locations.items():\n",
    "    df_master_quality_distribution['list'] = df_master_quality_distribution['take_from_' + key].apply(lambda x: [i for i in x.split(', ')])\n",
    "    df_master_quality_distribution['numbers'] = df_master_quality_distribution['list'].apply(count_list_elements)\n",
    "    df_master_quality_distribution['dividing'] = (df_master_quality_distribution[key +'_lager']/df_master_quality_distribution['numbers']).apply(np.floor)\n",
    "    df_master_quality_distribution['remainder'] = (df_master_quality_distribution[key + '_lager']%df_master_quality_distribution['numbers'])\n",
    "    df_master_quality_distribution['best_sales'] = df_master_quality_distribution.apply(best_sale, axis=1)\n",
    "    df_master_quality_distribution['locations'] = df_master_quality_distribution.apply(assigning, axis=1)\n",
    "    df_master_quality_distribution['locations'] = [','.join(map(str, l)) for l in df_master_quality_distribution['locations']]\n",
    "    df_master_quality_distribution['locations'] = df_master_quality_distribution['locations'].replace([\"- (nan)\", \"- (inf)\", \"- (-inf)\"], \"-\")\n",
    "    df_master_quality_distribution['take_from_' + key] = df_master_quality_distribution['locations']\n",
    "    df_master_quality_distribution['take_from_' + key] = df_master_quality_distribution.apply(renaming, axis=1, key=key)\n",
    "    df_master_quality_distribution['take_from_' + key] = df_master_quality_distribution.apply(formating, axis=1, key=key)\n",
    "    df_master_quality_distribution['stock'] = df_master_quality_distribution.apply(calculate_stock, axis=1)"
   ]
  },
  {
   "attachments": {},
   "cell_type": "markdown",
   "metadata": {},
   "source": [
    "# Cleaning and Sorting"
   ]
  },
  {
   "cell_type": "markdown",
   "metadata": {},
   "source": []
  },
  {
   "cell_type": "code",
   "execution_count": null,
   "metadata": {},
   "outputs": [],
   "source": [
    "# Function to keep columns we need instead of dropping columns we don't need\n",
    "def keep_cols(DataFrame, keep_these):\n",
    "    \"\"\"Keep only the columns [keep_these] in a DataFrame, delete\n",
    "    all other columns. \n",
    "    \"\"\"\n",
    "    drop_these = list(set(list(DataFrame)) - set(keep_these))\n",
    "    return DataFrame.drop(drop_these, axis = 1)\n",
    "\n",
    "# Define columns we want to keep\n",
    "take_from = ['lieferant', 'artnr', 'beschreibung', 'lfnr', 'stock']\n",
    "for key in locations.keys():\n",
    "    a = f'take_from_{key}'\n",
    "    take_from.append(a)\n",
    "\n",
    "# Prepare everything for the output\n",
    "df_master_quality_distribution.sort_values(by='stock', ascending=False, inplace=True)\n",
    "df_master_quality_distribution.reset_index(inplace=True, drop=True)\n",
    "df_master_quality_output = df_master_quality_distribution.pipe(keep_cols, take_from)"
   ]
  },
  {
   "attachments": {},
   "cell_type": "markdown",
   "metadata": {},
   "source": [
    "# Printing result"
   ]
  },
  {
   "cell_type": "code",
   "execution_count": null,
   "metadata": {},
   "outputs": [],
   "source": [
    "# Style the output\n",
    "df_master_quality_output.style"
   ]
  }
 ],
 "metadata": {
  "kernelspec": {
   "display_name": "nf_sql",
   "language": "python",
   "name": "python3"
  },
  "language_info": {
   "codemirror_mode": {
    "name": "ipython",
    "version": 3
   },
   "file_extension": ".py",
   "mimetype": "text/x-python",
   "name": "python",
   "nbconvert_exporter": "python",
   "pygments_lexer": "ipython3",
   "version": "3.9.16"
  },
  "orig_nbformat": 4
 },
 "nbformat": 4,
 "nbformat_minor": 2
}
