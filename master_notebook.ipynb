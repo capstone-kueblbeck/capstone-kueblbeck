{
 "cells": [
  {
   "attachments": {},
   "cell_type": "markdown",
   "metadata": {},
   "source": [
    "# Introduction\n",
    "In this notebook we present our code for our capstone project in an easy to read and understandable way.\n",
    "\n",
    "* ___Say something about the project___\n",
    "\n",
    "* ___Say something about the notebook structure___\n",
    "\n",
    "* ___Any additional notes?___"
   ]
  },
  {
   "attachments": {},
   "cell_type": "markdown",
   "metadata": {},
   "source": [
    "# Setup\n",
    "\n",
    "* ___Optional: Add subtext to every header___"
   ]
  },
  {
   "attachments": {},
   "cell_type": "markdown",
   "metadata": {},
   "source": [
    "## Basic setup"
   ]
  },
  {
   "cell_type": "code",
   "execution_count": 1,
   "metadata": {},
   "outputs": [],
   "source": [
    "# Import libraries\n",
    "import pandas as pd\n",
    "import numpy as np\n",
    "import sqlalchemy\n",
    "import psycopg2 # needed to get database exception errors when uploading dataframe\n",
    "import sql_functions as sf # own collection of functions to manage connections to our SQL database"
   ]
  },
  {
   "cell_type": "code",
   "execution_count": 2,
   "metadata": {},
   "outputs": [],
   "source": [
    "# Define variables\n",
    "schema = 'capstone_kueblbeck'\n",
    "engine = sf.get_engine()"
   ]
  },
  {
   "cell_type": "code",
   "execution_count": 3,
   "metadata": {},
   "outputs": [],
   "source": [
    "# Other settings\n",
    "pd.options.display.max_columns = 40\n",
    "pd.options.display.float_format = \"{:,.2f}\".format"
   ]
  },
  {
   "attachments": {},
   "cell_type": "markdown",
   "metadata": {},
   "source": [
    "## Prepare data and export to SQL"
   ]
  },
  {
   "attachments": {},
   "cell_type": "markdown",
   "metadata": {},
   "source": [
    "### Import data from external files"
   ]
  },
  {
   "cell_type": "code",
   "execution_count": 4,
   "metadata": {},
   "outputs": [
    {
     "name": "stderr",
     "output_type": "stream",
     "text": [
      "/var/folders/kv/8g80w4s52_ldz0hf8y_2jgw40000gn/T/ipykernel_20669/2934447077.py:2: DtypeWarning: Columns (0,2,5,10,11,13,15,17,19,21,23,25,27) have mixed types. Specify dtype option on import or set low_memory=False.\n",
      "  lagerbestand = pd.read_csv('./data/Lagerbestand_02.Juni.2023.txt', decimal=',')\n"
     ]
    }
   ],
   "source": [
    "# Import \"Lagerbestand\"\n",
    "lagerbestand = pd.read_csv('./data/Lagerbestand_02.Juni.2023.txt', decimal=',')\n",
    "lagerbestand = lagerbestand.drop(lagerbestand.index[0])"
   ]
  },
  {
   "cell_type": "code",
   "execution_count": 5,
   "metadata": {},
   "outputs": [],
   "source": [
    "# Import \"Lieferanten\"\n",
    "lieferanten = pd.read_excel('./data/Lieferantenübersicht.xlsx')\n",
    "lieferanten = lieferanten.drop(lieferanten.index[0])"
   ]
  },
  {
   "cell_type": "code",
   "execution_count": 6,
   "metadata": {},
   "outputs": [
    {
     "name": "stderr",
     "output_type": "stream",
     "text": [
      "/var/folders/kv/8g80w4s52_ldz0hf8y_2jgw40000gn/T/ipykernel_20669/3738684025.py:2: DtypeWarning: Columns (4,5,6,7,8,9,10,11,12,13) have mixed types. Specify dtype option on import or set low_memory=False.\n",
      "  verkaeufe = pd.read_csv('./data/Abverkauf_DE_2022_8410.csv', decimal=',')\n"
     ]
    }
   ],
   "source": [
    "# Import \"Verkäufe\"\n",
    "verkaeufe = pd.read_csv('./data/Abverkauf_DE_2022_8410.csv', decimal=',')\n",
    "verkaeufe = verkaeufe.drop(verkaeufe.index[0])"
   ]
  },
  {
   "attachments": {},
   "cell_type": "markdown",
   "metadata": {},
   "source": [
    "### Correct datatypes for each table (if necessary)"
   ]
  },
  {
   "attachments": {},
   "cell_type": "markdown",
   "metadata": {},
   "source": [
    "#### Lagerbestand"
   ]
  },
  {
   "cell_type": "code",
   "execution_count": 7,
   "metadata": {},
   "outputs": [],
   "source": [
    "# Change date columns from string to date type\n",
    "date_columns = [\"Ltz. VK ges.\", \"Ltz. VK WEN\", \"Ltz. VK RGB\", \"Ltz. VK AMB\", \"Ltz. VK CHA\", \"Ltz. VK STR\", \"Ltz. VK PAS\", \"Ltz. VK LAN\", \"Ltz. VK MÜH\", \"Ltz. VK ROS\"]\n",
    "\n",
    "for column in date_columns:\n",
    "        lagerbestand[column] = pd.to_datetime(lagerbestand[column], format='%d.%m.%Y', errors='coerce')"
   ]
  },
  {
   "cell_type": "code",
   "execution_count": 8,
   "metadata": {},
   "outputs": [
    {
     "name": "stderr",
     "output_type": "stream",
     "text": [
      "/var/folders/kv/8g80w4s52_ldz0hf8y_2jgw40000gn/T/ipykernel_20669/2712846017.py:5: FutureWarning: The default value of regex will change from True to False in a future version. In addition, single character regular expressions will *not* be treated as literal strings when regex=True.\n",
      "  lagerbestand[column] = pd.to_numeric(lagerbestand[column].str.replace('.', '').str.replace(',','.'), errors='coerce')\n"
     ]
    }
   ],
   "source": [
    "# Change selected number columns from string to float type\n",
    "numeric_columns = ['Gesamt', 'WEN', 'RGB', 'AMB', 'CHA', 'STR', 'PAS', 'LAN', 'MÜH', 'ROS']\n",
    "\n",
    "for column in numeric_columns:\n",
    "    lagerbestand[column] = pd.to_numeric(lagerbestand[column].str.replace('.', '').str.replace(',','.'), errors='coerce')"
   ]
  },
  {
   "cell_type": "code",
   "execution_count": 9,
   "metadata": {},
   "outputs": [
    {
     "name": "stderr",
     "output_type": "stream",
     "text": [
      "/var/folders/kv/8g80w4s52_ldz0hf8y_2jgw40000gn/T/ipykernel_20669/727319556.py:5: FutureWarning: The default value of regex will change from True to False in a future version. In addition, single character regular expressions will *not* be treated as literal strings when regex=True.\n",
      "  lagerbestand[column] = pd.to_numeric(lagerbestand[column].str.replace('.', '').str.replace(',','.'))\n"
     ]
    }
   ],
   "source": [
    "# Special treatment for columns 'Basispreis' and 'Basispr. Summe'\n",
    "numeric_columns_basis = ['Basispreis', 'Basispr. Summe']\n",
    "\n",
    "for column in numeric_columns_basis:\n",
    "    lagerbestand[column] = pd.to_numeric(lagerbestand[column].str.replace('.', '').str.replace(',','.'))"
   ]
  },
  {
   "cell_type": "code",
   "execution_count": 10,
   "metadata": {},
   "outputs": [],
   "source": [
    "# Change 'Lfnr' and 'VPE' to Integer type, as these categorical numbers\n",
    "lagerbestand['Lfnr'] = lagerbestand['Lfnr'].astype(int)\n",
    "lagerbestand['VPE'] = lagerbestand['VPE'].astype(int)"
   ]
  },
  {
   "attachments": {},
   "cell_type": "markdown",
   "metadata": {},
   "source": [
    "#### Lieferanten"
   ]
  },
  {
   "cell_type": "code",
   "execution_count": 11,
   "metadata": {},
   "outputs": [],
   "source": [
    "# Sync datatype in column 'Lfnr' to table 'Lagerbestand'\n",
    "lieferanten['Lfnr'] = lieferanten['Lfnr'].astype(int)"
   ]
  },
  {
   "attachments": {},
   "cell_type": "markdown",
   "metadata": {},
   "source": [
    "#### Verkaeufe"
   ]
  },
  {
   "cell_type": "code",
   "execution_count": 12,
   "metadata": {},
   "outputs": [
    {
     "name": "stderr",
     "output_type": "stream",
     "text": [
      "/var/folders/kv/8g80w4s52_ldz0hf8y_2jgw40000gn/T/ipykernel_20669/1413186216.py:5: FutureWarning: The default value of regex will change from True to False in a future version. In addition, single character regular expressions will *not* be treated as literal strings when regex=True.\n",
      "  verkaeufe[column] = pd.to_numeric(verkaeufe[column].str.replace('.', ''), errors='coerce')\n"
     ]
    }
   ],
   "source": [
    "# Change selected number columns from string to float type\n",
    "numeric_columns = [\"Gesamt\", \"WEN\", \"RGB\", \"AMB\", \"CHA\", \"STR\", \"PAS\", \"LAN\", \"MÜH\", \"ROS\"]\n",
    "\n",
    "for column in numeric_columns:\n",
    "    verkaeufe[column] = pd.to_numeric(verkaeufe[column].str.replace('.', ''), errors='coerce')"
   ]
  },
  {
   "cell_type": "code",
   "execution_count": 13,
   "metadata": {},
   "outputs": [],
   "source": [
    "# Sync datatype in column 'Lfr.' to table 'Lagerbestand'\n",
    "verkaeufe['Lfr.'] = verkaeufe['Lfr.'].astype(int)"
   ]
  },
  {
   "attachments": {},
   "cell_type": "markdown",
   "metadata": {},
   "source": [
    "#### Check Dataframes before Export"
   ]
  },
  {
   "cell_type": "code",
   "execution_count": 14,
   "metadata": {},
   "outputs": [
    {
     "data": {
      "text/html": [
       "<div>\n",
       "<style scoped>\n",
       "    .dataframe tbody tr th:only-of-type {\n",
       "        vertical-align: middle;\n",
       "    }\n",
       "\n",
       "    .dataframe tbody tr th {\n",
       "        vertical-align: top;\n",
       "    }\n",
       "\n",
       "    .dataframe thead th {\n",
       "        text-align: right;\n",
       "    }\n",
       "</style>\n",
       "<table border=\"1\" class=\"dataframe\">\n",
       "  <thead>\n",
       "    <tr style=\"text-align: right;\">\n",
       "      <th></th>\n",
       "      <th>Lfnr</th>\n",
       "      <th>Artnr</th>\n",
       "      <th>Index</th>\n",
       "      <th>Beschr.</th>\n",
       "      <th>BKZ</th>\n",
       "      <th>VPE</th>\n",
       "      <th>St.gr.</th>\n",
       "      <th>Ltz. VK ges.</th>\n",
       "      <th>Basispreis</th>\n",
       "      <th>Basispr. Summe</th>\n",
       "      <th>Gesamt</th>\n",
       "      <th>WEN</th>\n",
       "      <th>Ltz. VK WEN</th>\n",
       "      <th>RGB</th>\n",
       "      <th>Ltz. VK RGB</th>\n",
       "      <th>AMB</th>\n",
       "      <th>Ltz. VK AMB</th>\n",
       "      <th>CHA</th>\n",
       "      <th>Ltz. VK CHA</th>\n",
       "      <th>STR</th>\n",
       "      <th>Ltz. VK STR</th>\n",
       "      <th>PAS</th>\n",
       "      <th>Ltz. VK PAS</th>\n",
       "      <th>LAN</th>\n",
       "      <th>Ltz. VK LAN</th>\n",
       "      <th>MÜH</th>\n",
       "      <th>Ltz. VK MÜH</th>\n",
       "      <th>ROS</th>\n",
       "      <th>Ltz. VK ROS</th>\n",
       "    </tr>\n",
       "  </thead>\n",
       "  <tbody>\n",
       "    <tr>\n",
       "      <th>1</th>\n",
       "      <td>430</td>\n",
       "      <td>08.607.83</td>\n",
       "      <td>000</td>\n",
       "      <td>N CORSA D  1,0L  44KW  BJ 2006</td>\n",
       "      <td>8</td>\n",
       "      <td>1</td>\n",
       "      <td>L20</td>\n",
       "      <td>2018-11-07</td>\n",
       "      <td>75.36</td>\n",
       "      <td>0.00</td>\n",
       "      <td>0.00</td>\n",
       "      <td>0.00</td>\n",
       "      <td>NaT</td>\n",
       "      <td>0.00</td>\n",
       "      <td>2018-11-07</td>\n",
       "      <td>0.00</td>\n",
       "      <td>2017-08-08</td>\n",
       "      <td>0.00</td>\n",
       "      <td>2016-04-29</td>\n",
       "      <td>0.00</td>\n",
       "      <td>2017-12-14</td>\n",
       "      <td>0.00</td>\n",
       "      <td>NaT</td>\n",
       "      <td>0.00</td>\n",
       "      <td>2017-08-31</td>\n",
       "      <td>0.00</td>\n",
       "      <td>NaT</td>\n",
       "      <td>0.00</td>\n",
       "      <td>2014-03-26</td>\n",
       "    </tr>\n",
       "    <tr>\n",
       "      <th>2</th>\n",
       "      <td>430</td>\n",
       "      <td>08.607.81</td>\n",
       "      <td>000</td>\n",
       "      <td>M CORSA D  1,4L  66KW  BJ 2006</td>\n",
       "      <td>8</td>\n",
       "      <td>1</td>\n",
       "      <td>L20</td>\n",
       "      <td>2021-08-04</td>\n",
       "      <td>93.63</td>\n",
       "      <td>0.00</td>\n",
       "      <td>0.00</td>\n",
       "      <td>0.00</td>\n",
       "      <td>2021-08-04</td>\n",
       "      <td>0.00</td>\n",
       "      <td>2017-07-10</td>\n",
       "      <td>0.00</td>\n",
       "      <td>2021-04-26</td>\n",
       "      <td>0.00</td>\n",
       "      <td>2021-04-28</td>\n",
       "      <td>0.00</td>\n",
       "      <td>2018-09-13</td>\n",
       "      <td>0.00</td>\n",
       "      <td>2019-07-31</td>\n",
       "      <td>0.00</td>\n",
       "      <td>2016-06-24</td>\n",
       "      <td>0.00</td>\n",
       "      <td>NaT</td>\n",
       "      <td>0.00</td>\n",
       "      <td>2015-05-04</td>\n",
       "    </tr>\n",
       "  </tbody>\n",
       "</table>\n",
       "</div>"
      ],
      "text/plain": [
       "   Lfnr      Artnr Index                         Beschr. BKZ  VPE St.gr.  \\\n",
       "1   430  08.607.83   000  N CORSA D  1,0L  44KW  BJ 2006   8    1    L20   \n",
       "2   430  08.607.81   000  M CORSA D  1,4L  66KW  BJ 2006   8    1    L20   \n",
       "\n",
       "  Ltz. VK ges.  Basispreis  Basispr. Summe  Gesamt  WEN Ltz. VK WEN  RGB  \\\n",
       "1   2018-11-07       75.36            0.00    0.00 0.00         NaT 0.00   \n",
       "2   2021-08-04       93.63            0.00    0.00 0.00  2021-08-04 0.00   \n",
       "\n",
       "  Ltz. VK RGB  AMB Ltz. VK AMB  CHA Ltz. VK CHA  STR Ltz. VK STR  PAS  \\\n",
       "1  2018-11-07 0.00  2017-08-08 0.00  2016-04-29 0.00  2017-12-14 0.00   \n",
       "2  2017-07-10 0.00  2021-04-26 0.00  2021-04-28 0.00  2018-09-13 0.00   \n",
       "\n",
       "  Ltz. VK PAS  LAN Ltz. VK LAN  MÜH Ltz. VK MÜH  ROS Ltz. VK ROS  \n",
       "1         NaT 0.00  2017-08-31 0.00         NaT 0.00  2014-03-26  \n",
       "2  2019-07-31 0.00  2016-06-24 0.00         NaT 0.00  2015-05-04  "
      ]
     },
     "metadata": {},
     "output_type": "display_data"
    },
    {
     "name": "stdout",
     "output_type": "stream",
     "text": [
      "<class 'pandas.core.frame.DataFrame'>\n",
      "RangeIndex: 357829 entries, 1 to 357829\n",
      "Data columns (total 29 columns):\n",
      " #   Column          Non-Null Count   Dtype         \n",
      "---  ------          --------------   -----         \n",
      " 0   Lfnr            357829 non-null  int64         \n",
      " 1   Artnr           357829 non-null  object        \n",
      " 2   Index           357829 non-null  object        \n",
      " 3   Beschr.         357829 non-null  object        \n",
      " 4   BKZ             357829 non-null  object        \n",
      " 5   VPE             357829 non-null  int64         \n",
      " 6   St.gr.          357829 non-null  object        \n",
      " 7   Ltz. VK ges.    338128 non-null  datetime64[ns]\n",
      " 8   Basispreis      357829 non-null  float64       \n",
      " 9   Basispr. Summe  357829 non-null  float64       \n",
      " 10  Gesamt          325061 non-null  float64       \n",
      " 11  WEN             325061 non-null  float64       \n",
      " 12  Ltz. VK WEN     204992 non-null  datetime64[ns]\n",
      " 13  RGB             98303 non-null   float64       \n",
      " 14  Ltz. VK RGB     124822 non-null  datetime64[ns]\n",
      " 15  AMB             98303 non-null   float64       \n",
      " 16  Ltz. VK AMB     112562 non-null  datetime64[ns]\n",
      " 17  CHA             32767 non-null   float64       \n",
      " 18  Ltz. VK CHA     55833 non-null   datetime64[ns]\n",
      " 19  STR             95685 non-null   float64       \n",
      " 20  Ltz. VK STR     149798 non-null  datetime64[ns]\n",
      " 21  PAS             98303 non-null   float64       \n",
      " 22  Ltz. VK PAS     70193 non-null   datetime64[ns]\n",
      " 23  LAN             62917 non-null   float64       \n",
      " 24  Ltz. VK LAN     89659 non-null   datetime64[ns]\n",
      " 25  MÜH             32767 non-null   float64       \n",
      " 26  Ltz. VK MÜH     77325 non-null   datetime64[ns]\n",
      " 27  ROS             98303 non-null   float64       \n",
      " 28  Ltz. VK ROS     112682 non-null  datetime64[ns]\n",
      "dtypes: datetime64[ns](10), float64(12), int64(2), object(5)\n",
      "memory usage: 79.2+ MB\n"
     ]
    },
    {
     "data": {
      "text/plain": [
       "None"
      ]
     },
     "metadata": {},
     "output_type": "display_data"
    }
   ],
   "source": [
    "display(lagerbestand.head(2))\n",
    "display(lagerbestand.info())"
   ]
  },
  {
   "cell_type": "code",
   "execution_count": 15,
   "metadata": {},
   "outputs": [
    {
     "data": {
      "text/html": [
       "<div>\n",
       "<style scoped>\n",
       "    .dataframe tbody tr th:only-of-type {\n",
       "        vertical-align: middle;\n",
       "    }\n",
       "\n",
       "    .dataframe tbody tr th {\n",
       "        vertical-align: top;\n",
       "    }\n",
       "\n",
       "    .dataframe thead th {\n",
       "        text-align: right;\n",
       "    }\n",
       "</style>\n",
       "<table border=\"1\" class=\"dataframe\">\n",
       "  <thead>\n",
       "    <tr style=\"text-align: right;\">\n",
       "      <th></th>\n",
       "      <th>Lfnr</th>\n",
       "      <th>Beschreibung</th>\n",
       "    </tr>\n",
       "  </thead>\n",
       "  <tbody>\n",
       "    <tr>\n",
       "      <th>1</th>\n",
       "      <td>0</td>\n",
       "      <td>BOSCH</td>\n",
       "    </tr>\n",
       "    <tr>\n",
       "      <th>2</th>\n",
       "      <td>1</td>\n",
       "      <td>HELLA</td>\n",
       "    </tr>\n",
       "  </tbody>\n",
       "</table>\n",
       "</div>"
      ],
      "text/plain": [
       "   Lfnr Beschreibung\n",
       "1     0        BOSCH\n",
       "2     1        HELLA"
      ]
     },
     "metadata": {},
     "output_type": "display_data"
    },
    {
     "name": "stdout",
     "output_type": "stream",
     "text": [
      "<class 'pandas.core.frame.DataFrame'>\n",
      "RangeIndex: 378 entries, 1 to 378\n",
      "Data columns (total 2 columns):\n",
      " #   Column        Non-Null Count  Dtype \n",
      "---  ------        --------------  ----- \n",
      " 0   Lfnr          378 non-null    int64 \n",
      " 1   Beschreibung  376 non-null    object\n",
      "dtypes: int64(1), object(1)\n",
      "memory usage: 6.0+ KB\n"
     ]
    },
    {
     "data": {
      "text/plain": [
       "None"
      ]
     },
     "metadata": {},
     "output_type": "display_data"
    }
   ],
   "source": [
    "display(lieferanten.head(2))\n",
    "display(lieferanten.info())"
   ]
  },
  {
   "cell_type": "code",
   "execution_count": 16,
   "metadata": {},
   "outputs": [
    {
     "data": {
      "text/html": [
       "<div>\n",
       "<style scoped>\n",
       "    .dataframe tbody tr th:only-of-type {\n",
       "        vertical-align: middle;\n",
       "    }\n",
       "\n",
       "    .dataframe tbody tr th {\n",
       "        vertical-align: top;\n",
       "    }\n",
       "\n",
       "    .dataframe thead th {\n",
       "        text-align: right;\n",
       "    }\n",
       "</style>\n",
       "<table border=\"1\" class=\"dataframe\">\n",
       "  <thead>\n",
       "    <tr style=\"text-align: right;\">\n",
       "      <th></th>\n",
       "      <th>Lfr.</th>\n",
       "      <th>Art.nr.</th>\n",
       "      <th>Ind.</th>\n",
       "      <th>Beschreibung</th>\n",
       "      <th>Gesamt</th>\n",
       "      <th>WEN</th>\n",
       "      <th>RGB</th>\n",
       "      <th>STR</th>\n",
       "      <th>PAS</th>\n",
       "      <th>AMB</th>\n",
       "      <th>CHA</th>\n",
       "      <th>LAN</th>\n",
       "      <th>MÜH</th>\n",
       "      <th>ROS</th>\n",
       "    </tr>\n",
       "  </thead>\n",
       "  <tbody>\n",
       "    <tr>\n",
       "      <th>1</th>\n",
       "      <td>0</td>\n",
       "      <td>1928498680</td>\n",
       "      <td>0.00</td>\n",
       "      <td>BUCHSENKONTAKT</td>\n",
       "      <td>38,400.00</td>\n",
       "      <td>38,400.00</td>\n",
       "      <td>0.00</td>\n",
       "      <td>0.00</td>\n",
       "      <td>0.00</td>\n",
       "      <td>0.00</td>\n",
       "      <td>0.00</td>\n",
       "      <td>0.00</td>\n",
       "      <td>0.00</td>\n",
       "      <td>0.00</td>\n",
       "    </tr>\n",
       "    <tr>\n",
       "      <th>2</th>\n",
       "      <td>52</td>\n",
       "      <td>50266496</td>\n",
       "      <td>0.00</td>\n",
       "      <td>KABELBAND 300X4,8MM SCHWARZ</td>\n",
       "      <td>28,200.00</td>\n",
       "      <td>25,000.00</td>\n",
       "      <td>0.00</td>\n",
       "      <td>0.00</td>\n",
       "      <td>0.00</td>\n",
       "      <td>0.00</td>\n",
       "      <td>1,400.00</td>\n",
       "      <td>0.00</td>\n",
       "      <td>1,500.00</td>\n",
       "      <td>300.00</td>\n",
       "    </tr>\n",
       "  </tbody>\n",
       "</table>\n",
       "</div>"
      ],
      "text/plain": [
       "   Lfr.     Art.nr.  Ind.                 Beschreibung    Gesamt       WEN  \\\n",
       "1     0  1928498680  0.00               BUCHSENKONTAKT 38,400.00 38,400.00   \n",
       "2    52    50266496  0.00  KABELBAND 300X4,8MM SCHWARZ 28,200.00 25,000.00   \n",
       "\n",
       "   RGB  STR  PAS  AMB      CHA  LAN      MÜH    ROS  \n",
       "1 0.00 0.00 0.00 0.00     0.00 0.00     0.00   0.00  \n",
       "2 0.00 0.00 0.00 0.00 1,400.00 0.00 1,500.00 300.00  "
      ]
     },
     "metadata": {},
     "output_type": "display_data"
    },
    {
     "name": "stdout",
     "output_type": "stream",
     "text": [
      "<class 'pandas.core.frame.DataFrame'>\n",
      "RangeIndex: 66009 entries, 1 to 66009\n",
      "Data columns (total 14 columns):\n",
      " #   Column        Non-Null Count  Dtype  \n",
      "---  ------        --------------  -----  \n",
      " 0   Lfr.          66009 non-null  int64  \n",
      " 1   Art.nr.       66009 non-null  object \n",
      " 2   Ind.          66009 non-null  float64\n",
      " 3   Beschreibung  66009 non-null  object \n",
      " 4   Gesamt        65535 non-null  float64\n",
      " 5   WEN           65535 non-null  float64\n",
      " 6   RGB           65535 non-null  float64\n",
      " 7   STR           65535 non-null  float64\n",
      " 8   PAS           65535 non-null  float64\n",
      " 9   AMB           65535 non-null  float64\n",
      " 10  CHA           65535 non-null  float64\n",
      " 11  LAN           65535 non-null  float64\n",
      " 12  MÜH           65535 non-null  float64\n",
      " 13  ROS           65535 non-null  float64\n",
      "dtypes: float64(11), int64(1), object(2)\n",
      "memory usage: 7.1+ MB\n"
     ]
    },
    {
     "data": {
      "text/plain": [
       "None"
      ]
     },
     "metadata": {},
     "output_type": "display_data"
    }
   ],
   "source": [
    "display(verkaeufe.head(2))\n",
    "display(verkaeufe.info())"
   ]
  },
  {
   "attachments": {},
   "cell_type": "markdown",
   "metadata": {},
   "source": [
    "### Export to SQL\n",
    "\n",
    "Note: The following code blocks will be fully commented out as the dataframes are already uploaded. Running these codes would therefore cause an error due to restrictions on our SQL server."
   ]
  },
  {
   "cell_type": "code",
   "execution_count": 17,
   "metadata": {},
   "outputs": [],
   "source": [
    "# # Import Lagerbestand data into SQL \n",
    "# table_name = 'lagerbestand'\n",
    "\n",
    "# # Write records stored in a dataframe to SQL database\n",
    "# if engine!=None:\n",
    "#     try:\n",
    "#         lagerbestand.to_sql(name=table_name, # Name of SQL table\n",
    "#                         con=engine, # Engine or connection\n",
    "#                         if_exists='replace', # Drop the table before inserting new values \n",
    "#                         schema=schema, # Use schema that was defined earlier\n",
    "#                         index=False, # Write DataFrame index as a column\n",
    "#                         chunksize=5000, # Specify the number of rows in each batch to be written at a time\n",
    "#                         method='multi') # Pass multiple values in a single INSERT clause\n",
    "#         print(f\"The {table_name} table was imported successfully.\")\n",
    "#     # Error handling\n",
    "#     except (Exception, psycopg2.DatabaseError) as error:\n",
    "#         print(error)\n",
    "#         engine = None"
   ]
  },
  {
   "cell_type": "code",
   "execution_count": 18,
   "metadata": {},
   "outputs": [],
   "source": [
    "# # Import 'Lieferanten' data into SQL \n",
    "# table_name = 'lieferanten'\n",
    "\n",
    "# # Write records stored in a dataframe to SQL database\n",
    "# if engine!=None:\n",
    "#     try:\n",
    "#         lieferanten.to_sql(name=table_name, # Name of SQL table\n",
    "#                         con=engine, # Engine or connection\n",
    "#                         if_exists='replace', # Drop the table before inserting new values \n",
    "#                         schema=schema, # Use schema that was defined earlier\n",
    "#                         index=False, # Write DataFrame index as a column\n",
    "#                         chunksize=5000, # Specify the number of rows in each batch to be written at a time\n",
    "#                         method='multi') # Pass multiple values in a single INSERT clause\n",
    "#         print(f\"The {table_name} table was imported successfully.\")\n",
    "#     # Error handling\n",
    "#     except (Exception, psycopg2.DatabaseError) as error:\n",
    "#         print(error)\n",
    "#         engine = None"
   ]
  },
  {
   "cell_type": "code",
   "execution_count": 19,
   "metadata": {},
   "outputs": [],
   "source": [
    "# # Import 'Verkaeufe' data into SQL \n",
    "# table_name = 'verkäufe'\n",
    "\n",
    "# # Write records stored in a dataframe to SQL database\n",
    "# if engine!=None:\n",
    "#     try:\n",
    "#         verkaeufe.to_sql(name=table_name, # Name of SQL table\n",
    "#                         con=engine, # Engine or connection\n",
    "#                         if_exists='replace', # Drop the table before inserting new values \n",
    "#                         schema=schema, # Use schema that was defined earlier\n",
    "#                         index=False, # Write DataFrame index as a column\n",
    "#                         chunksize=5000, # Specify the number of rows in each batch to be written at a time\n",
    "#                         method='multi') # Pass multiple values in a single INSERT clause\n",
    "#         print(f\"The {table_name} table was imported successfully.\")\n",
    "#     # Error handling\n",
    "#     except (Exception, psycopg2.DatabaseError) as error:\n",
    "#         print(error)\n",
    "#         engine = None"
   ]
  },
  {
   "attachments": {},
   "cell_type": "markdown",
   "metadata": {},
   "source": [
    "# Data Cleaning"
   ]
  },
  {
   "attachments": {},
   "cell_type": "markdown",
   "metadata": {},
   "source": [
    "## Loading dataframes"
   ]
  },
  {
   "cell_type": "code",
   "execution_count": 20,
   "metadata": {},
   "outputs": [],
   "source": [
    "# Lagerbestand\n",
    "sql_query = f'select * from {schema}.lagerbestand'\n",
    "df_lagerbestand = sf.get_dataframe(sql_query)"
   ]
  },
  {
   "cell_type": "code",
   "execution_count": 21,
   "metadata": {},
   "outputs": [],
   "source": [
    "# Lieferanten\n",
    "sql_query = f'select * from {schema}.lieferanten'\n",
    "df_lieferanten = sf.get_dataframe(sql_query)"
   ]
  },
  {
   "cell_type": "code",
   "execution_count": 22,
   "metadata": {},
   "outputs": [],
   "source": [
    "# Verkaeufe\n",
    "sql_query = f'select * from {schema}.verkäufe'\n",
    "df_verkaeufe = sf.get_dataframe(sql_query)"
   ]
  },
  {
   "attachments": {},
   "cell_type": "markdown",
   "metadata": {},
   "source": [
    "## df_lagerbestand"
   ]
  },
  {
   "cell_type": "code",
   "execution_count": 23,
   "metadata": {},
   "outputs": [],
   "source": [
    "# Adjust column names\n",
    "df_lagerbestand.columns = df_lagerbestand.columns.str.lower()\n",
    "df_lagerbestand.columns = [col.replace(\" \", \"_\") for col in df_lagerbestand.columns.tolist()]\n",
    "df_lagerbestand.columns = [col.replace(\".\", \"\") for col in df_lagerbestand.columns.tolist()]"
   ]
  },
  {
   "cell_type": "code",
   "execution_count": 24,
   "metadata": {},
   "outputs": [],
   "source": [
    "# Change names of selected columns for clearer identification\n",
    "new_columns = {'beschr':'beschreibung',\n",
    "               'bkz':'bestellkennzeichen',\n",
    "               'vpe':'verp_einheit',\n",
    "               'stgr':'stat_gruppe',\n",
    "               'gesamt':'gesamt_lager',\n",
    "               'wen':'wen_lager',\n",
    "               'rgb':'rgb_lager',\n",
    "               'str':'str_lager',\n",
    "               'pas':'pas_lager',\n",
    "               'amb':'amb_lager',\n",
    "               'cha':'cha_lager',\n",
    "               'lan':'lan_lager',\n",
    "               'müh':'müh_lager',\n",
    "               'ros':'ros_lager'}\n",
    "\n",
    "df_lagerbestand = df_lagerbestand.rename(columns=new_columns)"
   ]
  },
  {
   "cell_type": "code",
   "execution_count": 25,
   "metadata": {},
   "outputs": [],
   "source": [
    "# Additional changing of datatypes for index column (Integer due to it being categorical)\n",
    "df_lagerbestand['index'] = df_lagerbestand['index'].astype(int)"
   ]
  },
  {
   "attachments": {},
   "cell_type": "markdown",
   "metadata": {},
   "source": [
    "## df_lieferanten"
   ]
  },
  {
   "cell_type": "code",
   "execution_count": 26,
   "metadata": {},
   "outputs": [],
   "source": [
    "# Adjust column names\n",
    "df_lieferanten.columns = df_lieferanten.columns.str.lower()\n",
    "df_lieferanten.columns = [col.replace(\" \", \"_\") for col in df_lieferanten.columns.tolist()]\n",
    "df_lieferanten.columns = [col.replace(\".\", \"\") for col in df_lieferanten.columns.tolist()]"
   ]
  },
  {
   "cell_type": "code",
   "execution_count": 27,
   "metadata": {},
   "outputs": [],
   "source": [
    "# Change names of selected columns for clearer identification\n",
    "df_lieferanten = df_lieferanten.rename(columns={'beschreibung':'lieferant'})"
   ]
  },
  {
   "attachments": {},
   "cell_type": "markdown",
   "metadata": {},
   "source": [
    "## df_verkaeufe"
   ]
  },
  {
   "cell_type": "code",
   "execution_count": 28,
   "metadata": {},
   "outputs": [],
   "source": [
    "# Adjust column names\n",
    "df_verkaeufe.columns = df_verkaeufe.columns.str.lower()\n",
    "df_verkaeufe.columns = [col.replace(\" \", \"_\") for col in df_verkaeufe.columns.tolist()]\n",
    "df_verkaeufe.columns = [col.replace(\".\", \"\") for col in df_verkaeufe.columns.tolist()]"
   ]
  },
  {
   "cell_type": "code",
   "execution_count": 29,
   "metadata": {},
   "outputs": [],
   "source": [
    "# Change names of selected columns for clearer identification\n",
    "new_columns = {'lfr':'lfnr',\n",
    "               'ind': 'index',\n",
    "               'gesamt':'gesamt_vk',\n",
    "               'wen':'wen_vk',\n",
    "               'rgb':'rgb_vk',\n",
    "               'str':'str_vk',\n",
    "               'pas':'pas_vk',\n",
    "               'amb':'amb_vk',\n",
    "               'cha':'cha_vk',\n",
    "               'lan':'lan_vk',\n",
    "               'müh':'müh_vk',\n",
    "               'ros':'ros_vk'}\n",
    "\n",
    "df_verkaeufe = df_verkaeufe.rename(columns=new_columns)"
   ]
  },
  {
   "cell_type": "code",
   "execution_count": 30,
   "metadata": {},
   "outputs": [],
   "source": [
    "# Additional changing of datatypes for index column (Integer due to it being categorical)\n",
    "df_verkaeufe['index'] = df_verkaeufe['index'].astype(int)"
   ]
  },
  {
   "attachments": {},
   "cell_type": "markdown",
   "metadata": {},
   "source": [
    "## Check dataframes"
   ]
  },
  {
   "cell_type": "code",
   "execution_count": 37,
   "metadata": {},
   "outputs": [
    {
     "data": {
      "text/html": [
       "<div>\n",
       "<style scoped>\n",
       "    .dataframe tbody tr th:only-of-type {\n",
       "        vertical-align: middle;\n",
       "    }\n",
       "\n",
       "    .dataframe tbody tr th {\n",
       "        vertical-align: top;\n",
       "    }\n",
       "\n",
       "    .dataframe thead th {\n",
       "        text-align: right;\n",
       "    }\n",
       "</style>\n",
       "<table border=\"1\" class=\"dataframe\">\n",
       "  <thead>\n",
       "    <tr style=\"text-align: right;\">\n",
       "      <th></th>\n",
       "      <th>lfnr</th>\n",
       "      <th>artnr</th>\n",
       "      <th>index</th>\n",
       "      <th>beschreibung</th>\n",
       "      <th>bestellkennzeichen</th>\n",
       "      <th>verp_einheit</th>\n",
       "      <th>stat_gruppe</th>\n",
       "      <th>ltz_vk_ges</th>\n",
       "      <th>basispreis</th>\n",
       "      <th>basispr_summe</th>\n",
       "      <th>gesamt_lager</th>\n",
       "      <th>wen_lager</th>\n",
       "      <th>ltz_vk_wen</th>\n",
       "      <th>rgb_lager</th>\n",
       "      <th>ltz_vk_rgb</th>\n",
       "      <th>amb_lager</th>\n",
       "      <th>ltz_vk_amb</th>\n",
       "      <th>cha_lager</th>\n",
       "      <th>ltz_vk_cha</th>\n",
       "      <th>str_lager</th>\n",
       "      <th>ltz_vk_str</th>\n",
       "      <th>pas_lager</th>\n",
       "      <th>ltz_vk_pas</th>\n",
       "      <th>lan_lager</th>\n",
       "      <th>ltz_vk_lan</th>\n",
       "      <th>müh_lager</th>\n",
       "      <th>ltz_vk_müh</th>\n",
       "      <th>ros_lager</th>\n",
       "      <th>ltz_vk_ros</th>\n",
       "    </tr>\n",
       "  </thead>\n",
       "  <tbody>\n",
       "    <tr>\n",
       "      <th>0</th>\n",
       "      <td>430</td>\n",
       "      <td>08.607.83</td>\n",
       "      <td>0</td>\n",
       "      <td>N CORSA D  1,0L  44KW  BJ 2006</td>\n",
       "      <td>8</td>\n",
       "      <td>1</td>\n",
       "      <td>L20</td>\n",
       "      <td>2018-11-07</td>\n",
       "      <td>75.36</td>\n",
       "      <td>0.00</td>\n",
       "      <td>0.00</td>\n",
       "      <td>0.00</td>\n",
       "      <td>NaT</td>\n",
       "      <td>0.00</td>\n",
       "      <td>2018-11-07</td>\n",
       "      <td>0.00</td>\n",
       "      <td>2017-08-08</td>\n",
       "      <td>0.00</td>\n",
       "      <td>2016-04-29</td>\n",
       "      <td>0.00</td>\n",
       "      <td>2017-12-14</td>\n",
       "      <td>0.00</td>\n",
       "      <td>NaT</td>\n",
       "      <td>0.00</td>\n",
       "      <td>2017-08-31</td>\n",
       "      <td>0.00</td>\n",
       "      <td>NaT</td>\n",
       "      <td>0.00</td>\n",
       "      <td>2014-03-26</td>\n",
       "    </tr>\n",
       "    <tr>\n",
       "      <th>1</th>\n",
       "      <td>430</td>\n",
       "      <td>08.607.81</td>\n",
       "      <td>0</td>\n",
       "      <td>M CORSA D  1,4L  66KW  BJ 2006</td>\n",
       "      <td>8</td>\n",
       "      <td>1</td>\n",
       "      <td>L20</td>\n",
       "      <td>2021-08-04</td>\n",
       "      <td>93.63</td>\n",
       "      <td>0.00</td>\n",
       "      <td>0.00</td>\n",
       "      <td>0.00</td>\n",
       "      <td>2021-08-04</td>\n",
       "      <td>0.00</td>\n",
       "      <td>2017-07-10</td>\n",
       "      <td>0.00</td>\n",
       "      <td>2021-04-26</td>\n",
       "      <td>0.00</td>\n",
       "      <td>2021-04-28</td>\n",
       "      <td>0.00</td>\n",
       "      <td>2018-09-13</td>\n",
       "      <td>0.00</td>\n",
       "      <td>2019-07-31</td>\n",
       "      <td>0.00</td>\n",
       "      <td>2016-06-24</td>\n",
       "      <td>0.00</td>\n",
       "      <td>NaT</td>\n",
       "      <td>0.00</td>\n",
       "      <td>2015-05-04</td>\n",
       "    </tr>\n",
       "  </tbody>\n",
       "</table>\n",
       "</div>"
      ],
      "text/plain": [
       "   lfnr      artnr  index                    beschreibung bestellkennzeichen  \\\n",
       "0   430  08.607.83      0  N CORSA D  1,0L  44KW  BJ 2006                  8   \n",
       "1   430  08.607.81      0  M CORSA D  1,4L  66KW  BJ 2006                  8   \n",
       "\n",
       "   verp_einheit stat_gruppe ltz_vk_ges  basispreis  basispr_summe  \\\n",
       "0             1         L20 2018-11-07       75.36           0.00   \n",
       "1             1         L20 2021-08-04       93.63           0.00   \n",
       "\n",
       "   gesamt_lager  wen_lager ltz_vk_wen  rgb_lager ltz_vk_rgb  amb_lager  \\\n",
       "0          0.00       0.00        NaT       0.00 2018-11-07       0.00   \n",
       "1          0.00       0.00 2021-08-04       0.00 2017-07-10       0.00   \n",
       "\n",
       "  ltz_vk_amb  cha_lager ltz_vk_cha  str_lager ltz_vk_str  pas_lager  \\\n",
       "0 2017-08-08       0.00 2016-04-29       0.00 2017-12-14       0.00   \n",
       "1 2021-04-26       0.00 2021-04-28       0.00 2018-09-13       0.00   \n",
       "\n",
       "  ltz_vk_pas  lan_lager ltz_vk_lan  müh_lager ltz_vk_müh  ros_lager ltz_vk_ros  \n",
       "0        NaT       0.00 2017-08-31       0.00        NaT       0.00 2014-03-26  \n",
       "1 2019-07-31       0.00 2016-06-24       0.00        NaT       0.00 2015-05-04  "
      ]
     },
     "metadata": {},
     "output_type": "display_data"
    },
    {
     "name": "stdout",
     "output_type": "stream",
     "text": [
      "<class 'pandas.core.frame.DataFrame'>\n",
      "RangeIndex: 357829 entries, 0 to 357828\n",
      "Data columns (total 29 columns):\n",
      " #   Column              Non-Null Count   Dtype         \n",
      "---  ------              --------------   -----         \n",
      " 0   lfnr                357829 non-null  int64         \n",
      " 1   artnr               357829 non-null  object        \n",
      " 2   index               357829 non-null  int64         \n",
      " 3   beschreibung        357829 non-null  object        \n",
      " 4   bestellkennzeichen  357829 non-null  object        \n",
      " 5   verp_einheit        357829 non-null  int64         \n",
      " 6   stat_gruppe         357829 non-null  object        \n",
      " 7   ltz_vk_ges          338128 non-null  datetime64[ns]\n",
      " 8   basispreis          357829 non-null  float64       \n",
      " 9   basispr_summe       357829 non-null  float64       \n",
      " 10  gesamt_lager        325061 non-null  float64       \n",
      " 11  wen_lager           325061 non-null  float64       \n",
      " 12  ltz_vk_wen          204992 non-null  datetime64[ns]\n",
      " 13  rgb_lager           98303 non-null   float64       \n",
      " 14  ltz_vk_rgb          124822 non-null  datetime64[ns]\n",
      " 15  amb_lager           98303 non-null   float64       \n",
      " 16  ltz_vk_amb          112562 non-null  datetime64[ns]\n",
      " 17  cha_lager           32767 non-null   float64       \n",
      " 18  ltz_vk_cha          55833 non-null   datetime64[ns]\n",
      " 19  str_lager           95685 non-null   float64       \n",
      " 20  ltz_vk_str          149798 non-null  datetime64[ns]\n",
      " 21  pas_lager           98303 non-null   float64       \n",
      " 22  ltz_vk_pas          70193 non-null   datetime64[ns]\n",
      " 23  lan_lager           62917 non-null   float64       \n",
      " 24  ltz_vk_lan          89659 non-null   datetime64[ns]\n",
      " 25  müh_lager           32767 non-null   float64       \n",
      " 26  ltz_vk_müh          77325 non-null   datetime64[ns]\n",
      " 27  ros_lager           98303 non-null   float64       \n",
      " 28  ltz_vk_ros          112682 non-null  datetime64[ns]\n",
      "dtypes: datetime64[ns](10), float64(12), int64(3), object(4)\n",
      "memory usage: 79.2+ MB\n"
     ]
    },
    {
     "data": {
      "text/plain": [
       "None"
      ]
     },
     "metadata": {},
     "output_type": "display_data"
    }
   ],
   "source": [
    "display(df_lagerbestand.head(2))\n",
    "display(df_lagerbestand.info())"
   ]
  },
  {
   "cell_type": "code",
   "execution_count": 38,
   "metadata": {},
   "outputs": [
    {
     "data": {
      "text/html": [
       "<div>\n",
       "<style scoped>\n",
       "    .dataframe tbody tr th:only-of-type {\n",
       "        vertical-align: middle;\n",
       "    }\n",
       "\n",
       "    .dataframe tbody tr th {\n",
       "        vertical-align: top;\n",
       "    }\n",
       "\n",
       "    .dataframe thead th {\n",
       "        text-align: right;\n",
       "    }\n",
       "</style>\n",
       "<table border=\"1\" class=\"dataframe\">\n",
       "  <thead>\n",
       "    <tr style=\"text-align: right;\">\n",
       "      <th></th>\n",
       "      <th>lfnr</th>\n",
       "      <th>lieferant</th>\n",
       "    </tr>\n",
       "  </thead>\n",
       "  <tbody>\n",
       "    <tr>\n",
       "      <th>0</th>\n",
       "      <td>0</td>\n",
       "      <td>BOSCH</td>\n",
       "    </tr>\n",
       "    <tr>\n",
       "      <th>1</th>\n",
       "      <td>1</td>\n",
       "      <td>HELLA</td>\n",
       "    </tr>\n",
       "  </tbody>\n",
       "</table>\n",
       "</div>"
      ],
      "text/plain": [
       "   lfnr lieferant\n",
       "0     0     BOSCH\n",
       "1     1     HELLA"
      ]
     },
     "metadata": {},
     "output_type": "display_data"
    },
    {
     "name": "stdout",
     "output_type": "stream",
     "text": [
      "<class 'pandas.core.frame.DataFrame'>\n",
      "RangeIndex: 378 entries, 0 to 377\n",
      "Data columns (total 2 columns):\n",
      " #   Column     Non-Null Count  Dtype \n",
      "---  ------     --------------  ----- \n",
      " 0   lfnr       378 non-null    int64 \n",
      " 1   lieferant  376 non-null    object\n",
      "dtypes: int64(1), object(1)\n",
      "memory usage: 6.0+ KB\n"
     ]
    },
    {
     "data": {
      "text/plain": [
       "None"
      ]
     },
     "metadata": {},
     "output_type": "display_data"
    }
   ],
   "source": [
    "display(df_lieferanten.head(2))\n",
    "display(df_lieferanten.info())"
   ]
  },
  {
   "cell_type": "code",
   "execution_count": 39,
   "metadata": {},
   "outputs": [
    {
     "data": {
      "text/html": [
       "<div>\n",
       "<style scoped>\n",
       "    .dataframe tbody tr th:only-of-type {\n",
       "        vertical-align: middle;\n",
       "    }\n",
       "\n",
       "    .dataframe tbody tr th {\n",
       "        vertical-align: top;\n",
       "    }\n",
       "\n",
       "    .dataframe thead th {\n",
       "        text-align: right;\n",
       "    }\n",
       "</style>\n",
       "<table border=\"1\" class=\"dataframe\">\n",
       "  <thead>\n",
       "    <tr style=\"text-align: right;\">\n",
       "      <th></th>\n",
       "      <th>lfnr</th>\n",
       "      <th>artnr</th>\n",
       "      <th>index</th>\n",
       "      <th>beschreibung</th>\n",
       "      <th>gesamt_vk</th>\n",
       "      <th>wen_vk</th>\n",
       "      <th>rgb_vk</th>\n",
       "      <th>str_vk</th>\n",
       "      <th>pas_vk</th>\n",
       "      <th>amb_vk</th>\n",
       "      <th>cha_vk</th>\n",
       "      <th>lan_vk</th>\n",
       "      <th>müh_vk</th>\n",
       "      <th>ros_vk</th>\n",
       "    </tr>\n",
       "  </thead>\n",
       "  <tbody>\n",
       "    <tr>\n",
       "      <th>0</th>\n",
       "      <td>0</td>\n",
       "      <td>1928498680</td>\n",
       "      <td>0</td>\n",
       "      <td>BUCHSENKONTAKT</td>\n",
       "      <td>38,400.00</td>\n",
       "      <td>38,400.00</td>\n",
       "      <td>0.00</td>\n",
       "      <td>0.00</td>\n",
       "      <td>0.00</td>\n",
       "      <td>0.00</td>\n",
       "      <td>0.00</td>\n",
       "      <td>0.00</td>\n",
       "      <td>0.00</td>\n",
       "      <td>0.00</td>\n",
       "    </tr>\n",
       "    <tr>\n",
       "      <th>1</th>\n",
       "      <td>52</td>\n",
       "      <td>50266496</td>\n",
       "      <td>0</td>\n",
       "      <td>KABELBAND 300X4,8MM SCHWARZ</td>\n",
       "      <td>28,200.00</td>\n",
       "      <td>25,000.00</td>\n",
       "      <td>0.00</td>\n",
       "      <td>0.00</td>\n",
       "      <td>0.00</td>\n",
       "      <td>0.00</td>\n",
       "      <td>1,400.00</td>\n",
       "      <td>0.00</td>\n",
       "      <td>1,500.00</td>\n",
       "      <td>300.00</td>\n",
       "    </tr>\n",
       "  </tbody>\n",
       "</table>\n",
       "</div>"
      ],
      "text/plain": [
       "   lfnr       artnr  index                 beschreibung  gesamt_vk    wen_vk  \\\n",
       "0     0  1928498680      0               BUCHSENKONTAKT  38,400.00 38,400.00   \n",
       "1    52    50266496      0  KABELBAND 300X4,8MM SCHWARZ  28,200.00 25,000.00   \n",
       "\n",
       "   rgb_vk  str_vk  pas_vk  amb_vk   cha_vk  lan_vk   müh_vk  ros_vk  \n",
       "0    0.00    0.00    0.00    0.00     0.00    0.00     0.00    0.00  \n",
       "1    0.00    0.00    0.00    0.00 1,400.00    0.00 1,500.00  300.00  "
      ]
     },
     "metadata": {},
     "output_type": "display_data"
    },
    {
     "name": "stdout",
     "output_type": "stream",
     "text": [
      "<class 'pandas.core.frame.DataFrame'>\n",
      "RangeIndex: 66009 entries, 0 to 66008\n",
      "Data columns (total 14 columns):\n",
      " #   Column        Non-Null Count  Dtype  \n",
      "---  ------        --------------  -----  \n",
      " 0   lfnr          66009 non-null  int64  \n",
      " 1   artnr         66009 non-null  object \n",
      " 2   index         66009 non-null  int64  \n",
      " 3   beschreibung  66009 non-null  object \n",
      " 4   gesamt_vk     65535 non-null  float64\n",
      " 5   wen_vk        65535 non-null  float64\n",
      " 6   rgb_vk        65535 non-null  float64\n",
      " 7   str_vk        65535 non-null  float64\n",
      " 8   pas_vk        65535 non-null  float64\n",
      " 9   amb_vk        65535 non-null  float64\n",
      " 10  cha_vk        65535 non-null  float64\n",
      " 11  lan_vk        65535 non-null  float64\n",
      " 12  müh_vk        65535 non-null  float64\n",
      " 13  ros_vk        65535 non-null  float64\n",
      "dtypes: float64(10), int64(2), object(2)\n",
      "memory usage: 7.1+ MB\n"
     ]
    },
    {
     "data": {
      "text/plain": [
       "None"
      ]
     },
     "metadata": {},
     "output_type": "display_data"
    }
   ],
   "source": [
    "display(df_verkaeufe.head(2))\n",
    "display(df_verkaeufe.info())"
   ]
  },
  {
   "attachments": {},
   "cell_type": "markdown",
   "metadata": {},
   "source": [
    "# Merging tables to df_master"
   ]
  },
  {
   "cell_type": "code",
   "execution_count": 34,
   "metadata": {},
   "outputs": [],
   "source": [
    "# Merging df_lagerbestand and df_lieferanten\n",
    "df_master = df_lagerbestand.merge(df_lieferanten, how='left', on='lfnr')"
   ]
  },
  {
   "cell_type": "code",
   "execution_count": 35,
   "metadata": {},
   "outputs": [],
   "source": [
    "# Merging df_verkaeufe on df_master\n",
    "df_master = df_master.merge(df_verkaeufe, how='left', on=['lfnr', 'artnr', 'index', 'beschreibung'])"
   ]
  },
  {
   "cell_type": "code",
   "execution_count": 36,
   "metadata": {},
   "outputs": [],
   "source": [
    "# Adjusting column positions\n",
    "new_column_order = ['lfnr','lieferant', 'artnr', 'beschreibung', 'index', 'bestellkennzeichen',\n",
    "       'verp_einheit', 'stat_gruppe', 'ltz_vk_ges', 'basispreis',\n",
    "       'basispr_summe', 'gesamt_lager', 'wen_lager', 'ltz_vk_wen', 'rgb_lager',\n",
    "       'ltz_vk_rgb', 'amb_lager', 'ltz_vk_amb', 'cha_lager', 'ltz_vk_cha',\n",
    "       'str_lager', 'ltz_vk_str', 'pas_lager', 'ltz_vk_pas', 'lan_lager',\n",
    "       'ltz_vk_lan', 'müh_lager', 'ltz_vk_müh', 'ros_lager', 'ltz_vk_ros',\n",
    "        'gesamt_vk', 'wen_vk', 'rgb_vk', 'str_vk', 'pas_vk',\n",
    "       'amb_vk', 'cha_vk', 'lan_vk', 'müh_vk', 'ros_vk']\n",
    "\n",
    "df_master = df_master.reindex(columns = new_column_order)"
   ]
  },
  {
   "attachments": {},
   "cell_type": "markdown",
   "metadata": {},
   "source": [
    "## Check df_master"
   ]
  },
  {
   "cell_type": "code",
   "execution_count": 40,
   "metadata": {},
   "outputs": [
    {
     "data": {
      "text/html": [
       "<div>\n",
       "<style scoped>\n",
       "    .dataframe tbody tr th:only-of-type {\n",
       "        vertical-align: middle;\n",
       "    }\n",
       "\n",
       "    .dataframe tbody tr th {\n",
       "        vertical-align: top;\n",
       "    }\n",
       "\n",
       "    .dataframe thead th {\n",
       "        text-align: right;\n",
       "    }\n",
       "</style>\n",
       "<table border=\"1\" class=\"dataframe\">\n",
       "  <thead>\n",
       "    <tr style=\"text-align: right;\">\n",
       "      <th></th>\n",
       "      <th>lfnr</th>\n",
       "      <th>lieferant</th>\n",
       "      <th>artnr</th>\n",
       "      <th>beschreibung</th>\n",
       "      <th>index</th>\n",
       "      <th>bestellkennzeichen</th>\n",
       "      <th>verp_einheit</th>\n",
       "      <th>stat_gruppe</th>\n",
       "      <th>ltz_vk_ges</th>\n",
       "      <th>basispreis</th>\n",
       "      <th>basispr_summe</th>\n",
       "      <th>gesamt_lager</th>\n",
       "      <th>wen_lager</th>\n",
       "      <th>ltz_vk_wen</th>\n",
       "      <th>rgb_lager</th>\n",
       "      <th>ltz_vk_rgb</th>\n",
       "      <th>amb_lager</th>\n",
       "      <th>ltz_vk_amb</th>\n",
       "      <th>cha_lager</th>\n",
       "      <th>ltz_vk_cha</th>\n",
       "      <th>str_lager</th>\n",
       "      <th>ltz_vk_str</th>\n",
       "      <th>pas_lager</th>\n",
       "      <th>ltz_vk_pas</th>\n",
       "      <th>lan_lager</th>\n",
       "      <th>ltz_vk_lan</th>\n",
       "      <th>müh_lager</th>\n",
       "      <th>ltz_vk_müh</th>\n",
       "      <th>ros_lager</th>\n",
       "      <th>ltz_vk_ros</th>\n",
       "      <th>gesamt_vk</th>\n",
       "      <th>wen_vk</th>\n",
       "      <th>rgb_vk</th>\n",
       "      <th>str_vk</th>\n",
       "      <th>pas_vk</th>\n",
       "      <th>amb_vk</th>\n",
       "      <th>cha_vk</th>\n",
       "      <th>lan_vk</th>\n",
       "      <th>müh_vk</th>\n",
       "      <th>ros_vk</th>\n",
       "    </tr>\n",
       "  </thead>\n",
       "  <tbody>\n",
       "    <tr>\n",
       "      <th>0</th>\n",
       "      <td>430</td>\n",
       "      <td>Eberspächer Abgas</td>\n",
       "      <td>08.607.83</td>\n",
       "      <td>N CORSA D  1,0L  44KW  BJ 2006</td>\n",
       "      <td>0</td>\n",
       "      <td>8</td>\n",
       "      <td>1</td>\n",
       "      <td>L20</td>\n",
       "      <td>2018-11-07</td>\n",
       "      <td>75.36</td>\n",
       "      <td>0.00</td>\n",
       "      <td>0.00</td>\n",
       "      <td>0.00</td>\n",
       "      <td>NaT</td>\n",
       "      <td>0.00</td>\n",
       "      <td>2018-11-07</td>\n",
       "      <td>0.00</td>\n",
       "      <td>2017-08-08</td>\n",
       "      <td>0.00</td>\n",
       "      <td>2016-04-29</td>\n",
       "      <td>0.00</td>\n",
       "      <td>2017-12-14</td>\n",
       "      <td>0.00</td>\n",
       "      <td>NaT</td>\n",
       "      <td>0.00</td>\n",
       "      <td>2017-08-31</td>\n",
       "      <td>0.00</td>\n",
       "      <td>NaT</td>\n",
       "      <td>0.00</td>\n",
       "      <td>2014-03-26</td>\n",
       "      <td>NaN</td>\n",
       "      <td>NaN</td>\n",
       "      <td>NaN</td>\n",
       "      <td>NaN</td>\n",
       "      <td>NaN</td>\n",
       "      <td>NaN</td>\n",
       "      <td>NaN</td>\n",
       "      <td>NaN</td>\n",
       "      <td>NaN</td>\n",
       "      <td>NaN</td>\n",
       "    </tr>\n",
       "    <tr>\n",
       "      <th>1</th>\n",
       "      <td>430</td>\n",
       "      <td>Eberspächer Abgas</td>\n",
       "      <td>08.607.81</td>\n",
       "      <td>M CORSA D  1,4L  66KW  BJ 2006</td>\n",
       "      <td>0</td>\n",
       "      <td>8</td>\n",
       "      <td>1</td>\n",
       "      <td>L20</td>\n",
       "      <td>2021-08-04</td>\n",
       "      <td>93.63</td>\n",
       "      <td>0.00</td>\n",
       "      <td>0.00</td>\n",
       "      <td>0.00</td>\n",
       "      <td>2021-08-04</td>\n",
       "      <td>0.00</td>\n",
       "      <td>2017-07-10</td>\n",
       "      <td>0.00</td>\n",
       "      <td>2021-04-26</td>\n",
       "      <td>0.00</td>\n",
       "      <td>2021-04-28</td>\n",
       "      <td>0.00</td>\n",
       "      <td>2018-09-13</td>\n",
       "      <td>0.00</td>\n",
       "      <td>2019-07-31</td>\n",
       "      <td>0.00</td>\n",
       "      <td>2016-06-24</td>\n",
       "      <td>0.00</td>\n",
       "      <td>NaT</td>\n",
       "      <td>0.00</td>\n",
       "      <td>2015-05-04</td>\n",
       "      <td>NaN</td>\n",
       "      <td>NaN</td>\n",
       "      <td>NaN</td>\n",
       "      <td>NaN</td>\n",
       "      <td>NaN</td>\n",
       "      <td>NaN</td>\n",
       "      <td>NaN</td>\n",
       "      <td>NaN</td>\n",
       "      <td>NaN</td>\n",
       "      <td>NaN</td>\n",
       "    </tr>\n",
       "  </tbody>\n",
       "</table>\n",
       "</div>"
      ],
      "text/plain": [
       "   lfnr          lieferant      artnr                    beschreibung  index  \\\n",
       "0   430  Eberspächer Abgas  08.607.83  N CORSA D  1,0L  44KW  BJ 2006      0   \n",
       "1   430  Eberspächer Abgas  08.607.81  M CORSA D  1,4L  66KW  BJ 2006      0   \n",
       "\n",
       "  bestellkennzeichen  verp_einheit stat_gruppe ltz_vk_ges  basispreis  \\\n",
       "0                  8             1         L20 2018-11-07       75.36   \n",
       "1                  8             1         L20 2021-08-04       93.63   \n",
       "\n",
       "   basispr_summe  gesamt_lager  wen_lager ltz_vk_wen  rgb_lager ltz_vk_rgb  \\\n",
       "0           0.00          0.00       0.00        NaT       0.00 2018-11-07   \n",
       "1           0.00          0.00       0.00 2021-08-04       0.00 2017-07-10   \n",
       "\n",
       "   amb_lager ltz_vk_amb  cha_lager ltz_vk_cha  str_lager ltz_vk_str  \\\n",
       "0       0.00 2017-08-08       0.00 2016-04-29       0.00 2017-12-14   \n",
       "1       0.00 2021-04-26       0.00 2021-04-28       0.00 2018-09-13   \n",
       "\n",
       "   pas_lager ltz_vk_pas  lan_lager ltz_vk_lan  müh_lager ltz_vk_müh  \\\n",
       "0       0.00        NaT       0.00 2017-08-31       0.00        NaT   \n",
       "1       0.00 2019-07-31       0.00 2016-06-24       0.00        NaT   \n",
       "\n",
       "   ros_lager ltz_vk_ros  gesamt_vk  wen_vk  rgb_vk  str_vk  pas_vk  amb_vk  \\\n",
       "0       0.00 2014-03-26        NaN     NaN     NaN     NaN     NaN     NaN   \n",
       "1       0.00 2015-05-04        NaN     NaN     NaN     NaN     NaN     NaN   \n",
       "\n",
       "   cha_vk  lan_vk  müh_vk  ros_vk  \n",
       "0     NaN     NaN     NaN     NaN  \n",
       "1     NaN     NaN     NaN     NaN  "
      ]
     },
     "metadata": {},
     "output_type": "display_data"
    },
    {
     "name": "stdout",
     "output_type": "stream",
     "text": [
      "<class 'pandas.core.frame.DataFrame'>\n",
      "Int64Index: 357829 entries, 0 to 357828\n",
      "Data columns (total 40 columns):\n",
      " #   Column              Non-Null Count   Dtype         \n",
      "---  ------              --------------   -----         \n",
      " 0   lfnr                357829 non-null  int64         \n",
      " 1   lieferant           357828 non-null  object        \n",
      " 2   artnr               357829 non-null  object        \n",
      " 3   beschreibung        357829 non-null  object        \n",
      " 4   index               357829 non-null  int64         \n",
      " 5   bestellkennzeichen  357829 non-null  object        \n",
      " 6   verp_einheit        357829 non-null  int64         \n",
      " 7   stat_gruppe         357829 non-null  object        \n",
      " 8   ltz_vk_ges          338128 non-null  datetime64[ns]\n",
      " 9   basispreis          357829 non-null  float64       \n",
      " 10  basispr_summe       357829 non-null  float64       \n",
      " 11  gesamt_lager        325061 non-null  float64       \n",
      " 12  wen_lager           325061 non-null  float64       \n",
      " 13  ltz_vk_wen          204992 non-null  datetime64[ns]\n",
      " 14  rgb_lager           98303 non-null   float64       \n",
      " 15  ltz_vk_rgb          124822 non-null  datetime64[ns]\n",
      " 16  amb_lager           98303 non-null   float64       \n",
      " 17  ltz_vk_amb          112562 non-null  datetime64[ns]\n",
      " 18  cha_lager           32767 non-null   float64       \n",
      " 19  ltz_vk_cha          55833 non-null   datetime64[ns]\n",
      " 20  str_lager           95685 non-null   float64       \n",
      " 21  ltz_vk_str          149798 non-null  datetime64[ns]\n",
      " 22  pas_lager           98303 non-null   float64       \n",
      " 23  ltz_vk_pas          70193 non-null   datetime64[ns]\n",
      " 24  lan_lager           62917 non-null   float64       \n",
      " 25  ltz_vk_lan          89659 non-null   datetime64[ns]\n",
      " 26  müh_lager           32767 non-null   float64       \n",
      " 27  ltz_vk_müh          77325 non-null   datetime64[ns]\n",
      " 28  ros_lager           98303 non-null   float64       \n",
      " 29  ltz_vk_ros          112682 non-null  datetime64[ns]\n",
      " 30  gesamt_vk           65532 non-null   float64       \n",
      " 31  wen_vk              65532 non-null   float64       \n",
      " 32  rgb_vk              65532 non-null   float64       \n",
      " 33  str_vk              65532 non-null   float64       \n",
      " 34  pas_vk              65532 non-null   float64       \n",
      " 35  amb_vk              65532 non-null   float64       \n",
      " 36  cha_vk              65532 non-null   float64       \n",
      " 37  lan_vk              65532 non-null   float64       \n",
      " 38  müh_vk              65532 non-null   float64       \n",
      " 39  ros_vk              65532 non-null   float64       \n",
      "dtypes: datetime64[ns](10), float64(22), int64(3), object(5)\n",
      "memory usage: 111.9+ MB\n"
     ]
    },
    {
     "data": {
      "text/plain": [
       "None"
      ]
     },
     "metadata": {},
     "output_type": "display_data"
    }
   ],
   "source": [
    "display(df_master.head(2))\n",
    "display(df_master.info())"
   ]
  }
 ],
 "metadata": {
  "kernelspec": {
   "display_name": "nf_sql",
   "language": "python",
   "name": "python3"
  },
  "language_info": {
   "codemirror_mode": {
    "name": "ipython",
    "version": 3
   },
   "file_extension": ".py",
   "mimetype": "text/x-python",
   "name": "python",
   "nbconvert_exporter": "python",
   "pygments_lexer": "ipython3",
   "version": "3.9.16"
  },
  "orig_nbformat": 4
 },
 "nbformat": 4,
 "nbformat_minor": 2
}
