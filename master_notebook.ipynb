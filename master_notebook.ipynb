{
 "cells": [
  {
   "attachments": {},
   "cell_type": "markdown",
   "metadata": {},
   "source": [
    "# Introduction\n",
    "In this notebook we present our code for our capstone project in an easy to read and understandable way.\n",
    "\n",
    "* ___Say something about the project___\n",
    "\n",
    "* ___Say something about the notebook structure___\n",
    "\n",
    "* ___Any additional notes?___"
   ]
  },
  {
   "attachments": {},
   "cell_type": "markdown",
   "metadata": {},
   "source": [
    "# Setup\n",
    "\n",
    "* ___Optional: Add subtext to every header___"
   ]
  },
  {
   "attachments": {},
   "cell_type": "markdown",
   "metadata": {},
   "source": [
    "## Basic setup"
   ]
  },
  {
   "cell_type": "code",
   "execution_count": null,
   "metadata": {},
   "outputs": [],
   "source": [
    "# Import libraries\n",
    "import pandas as pd\n",
    "import numpy as np\n",
    "import sqlalchemy\n",
    "import psycopg2 # needed to get database exception errors when uploading dataframe\n",
    "import matplotlib.pyplot as plt # needed for visualizations\n",
    "import seaborn as sns # data visualization library based on matplotlib\n",
    "import os # provides functions for interacting with the operating system\n",
    "import math # provides access to the mathematical functions\n",
    "import sql_functions as sf # own collection of functions to manage connections to our SQL database\n",
    "import re\n",
    "import math\n",
    "import warnings\n",
    "warnings.filterwarnings('ignore')\n"
   ]
  },
  {
   "cell_type": "code",
   "execution_count": null,
   "metadata": {},
   "outputs": [],
   "source": [
    "# Define variables\n",
    "schema = 'capstone_kueblbeck'\n",
    "engine = sf.get_engine()"
   ]
  },
  {
   "cell_type": "code",
   "execution_count": null,
   "metadata": {},
   "outputs": [],
   "source": [
    "# Other settings\n",
    "pd.options.display.max_columns = 40\n",
    "pd.options.display.float_format = \"{:,.2f}\".format"
   ]
  },
  {
   "attachments": {},
   "cell_type": "markdown",
   "metadata": {},
   "source": [
    "## Prepare data and export to SQL"
   ]
  },
  {
   "attachments": {},
   "cell_type": "markdown",
   "metadata": {},
   "source": [
    "### Import data from external files"
   ]
  },
  {
   "cell_type": "code",
   "execution_count": null,
   "metadata": {},
   "outputs": [],
   "source": [
    "# Import \"Lagerbestand\"\n",
    "lagerbestand = pd.read_csv('./data/Lagerbestand_02.Juni.2023.txt', decimal=',')\n",
    "lagerbestand = lagerbestand.drop(lagerbestand.index[0])"
   ]
  },
  {
   "cell_type": "code",
   "execution_count": null,
   "metadata": {},
   "outputs": [],
   "source": [
    "# Import \"Lieferanten\"\n",
    "lieferanten = pd.read_excel('./data/Lieferantenübersicht.xlsx')\n",
    "lieferanten = lieferanten.drop(lieferanten.index[0])"
   ]
  },
  {
   "cell_type": "code",
   "execution_count": null,
   "metadata": {},
   "outputs": [],
   "source": [
    "# Import \"Verkäufe\"\n",
    "verkaeufe = pd.read_csv('./data/Abverkauf_DE_2022_8410.csv', decimal=',')\n",
    "verkaeufe = verkaeufe.drop(verkaeufe.index[0])"
   ]
  },
  {
   "attachments": {},
   "cell_type": "markdown",
   "metadata": {},
   "source": [
    "### Correct datatypes for each table (if necessary)"
   ]
  },
  {
   "attachments": {},
   "cell_type": "markdown",
   "metadata": {},
   "source": [
    "#### Lagerbestand"
   ]
  },
  {
   "cell_type": "code",
   "execution_count": null,
   "metadata": {},
   "outputs": [],
   "source": [
    "# Change date columns from string to date type\n",
    "date_columns = [\"Ltz. VK ges.\", \"Ltz. VK WEN\", \"Ltz. VK RGB\", \"Ltz. VK AMB\", \"Ltz. VK CHA\", \"Ltz. VK STR\", \"Ltz. VK PAS\", \"Ltz. VK LAN\", \"Ltz. VK MÜH\", \"Ltz. VK ROS\"]\n",
    "\n",
    "for column in date_columns:\n",
    "        lagerbestand[column] = pd.to_datetime(lagerbestand[column], format='%d.%m.%Y', errors='coerce')"
   ]
  },
  {
   "cell_type": "code",
   "execution_count": null,
   "metadata": {},
   "outputs": [],
   "source": [
    "# Change selected number columns from string to float type\n",
    "numeric_columns = ['Gesamt', 'WEN', 'RGB', 'AMB', 'CHA', 'STR', 'PAS', 'LAN', 'MÜH', 'ROS']\n",
    "\n",
    "for column in numeric_columns:\n",
    "    lagerbestand[column] = pd.to_numeric(lagerbestand[column].str.replace('.', '').str.replace(',','.'), errors='coerce')"
   ]
  },
  {
   "cell_type": "code",
   "execution_count": null,
   "metadata": {},
   "outputs": [],
   "source": [
    "# Special treatment for columns 'Basispreis' and 'Basispr. Summe'\n",
    "numeric_columns_basis = ['Basispreis', 'Basispr. Summe']\n",
    "\n",
    "for column in numeric_columns_basis:\n",
    "    lagerbestand[column] = pd.to_numeric(lagerbestand[column].str.replace('.', '').str.replace(',','.'))"
   ]
  },
  {
   "cell_type": "code",
   "execution_count": null,
   "metadata": {},
   "outputs": [],
   "source": [
    "# Change 'Lfnr' and 'VPE' to Integer type, as these are categorical numbers\n",
    "lagerbestand['Lfnr'] = lagerbestand['Lfnr'].astype(int)\n",
    "lagerbestand['VPE'] = lagerbestand['VPE'].astype(int)"
   ]
  },
  {
   "attachments": {},
   "cell_type": "markdown",
   "metadata": {},
   "source": [
    "#### Lieferanten"
   ]
  },
  {
   "cell_type": "code",
   "execution_count": null,
   "metadata": {},
   "outputs": [],
   "source": [
    "# Sync datatype in column 'Lfnr' to table 'Lagerbestand'\n",
    "lieferanten['Lfnr'] = lieferanten['Lfnr'].astype(int)"
   ]
  },
  {
   "attachments": {},
   "cell_type": "markdown",
   "metadata": {},
   "source": [
    "#### Verkaeufe"
   ]
  },
  {
   "cell_type": "code",
   "execution_count": null,
   "metadata": {},
   "outputs": [],
   "source": [
    "# Change selected number columns from string to float type\n",
    "numeric_columns = [\"Gesamt\", \"WEN\", \"RGB\", \"AMB\", \"CHA\", \"STR\", \"PAS\", \"LAN\", \"MÜH\", \"ROS\"]\n",
    "\n",
    "for column in numeric_columns:\n",
    "    verkaeufe[column] = pd.to_numeric(verkaeufe[column].str.replace('.', ''), errors='coerce')"
   ]
  },
  {
   "cell_type": "code",
   "execution_count": null,
   "metadata": {},
   "outputs": [],
   "source": [
    "# Sync datatype in column 'Lfr.' to table 'Lagerbestand'\n",
    "verkaeufe['Lfr.'] = verkaeufe['Lfr.'].astype(int)"
   ]
  },
  {
   "attachments": {},
   "cell_type": "markdown",
   "metadata": {},
   "source": [
    "#### Check Dataframes before Export"
   ]
  },
  {
   "cell_type": "code",
   "execution_count": null,
   "metadata": {},
   "outputs": [],
   "source": [
    "display(lagerbestand.head(2))\n",
    "display(lagerbestand.info())"
   ]
  },
  {
   "cell_type": "code",
   "execution_count": null,
   "metadata": {},
   "outputs": [],
   "source": [
    "display(lieferanten.head(2))\n",
    "display(lieferanten.info())"
   ]
  },
  {
   "cell_type": "code",
   "execution_count": null,
   "metadata": {},
   "outputs": [],
   "source": [
    "display(verkaeufe.head(2))\n",
    "display(verkaeufe.info())"
   ]
  },
  {
   "attachments": {},
   "cell_type": "markdown",
   "metadata": {},
   "source": [
    "### Export to SQL\n",
    "\n",
    "Note: The following code blocks will be fully commented out as the dataframes are already uploaded. Running these codes would therefore cause an error due to restrictions on our SQL server."
   ]
  },
  {
   "cell_type": "code",
   "execution_count": null,
   "metadata": {},
   "outputs": [],
   "source": [
    "# # Import Lagerbestand data into SQL \n",
    "# table_name = 'lagerbestand'\n",
    "\n",
    "# # Write records stored in a dataframe to SQL database\n",
    "# if engine!=None:\n",
    "#     try:\n",
    "#         lagerbestand.to_sql(name=table_name, # Name of SQL table\n",
    "#                         con=engine, # Engine or connection\n",
    "#                         if_exists='replace', # Drop the table before inserting new values \n",
    "#                         schema=schema, # Use schema that was defined earlier\n",
    "#                         index=False, # Write DataFrame index as a column\n",
    "#                         chunksize=5000, # Specify the number of rows in each batch to be written at a time\n",
    "#                         method='multi') # Pass multiple values in a single INSERT clause\n",
    "#         print(f\"The {table_name} table was imported successfully.\")\n",
    "#     # Error handling\n",
    "#     except (Exception, psycopg2.DatabaseError) as error:\n",
    "#         print(error)\n",
    "#         engine = None"
   ]
  },
  {
   "cell_type": "code",
   "execution_count": null,
   "metadata": {},
   "outputs": [],
   "source": [
    "# # Import 'Lieferanten' data into SQL \n",
    "# table_name = 'lieferanten'\n",
    "\n",
    "# # Write records stored in a dataframe to SQL database\n",
    "# if engine!=None:\n",
    "#     try:\n",
    "#         lieferanten.to_sql(name=table_name, # Name of SQL table\n",
    "#                         con=engine, # Engine or connection\n",
    "#                         if_exists='replace', # Drop the table before inserting new values \n",
    "#                         schema=schema, # Use schema that was defined earlier\n",
    "#                         index=False, # Write DataFrame index as a column\n",
    "#                         chunksize=5000, # Specify the number of rows in each batch to be written at a time\n",
    "#                         method='multi') # Pass multiple values in a single INSERT clause\n",
    "#         print(f\"The {table_name} table was imported successfully.\")\n",
    "#     # Error handling\n",
    "#     except (Exception, psycopg2.DatabaseError) as error:\n",
    "#         print(error)\n",
    "#         engine = None"
   ]
  },
  {
   "cell_type": "code",
   "execution_count": null,
   "metadata": {},
   "outputs": [],
   "source": [
    "# # Import 'Verkaeufe' data into SQL \n",
    "# table_name = 'verkäufe'\n",
    "\n",
    "# # Write records stored in a dataframe to SQL database\n",
    "# if engine!=None:\n",
    "#     try:\n",
    "#         verkaeufe.to_sql(name=table_name, # Name of SQL table\n",
    "#                         con=engine, # Engine or connection\n",
    "#                         if_exists='replace', # Drop the table before inserting new values \n",
    "#                         schema=schema, # Use schema that was defined earlier\n",
    "#                         index=False, # Write DataFrame index as a column\n",
    "#                         chunksize=5000, # Specify the number of rows in each batch to be written at a time\n",
    "#                         method='multi') # Pass multiple values in a single INSERT clause\n",
    "#         print(f\"The {table_name} table was imported successfully.\")\n",
    "#     # Error handling\n",
    "#     except (Exception, psycopg2.DatabaseError) as error:\n",
    "#         print(error)\n",
    "#         engine = None"
   ]
  },
  {
   "attachments": {},
   "cell_type": "markdown",
   "metadata": {},
   "source": [
    "# Data Cleaning"
   ]
  },
  {
   "attachments": {},
   "cell_type": "markdown",
   "metadata": {},
   "source": [
    "## Loading dataframes"
   ]
  },
  {
   "cell_type": "code",
   "execution_count": null,
   "metadata": {},
   "outputs": [],
   "source": [
    "# Lagerbestand\n",
    "sql_query = f'select * from {schema}.lagerbestand'\n",
    "df_lagerbestand = sf.get_dataframe(sql_query)"
   ]
  },
  {
   "cell_type": "code",
   "execution_count": null,
   "metadata": {},
   "outputs": [],
   "source": [
    "# Lieferanten\n",
    "sql_query = f'select * from {schema}.lieferanten'\n",
    "df_lieferanten = sf.get_dataframe(sql_query)"
   ]
  },
  {
   "cell_type": "code",
   "execution_count": null,
   "metadata": {},
   "outputs": [],
   "source": [
    "# Verkaeufe\n",
    "sql_query = f'select * from {schema}.verkäufe'\n",
    "df_verkaeufe = sf.get_dataframe(sql_query)"
   ]
  },
  {
   "attachments": {},
   "cell_type": "markdown",
   "metadata": {},
   "source": [
    "## df_lagerbestand"
   ]
  },
  {
   "cell_type": "code",
   "execution_count": null,
   "metadata": {},
   "outputs": [],
   "source": [
    "# Adjust column names\n",
    "df_lagerbestand.columns = df_lagerbestand.columns.str.lower()\n",
    "df_lagerbestand.columns = [col.replace(\" \", \"_\") for col in df_lagerbestand.columns.tolist()]\n",
    "df_lagerbestand.columns = [col.replace(\".\", \"\") for col in df_lagerbestand.columns.tolist()]"
   ]
  },
  {
   "cell_type": "code",
   "execution_count": null,
   "metadata": {},
   "outputs": [],
   "source": [
    "# Change names of selected columns for clearer identification\n",
    "new_columns = {'beschr':'beschreibung',\n",
    "               'bkz':'bestellkennzeichen',\n",
    "               'vpe':'verp_einheit',\n",
    "               'stgr':'stat_gruppe',\n",
    "               'gesamt':'gesamt_lager',\n",
    "               'wen':'wen_lager',\n",
    "               'rgb':'rgb_lager',\n",
    "               'str':'str_lager',\n",
    "               'pas':'pas_lager',\n",
    "               'amb':'amb_lager',\n",
    "               'cha':'cha_lager',\n",
    "               'lan':'lan_lager',\n",
    "               'müh':'müh_lager',\n",
    "               'ros':'ros_lager'}\n",
    "\n",
    "df_lagerbestand = df_lagerbestand.rename(columns=new_columns)"
   ]
  },
  {
   "cell_type": "code",
   "execution_count": null,
   "metadata": {},
   "outputs": [],
   "source": [
    "# Additional changing of datatypes for index column (Integer due to it being categorical)\n",
    "df_lagerbestand['index'] = df_lagerbestand['index'].astype(int)"
   ]
  },
  {
   "attachments": {},
   "cell_type": "markdown",
   "metadata": {},
   "source": [
    "## df_lieferanten"
   ]
  },
  {
   "cell_type": "code",
   "execution_count": null,
   "metadata": {},
   "outputs": [],
   "source": [
    "# Adjust column names\n",
    "df_lieferanten.columns = df_lieferanten.columns.str.lower()\n",
    "df_lieferanten.columns = [col.replace(\" \", \"_\") for col in df_lieferanten.columns.tolist()]\n",
    "df_lieferanten.columns = [col.replace(\".\", \"\") for col in df_lieferanten.columns.tolist()]"
   ]
  },
  {
   "cell_type": "code",
   "execution_count": null,
   "metadata": {},
   "outputs": [],
   "source": [
    "# Change names of selected columns for clearer identification\n",
    "df_lieferanten = df_lieferanten.rename(columns={'beschreibung':'lieferant'})"
   ]
  },
  {
   "attachments": {},
   "cell_type": "markdown",
   "metadata": {},
   "source": [
    "## df_verkaeufe"
   ]
  },
  {
   "cell_type": "code",
   "execution_count": null,
   "metadata": {},
   "outputs": [],
   "source": [
    "# Adjust column names\n",
    "df_verkaeufe.columns = df_verkaeufe.columns.str.lower()\n",
    "df_verkaeufe.columns = [col.replace(\" \", \"_\") for col in df_verkaeufe.columns.tolist()]\n",
    "df_verkaeufe.columns = [col.replace(\".\", \"\") for col in df_verkaeufe.columns.tolist()]"
   ]
  },
  {
   "cell_type": "code",
   "execution_count": null,
   "metadata": {},
   "outputs": [],
   "source": [
    "# Change names of selected columns for clearer identification\n",
    "new_columns = {'lfr':'lfnr',\n",
    "               'ind': 'index',\n",
    "               'gesamt':'gesamt_vk',\n",
    "               'wen':'wen_vk',\n",
    "               'rgb':'rgb_vk',\n",
    "               'str':'str_vk',\n",
    "               'pas':'pas_vk',\n",
    "               'amb':'amb_vk',\n",
    "               'cha':'cha_vk',\n",
    "               'lan':'lan_vk',\n",
    "               'müh':'müh_vk',\n",
    "               'ros':'ros_vk'}\n",
    "\n",
    "df_verkaeufe = df_verkaeufe.rename(columns=new_columns)"
   ]
  },
  {
   "cell_type": "code",
   "execution_count": null,
   "metadata": {},
   "outputs": [],
   "source": [
    "# Additional changing of datatypes for index column (Integer due to it being categorical)\n",
    "df_verkaeufe['index'] = df_verkaeufe['index'].astype(int)"
   ]
  },
  {
   "attachments": {},
   "cell_type": "markdown",
   "metadata": {},
   "source": [
    "## Check dataframes"
   ]
  },
  {
   "cell_type": "code",
   "execution_count": null,
   "metadata": {},
   "outputs": [],
   "source": [
    "display(df_lagerbestand.head(2))\n",
    "display(df_lagerbestand.info())"
   ]
  },
  {
   "cell_type": "code",
   "execution_count": null,
   "metadata": {},
   "outputs": [],
   "source": [
    "display(df_lieferanten.head(2))\n",
    "display(df_lieferanten.info())"
   ]
  },
  {
   "cell_type": "code",
   "execution_count": null,
   "metadata": {},
   "outputs": [],
   "source": [
    "display(df_verkaeufe.head(2))\n",
    "display(df_verkaeufe.info())"
   ]
  },
  {
   "attachments": {},
   "cell_type": "markdown",
   "metadata": {},
   "source": [
    "# Merging tables to df_master"
   ]
  },
  {
   "cell_type": "code",
   "execution_count": null,
   "metadata": {},
   "outputs": [],
   "source": [
    "# Merging df_lagerbestand and df_lieferanten\n",
    "df_master = df_lagerbestand.merge(df_lieferanten, how='left', on='lfnr')"
   ]
  },
  {
   "cell_type": "code",
   "execution_count": null,
   "metadata": {},
   "outputs": [],
   "source": [
    "# Merging df_verkaeufe on df_master\n",
    "df_master = df_master.merge(df_verkaeufe, how='left', on=['lfnr', 'artnr', 'index', 'beschreibung'])"
   ]
  },
  {
   "cell_type": "code",
   "execution_count": null,
   "metadata": {},
   "outputs": [],
   "source": [
    "# Adjusting column positions\n",
    "new_column_order = ['lfnr','lieferant', 'artnr', 'beschreibung', 'index', 'bestellkennzeichen',\n",
    "       'verp_einheit', 'stat_gruppe', 'ltz_vk_ges', 'basispreis',\n",
    "       'basispr_summe', 'gesamt_lager', 'wen_lager', 'ltz_vk_wen', 'rgb_lager',\n",
    "       'ltz_vk_rgb', 'amb_lager', 'ltz_vk_amb', 'cha_lager', 'ltz_vk_cha',\n",
    "       'str_lager', 'ltz_vk_str', 'pas_lager', 'ltz_vk_pas', 'lan_lager',\n",
    "       'ltz_vk_lan', 'müh_lager', 'ltz_vk_müh', 'ros_lager', 'ltz_vk_ros',\n",
    "        'gesamt_vk', 'wen_vk', 'rgb_vk', 'str_vk', 'pas_vk',\n",
    "       'amb_vk', 'cha_vk', 'lan_vk', 'müh_vk', 'ros_vk']\n",
    "\n",
    "df_master = df_master.reindex(columns = new_column_order)"
   ]
  },
  {
   "attachments": {},
   "cell_type": "markdown",
   "metadata": {},
   "source": [
    "## Check df_master"
   ]
  },
  {
   "cell_type": "code",
   "execution_count": null,
   "metadata": {},
   "outputs": [],
   "source": [
    "display(df_master.head(2))\n",
    "display(df_master.info())"
   ]
  },
  {
   "attachments": {},
   "cell_type": "markdown",
   "metadata": {},
   "source": [
    "# Creating visualizations"
   ]
  },
  {
   "attachments": {},
   "cell_type": "markdown",
   "metadata": {},
   "source": [
    "## Visualize quality stock"
   ]
  },
  {
   "cell_type": "code",
   "execution_count": null,
   "metadata": {},
   "outputs": [],
   "source": [
    "# Create a bar chart with subplots to display overall and subsidiary's number of articles in stock categorized into number of sales\n",
    "\n",
    "locations = {'gesamt': 'Gesamt', \n",
    "             'wen': 'Weiden', \n",
    "             'rgb': 'Regensburg', \n",
    "             'amb': 'Amberg', \n",
    "             'cha': 'Cham', \n",
    "             'str': 'Straubing', \n",
    "             'pas': 'Passau', \n",
    "             'lan': 'Landshut', \n",
    "             'müh': 'Mühldorf', \n",
    "             'ros': 'Rosenheim'}\n",
    "\n",
    "PE_categories = ['In stock, 4+ sales', 'In stock, 3 sales', 'In stock, 2 sales', 'In stock, 1 sale', 'In stock, 0 sales']\n",
    "display_order_quality = PE_categories\n",
    "\n",
    "for x in locations.keys():\n",
    "    PE_condition = [\n",
    "        (df_master[x+'_lager'] > 0) & (df_master[x+'_vk'] > 3),\n",
    "        (df_master[x+'_lager'] > 0) & (df_master[x+'_vk'] == 3),\n",
    "        (df_master[x+'_lager'] > 0) & (df_master[x+'_vk'] == 2),\n",
    "        (df_master[x+'_lager'] > 0) & (df_master[x+'_vk'] == 1),\n",
    "        (df_master[x+'_lager'] > 0) & (df_master[x+'_vk'] == 0)   \n",
    "    ]\n",
    "\n",
    "    df_master[x+'_quality'] = np.select(PE_condition, PE_categories)\n",
    "\n",
    "fig, axes = plt.subplots(4, 3, figsize=(25,20))\n",
    "fig.suptitle('Warehouse management quality stock', fontweight='bold', fontsize=30)\n",
    "fig.tight_layout(pad=5.0)\n",
    "\n",
    "for i in range (13):\n",
    "    y = 0\n",
    "    z = 1\n",
    "\n",
    "    for key, value in locations.items():\n",
    "\n",
    "            \n",
    "        location = df_master.query(key + '_quality != \"0\"')\n",
    "\n",
    "        sub = sns.countplot(ax=axes[y, z], x=key + '_quality', data=location, order=display_order_quality)\n",
    "        axes[y, z].set_title(\"Qualität \" + value, fontsize=15.0)\n",
    "        axes[y, z].set_xlabel('Qualität', fontsize=10.0)\n",
    "        axes[y, z].set_ylabel('Anzahl', fontsize=10.0)\n",
    "        # Erhalten Sie die Gesamtzahl der Qualitätsspalte\n",
    "        total = location[key + '_quality'].count()\n",
    "\n",
    "        freq_series = location[key + '_quality'].value_counts()\n",
    "        freq_series = freq_series.reindex(display_order_quality)\n",
    "\n",
    "        rects = sub.patches\n",
    "        labels = [f'{(x/total)*100:.1f}%' for x in freq_series]\n",
    "        for rect, label in zip(rects, labels):\n",
    "            height = rect.get_height()\n",
    "            axes[y, z].text(rect.get_x() + rect.get_width() / 2, height + 5, label,\n",
    "                    ha='center', va='bottom')\n",
    "            \n",
    "        z += 1  \n",
    "        if y == 0 and z == 2:\n",
    "            y = 1\n",
    "            z = 0\n",
    "            \n",
    "        elif z >= 3:\n",
    "            y += 1\n",
    "            z = 0\n"
   ]
  },
  {
   "attachments": {},
   "cell_type": "markdown",
   "metadata": {},
   "source": [
    "## Visualize quality sales"
   ]
  },
  {
   "cell_type": "code",
   "execution_count": null,
   "metadata": {},
   "outputs": [],
   "source": [
    "# Create a bar chart with subplots to display overall and subsidiary's number of articles categorized into number of sales and if in or out of stock \n",
    "locations = {'gesamt': 'Gesamt', \n",
    "             'wen': 'Weiden', \n",
    "             'rgb': 'Regensburg', \n",
    "             'amb': 'Amberg', \n",
    "             'cha': 'Cham', \n",
    "             'str': 'Straubing', \n",
    "             'pas': 'Passau', \n",
    "             'lan': 'Landshut', \n",
    "             'müh': 'Mühldorf', \n",
    "             'ros': 'Rosenheim'}\n",
    "\n",
    "PE_categories = ['4+ sales, in stock', '4+ sales, no stock', '1-3 sales, in stock', '1-3 sales, no stock', '0 sales, in stock']\n",
    "display_order_quality = PE_categories\n",
    "\n",
    "for x in locations.keys():\n",
    "    PE_condition = [\n",
    "        (df_master[x+'_lager'] > 0) & (df_master[x+'_vk'] > 3),\n",
    "        (df_master[x+'_lager'] == 0) & (df_master[x+'_vk'] > 3),\n",
    "        (df_master[x+'_lager'] > 0) & (df_master[x+'_vk'] < 3) & (df_master[x+'_vk'] > 0),\n",
    "        (df_master[x+'_lager'] == 0) & (df_master[x+'_vk'] < 3) & (df_master[x+'_vk'] > 0),\n",
    "        (df_master[x+'_lager'] > 0) & (df_master[x+'_vk'] == 0)\n",
    "    ]\n",
    "\n",
    "    df_master[x+'_quality'] = np.select(PE_condition, PE_categories)\n",
    "\n",
    "fig, axes = plt.subplots(4, 3, figsize=(25,20))\n",
    "fig.suptitle('Warehouse management quality sales', fontweight='bold', fontsize=30)\n",
    "fig.tight_layout(pad=5.0)\n",
    "\n",
    "for i in range (13):\n",
    "    y = 0\n",
    "    z = 1\n",
    "\n",
    "    for key, value in locations.items():\n",
    "\n",
    "            \n",
    "        location = df_master.query(key + '_quality != \"0\"').reset_index()\n",
    "\n",
    "        sub = sns.countplot(ax=axes[y, z], x=key + '_quality', data=location, order=display_order_quality)\n",
    "        axes[y, z].set_title(\"Qualität \" + value, fontsize=15.0)\n",
    "        axes[y, z].set_xlabel('Qualität', fontsize=10.0)\n",
    "        axes[y, z].set_ylabel('Anzahl', fontsize=10.0)\n",
    "        # Erhalten Sie die Gesamtzahl der Qualitätsspalte\n",
    "        total = location[key + '_quality'].count()\n",
    "\n",
    "        freq_series = location[key + '_quality'].value_counts()\n",
    "        freq_series = freq_series.reindex(display_order_quality)\n",
    "\n",
    "        rects = sub.patches\n",
    "        labels = [f'{(x/total)*100:.1f}%' for x in freq_series]\n",
    "        for rect, label in zip(rects, labels):\n",
    "            height = rect.get_height()\n",
    "            axes[y, z].text(rect.get_x() + rect.get_width() / 2, height + 5, label,\n",
    "                    ha='center', va='bottom')\n",
    "            \n",
    "        z += 1  \n",
    "        if y == 0 and z == 2:\n",
    "            y = 1\n",
    "            z = 0\n",
    "            \n",
    "        elif z >= 3:\n",
    "            y += 1\n",
    "            z = 0\n"
   ]
  },
  {
   "attachments": {},
   "cell_type": "markdown",
   "metadata": {},
   "source": [
    "# Preparing Distribution Method"
   ]
  },
  {
   "cell_type": "code",
   "execution_count": null,
   "metadata": {},
   "outputs": [],
   "source": [
    "df_master_quality = df_master.query('gesamt_quality != \"0\"')\n",
    "\n",
    "locations = {'wen': 'Weiden', \n",
    "             'rgb': 'Regensburg', \n",
    "             'amb': 'Amberg', \n",
    "             'cha': 'Cham', \n",
    "             'str': 'Straubing', \n",
    "             'pas': 'Passau', \n",
    "             'lan': 'Landshut', \n",
    "             'müh': 'Mühldorf', \n",
    "             'ros': 'Rosenheim'}\n",
    "\n",
    "PE_categories = ['4+ sales, in stock', '4+ sales, no stock', '1-3 sales, in stock', '1-3 sales, no stock', '0 sales, in stock']\n",
    "display_order_quality = PE_categories\n",
    "\n",
    "for x in locations.keys():\n",
    "    PE_condition = [\n",
    "        (df_master[x+'_lager'] > 0) & (df_master[x+'_vk'] > 3),\n",
    "        (df_master[x+'_lager'] == 0) & (df_master[x+'_vk'] > 3),\n",
    "        (df_master[x+'_lager'] > 0) & (df_master[x+'_vk'] < 3) & (df_master[x+'_vk'] > 0),\n",
    "        (df_master[x+'_lager'] == 0) & (df_master[x+'_vk'] < 3) & (df_master[x+'_vk'] > 0),\n",
    "        (df_master[x+'_lager'] > 0) & (df_master[x+'_vk'] == 0)\n",
    "    ]\n",
    "\n",
    "    df_master[x+'_quality'] = np.select(PE_condition, PE_categories)\n",
    "\n",
    "for key, value in locations.items():\n",
    "    df_master_quality['take_from_' + key] = df_master_quality.apply(lambda row: ', '.join([k for k, v in locations.items() if row[k + '_quality'] == '4+ sales, no stock']) if row[key + '_quality'] in ['1-3 sales, in stock', '0 sales, in stock'] else '-', axis=1)\n",
    "\n",
    "df_master_quality_final = df_master_quality[~(df_master_quality.filter(like='take_from_').isin(['-', ''])).all(axis=1)]"
   ]
  },
  {
   "attachments": {},
   "cell_type": "markdown",
   "metadata": {},
   "source": [
    "# Code for Distribution Method\n"
   ]
  },
  {
   "cell_type": "code",
   "execution_count": null,
   "metadata": {},
   "outputs": [],
   "source": [
    "df_master_quality_distribution = df_master_quality_final\n",
    "\n",
    "def count_list_elements(x):\n",
    "    if x == ['-']:\n",
    "        return 0\n",
    "    else:\n",
    "        return len(x)\n",
    "    \n",
    "\n",
    "def assigning(row):\n",
    "    a = row['list']\n",
    "    b = row['dividing']\n",
    "    c = row['remainder']\n",
    "    d = row['best_sales']\n",
    "    result = [f\"{x} ({b + c:.0f})\" if x == d else f\"{x} ({b:.0f})\" for x in a]\n",
    "    return result\n",
    "\n",
    "def best_sale(row):\n",
    "    a = row['list']\n",
    "    if a == ['-']:\n",
    "        return '-'\n",
    "    else:\n",
    "        best_sales = sorted([row[k + '_vk'] for k in row['list'] if k != '-' and k + '_vk' in row.index and row[k + '_vk'] is not None], key=lambda y: float(y) if isinstance(y, str) else y, reverse=True)[0]\n",
    "        for i in row['list']:\n",
    "            if row[i + '_vk'] == best_sales:\n",
    "                return i\n",
    "            \n",
    "def calculate_stock(row):\n",
    "    total_stock = 0\n",
    "    pattern = r'\\(\\d+\\)'\n",
    "    for key in locations.keys():\n",
    "        if isinstance(row['take_from_' + key], str) and row['take_from_' + key] != '-':\n",
    "            matches = re.findall(pattern, row['take_from_' + key])\n",
    "            for match in matches:\n",
    "                stock = int(match[1:-1])\n",
    "                total_stock += stock\n",
    "    #total_stock *= row['basispreis']\n",
    "    return total_stock\n",
    "\n",
    "def renaming(row, key):\n",
    "    pattern = '|'.join(locations.keys())\n",
    "    a = row['take_from_' + key]\n",
    "    p = pattern\n",
    "    res = re.sub(pattern, lambda match: locations[match.group(0)], a)\n",
    "    return res\n",
    "\n",
    "def formating(row, key):\n",
    "    a = row['take_from_' + key]\n",
    "    res_blank = a.replace(',', ',\\n')\n",
    "    #res_double = a.replace(') (', ',)\"\"')\n",
    "    return res_blank\n",
    "\n",
    "for key, value in locations.items():\n",
    "    df_master_quality_distribution['list'] = df_master_quality_distribution['take_from_' + key].apply(lambda x: [i for i in x.split(', ')])\n",
    "    df_master_quality_distribution['numbers'] = df_master_quality_distribution['list'].apply(count_list_elements)\n",
    "    df_master_quality_distribution['dividing'] = (df_master_quality_distribution[key +'_lager']/df_master_quality_distribution['numbers']).apply(np.floor)\n",
    "    df_master_quality_distribution['remainder'] = (df_master_quality_distribution[key + '_lager']%df_master_quality_distribution['numbers'])\n",
    "    df_master_quality_distribution['best_sales'] = df_master_quality_distribution.apply(best_sale, axis=1)\n",
    "    df_master_quality_distribution['locations'] = df_master_quality_distribution.apply(assigning, axis=1)\n",
    "    df_master_quality_distribution['locations'] = [','.join(map(str, l)) for l in df_master_quality_distribution['locations']]\n",
    "    df_master_quality_distribution['locations'] = df_master_quality_distribution['locations'].replace([\"- (nan)\", \"- (inf)\", \"- (-inf)\"], \"-\")\n",
    "    df_master_quality_distribution['take_from_' + key] = df_master_quality_distribution['locations']\n",
    "    df_master_quality_distribution['take_from_' + key] = df_master_quality_distribution.apply(renaming, axis=1, key=key)\n",
    "    df_master_quality_distribution['take_from_' + key] = df_master_quality_distribution.apply(formating, axis=1, key=key)\n",
    "    df_master_quality_distribution['stock'] = df_master_quality_distribution.apply(calculate_stock, axis=1)"
   ]
  },
  {
   "attachments": {},
   "cell_type": "markdown",
   "metadata": {},
   "source": [
    "# Cleaning and Sorting"
   ]
  },
  {
   "cell_type": "markdown",
   "metadata": {},
   "source": []
  },
  {
   "cell_type": "code",
   "execution_count": null,
   "metadata": {},
   "outputs": [],
   "source": [
    "def keep_cols(DataFrame, keep_these):\n",
    "    \"\"\"Keep only the columns [keep_these] in a DataFrame, delete\n",
    "    all other columns. \n",
    "    \"\"\"\n",
    "    drop_these = list(set(list(DataFrame)) - set(keep_these))\n",
    "    return DataFrame.drop(drop_these, axis = 1)\n",
    "\n",
    "take_from = ['lieferant', 'artnr', 'beschreibung']\n",
    "for key in locations.keys():\n",
    "    a = f'take_from_{key}'\n",
    "    take_from.append(a)\n",
    "\n",
    "df_master_quality_distribution.sort_values(by='stock', ascending=False, inplace=True)\n",
    "df_master_quality_distribution.reset_index(inplace=True, drop=True)\n",
    "df_master_quality_output = df_master_quality_distribution.pipe(keep_cols, take_from)"
   ]
  },
  {
   "attachments": {},
   "cell_type": "markdown",
   "metadata": {},
   "source": [
    "# Printing result"
   ]
  },
  {
   "cell_type": "code",
   "execution_count": null,
   "metadata": {},
   "outputs": [],
   "source": [
    "df_master_quality_output.style"
   ]
  }
 ],
 "metadata": {
  "kernelspec": {
   "display_name": "nf_sql",
   "language": "python",
   "name": "python3"
  },
  "language_info": {
   "codemirror_mode": {
    "name": "ipython",
    "version": 3
   },
   "file_extension": ".py",
   "mimetype": "text/x-python",
   "name": "python",
   "nbconvert_exporter": "python",
   "pygments_lexer": "ipython3",
   "version": "3.9.16"
  },
  "orig_nbformat": 4
 },
 "nbformat": 4,
 "nbformat_minor": 2
}
