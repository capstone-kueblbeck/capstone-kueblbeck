{
 "cells": [
  {
   "attachments": {},
   "cell_type": "markdown",
   "metadata": {},
   "source": [
    "## Import of Dataframe and necessary modules"
   ]
  },
  {
   "cell_type": "code",
   "execution_count": null,
   "metadata": {},
   "outputs": [],
   "source": [
    "import pandas as pd\n",
    "import seaborn as sns\n",
    "import matplotlib.pyplot as plt\n",
    "import os\n",
    "from sql_functions import get_dataframe\n",
    "pd.set_option('display.max_columns', None)"
   ]
  },
  {
   "attachments": {},
   "cell_type": "markdown",
   "metadata": {},
   "source": [
    "## Quality of stock for a certain article to be assessed as \"good\" or \"bad\"\n"
   ]
  },
  {
   "cell_type": "code",
   "execution_count": null,
   "metadata": {},
   "outputs": [],
   "source": [
    "quality_stock_good_all = df_master[df_master['gesamt_lager'] > 0] and [df_master['gesamt_vk'] >= 3] \n",
    "quality_stock_bad_all = df_master[df_master['gesamt_lager'] > 0] and [df_master['gesamt_vk'] < 3] \n",
    "\n",
    "quality_stock_good_weiden = df_master[df_master['wen_lager'] > 0] and [df_master['wen_vk'] >= 3] \n",
    "quality_stock_bad_weiden = df_master[df_master['wen_lager'] > 0] and [df_master['wen_vk'] < 3] \n",
    "\n",
    "quality_stock_good_regensburg = df_master[df_master['rgb_lager'] > 0] and [df_master['rgb_vk'] >= 3] \n",
    "quality_stock_bad_regensburg = df_master[df_master['rgb_lager'] > 0] and [df_master['rgb_vk'] < 3] \n",
    "\n",
    "quality_stock_good_amberg = df_master[df_master['amb_lager'] > 0] and [df_master['amb_vk'] >= 3] \n",
    "quality_stock_bad_amberg = df_master[df_master['amb_lager'] > 0] and [df_master['amb_vk'] < 3] \n",
    "\n",
    "quality_stock_good_cham = df_master[df_master['cha_lager'] > 0] and [df_master['cha_vk'] >= 3] \n",
    "quality_stock_bad_cham = df_master[df_master['cha_lager'] > 0] and [df_master['cha_vk'] < 3] \n",
    "\n",
    "quality_stock_good_straubing = df_master[df_master['str_lager'] > 0] and [df_master['str_vk'] >= 3] \n",
    "quality_stock_bad_straubing = df_master[df_master['str_lager'] > 0] and [df_master['str_vk'] < 3] \n",
    "\n",
    "quality_stock_good_passau = df_master[df_master['pas_lager'] > 0] and [df_master['pas_vk'] >= 3] \n",
    "quality_stock_bad_passau = df_master[df_master['pas_lager'] > 0] and [df_master['pas_vk'] < 3] \n",
    "\n",
    "quality_stock_good_landshut = df_master[df_master['lan_lager'] > 0] and [df_master['lan_vk'] >= 3] \n",
    "quality_stock_bad_landshut = df_master[df_master['lan_lager'] > 0] and [df_master['lan_vk'] < 3] \n",
    "\n",
    "quality_stock_good_mühldorf = df_master[df_master['mül_lager'] > 0] and [df_master['mül_vk'] >= 3] \n",
    "quality_stock_bad_mühldorf = df_master[df_master['mül_lager'] > 0] and [df_master['mül_vk'] < 3] \n",
    "\n",
    "quality_stock_good_rosenheim = df_master[df_master['ros_lager'] > 0] and [df_master['ros_vk'] >= 3] \n",
    "quality_stock_bad_rosenheim = df_master[df_master['ros_lager'] > 0] and [df_master['ros_vk'] < 3] "
   ]
  },
  {
   "attachments": {},
   "cell_type": "markdown",
   "metadata": {},
   "source": [
    "## Summary how much of the stock is sold per year (in %),"
   ]
  },
  {
   "cell_type": "code",
   "execution_count": null,
   "metadata": {},
   "outputs": [],
   "source": [
    "sales_of_stock_all = df_master[(df_master.count['gesamt_vk'] < 0 / df_master.count['gesamt_lager'] < 0) * 100]\n",
    "\n",
    "sales_of_stock_weiden = df_master[(df_master.count['wen_vk'] < 0 / df_master.count['wen_lager'] < 0) * 100]\n",
    "\n",
    "sales_of_stock_regensburg = df_master[(df_master.count['rgb_vk'] < 0 / df_master.count['rgb_lager'] < 0) * 100]\n",
    "\n",
    "sales_of_stock_amberg = df_master[(df_master.count['amb_vk'] < 0 / df_master.count['amb_lager'] < 0) * 100]\n",
    "\n",
    "sales_of_stock_cham = df_master[(df_master.count['cham_vk'] < 0 / df_master.count['cham_lager'] < 0) * 100]\n",
    "\n",
    "sales_of_stock_straubing = df_master[(df_master.count['str_vk'] < 0 / df_master.count['str_lager'] < 0) * 100]\n",
    "\n",
    "sales_of_stock_passau = df_master[(df_master.count['pas_vk'] < 0 / df_master.count['pas_lager'] < 0) * 100]\n",
    "\n",
    "sales_of_stock_landshut = df_master[(df_master.count['lan_vk'] < 0 / df_master.count['lan_lager'] < 0) * 100]\n",
    "\n",
    "sales_of_stock_mühldorf = df_master[(df_master.count['mül_vk'] < 0 / df_master.count['mül_lager'] < 0) * 100]\n",
    "\n",
    "sales_of_stock_rosenheim = df_master[(df_master.count['ros_vk'] < 0 / df_master.count['ros_lager'] < 0) * 100]"
   ]
  },
  {
   "attachments": {},
   "cell_type": "markdown",
   "metadata": {},
   "source": [
    "## Visualization stock quality"
   ]
  },
  {
   "cell_type": "code",
   "execution_count": null,
   "metadata": {},
   "outputs": [],
   "source": []
  },
  {
   "attachments": {},
   "cell_type": "markdown",
   "metadata": {},
   "source": [
    "## Visualisation inventory management"
   ]
  }
 ],
 "metadata": {
  "kernelspec": {
   "display_name": "nf_sql",
   "language": "python",
   "name": "python3"
  },
  "language_info": {
   "name": "python",
   "version": "3.9.16"
  },
  "orig_nbformat": 4
 },
 "nbformat": 4,
 "nbformat_minor": 2
}
