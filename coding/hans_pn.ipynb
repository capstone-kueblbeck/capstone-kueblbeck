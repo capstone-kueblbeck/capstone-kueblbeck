{
 "cells": [
  {
   "cell_type": "code",
   "execution_count": 80,
   "metadata": {},
   "outputs": [],
   "source": [
    "# call module master_df\n",
    "\n",
    "from master_df import setup\n",
    "\n",
    "df_master = setup()"
   ]
  },
  {
   "cell_type": "code",
   "execution_count": 149,
   "metadata": {},
   "outputs": [],
   "source": [
    "import pandas as pd"
   ]
  },
  {
   "cell_type": "code",
   "execution_count": 150,
   "metadata": {},
   "outputs": [],
   "source": [
    "# Other settings\n",
    "pd.options.display.max_columns = 40"
   ]
  },
  {
   "cell_type": "code",
   "execution_count": 124,
   "metadata": {},
   "outputs": [
    {
     "data": {
      "text/html": [
       "<div>\n",
       "<style scoped>\n",
       "    .dataframe tbody tr th:only-of-type {\n",
       "        vertical-align: middle;\n",
       "    }\n",
       "\n",
       "    .dataframe tbody tr th {\n",
       "        vertical-align: top;\n",
       "    }\n",
       "\n",
       "    .dataframe thead th {\n",
       "        text-align: right;\n",
       "    }\n",
       "</style>\n",
       "<table border=\"1\" class=\"dataframe\">\n",
       "  <thead>\n",
       "    <tr style=\"text-align: right;\">\n",
       "      <th></th>\n",
       "      <th>lfnr</th>\n",
       "      <th>artnr</th>\n",
       "      <th>index</th>\n",
       "      <th>beschreibung</th>\n",
       "      <th>bestellkennzeichen</th>\n",
       "      <th>verp_einheit</th>\n",
       "      <th>stat_gruppe</th>\n",
       "      <th>ltz_vk_ges</th>\n",
       "      <th>basispreis</th>\n",
       "      <th>basispr_summe</th>\n",
       "      <th>gesamt_lager</th>\n",
       "      <th>wen_lager</th>\n",
       "      <th>ltz_vk_wen</th>\n",
       "      <th>rgb_lager</th>\n",
       "      <th>ltz_vk_rgb</th>\n",
       "      <th>amb_lager</th>\n",
       "      <th>ltz_vk_amb</th>\n",
       "      <th>cha_lager</th>\n",
       "      <th>ltz_vk_cha</th>\n",
       "      <th>str_lager</th>\n",
       "      <th>ltz_vk_str</th>\n",
       "      <th>pas_lager</th>\n",
       "      <th>ltz_vk_pas</th>\n",
       "      <th>lan_lager</th>\n",
       "      <th>ltz_vk_lan</th>\n",
       "      <th>müh_lager</th>\n",
       "      <th>ltz_vk_müh</th>\n",
       "      <th>ros_lager</th>\n",
       "      <th>ltz_vk_ros</th>\n",
       "      <th>lieferant</th>\n",
       "      <th>gesamt_vk</th>\n",
       "      <th>wen_vk</th>\n",
       "      <th>rgb_vk</th>\n",
       "      <th>str_vk</th>\n",
       "      <th>pas_vk</th>\n",
       "      <th>amb_vk</th>\n",
       "      <th>cha_vk</th>\n",
       "      <th>lan_vk</th>\n",
       "      <th>müh_vk</th>\n",
       "      <th>ros_vk</th>\n",
       "    </tr>\n",
       "  </thead>\n",
       "  <tbody>\n",
       "    <tr>\n",
       "      <th>0</th>\n",
       "      <td>430</td>\n",
       "      <td>08.607.83</td>\n",
       "      <td>0</td>\n",
       "      <td>N CORSA D  1,0L  44KW  BJ 2006</td>\n",
       "      <td>8</td>\n",
       "      <td>1</td>\n",
       "      <td>L20</td>\n",
       "      <td>2018-11-07</td>\n",
       "      <td>75.36</td>\n",
       "      <td>0.00</td>\n",
       "      <td>0.00</td>\n",
       "      <td>0.00</td>\n",
       "      <td>NaT</td>\n",
       "      <td>0.00</td>\n",
       "      <td>2018-11-07</td>\n",
       "      <td>0.00</td>\n",
       "      <td>2017-08-08</td>\n",
       "      <td>0.00</td>\n",
       "      <td>2016-04-29</td>\n",
       "      <td>0.00</td>\n",
       "      <td>2017-12-14</td>\n",
       "      <td>0.00</td>\n",
       "      <td>NaT</td>\n",
       "      <td>0.00</td>\n",
       "      <td>2017-08-31</td>\n",
       "      <td>0.00</td>\n",
       "      <td>NaT</td>\n",
       "      <td>0.00</td>\n",
       "      <td>2014-03-26</td>\n",
       "      <td>Eberspächer Abgas</td>\n",
       "      <td>NaN</td>\n",
       "      <td>NaN</td>\n",
       "      <td>NaN</td>\n",
       "      <td>NaN</td>\n",
       "      <td>NaN</td>\n",
       "      <td>NaN</td>\n",
       "      <td>NaN</td>\n",
       "      <td>NaN</td>\n",
       "      <td>NaN</td>\n",
       "      <td>NaN</td>\n",
       "    </tr>\n",
       "    <tr>\n",
       "      <th>1</th>\n",
       "      <td>430</td>\n",
       "      <td>08.607.81</td>\n",
       "      <td>0</td>\n",
       "      <td>M CORSA D  1,4L  66KW  BJ 2006</td>\n",
       "      <td>8</td>\n",
       "      <td>1</td>\n",
       "      <td>L20</td>\n",
       "      <td>2021-08-04</td>\n",
       "      <td>93.63</td>\n",
       "      <td>0.00</td>\n",
       "      <td>0.00</td>\n",
       "      <td>0.00</td>\n",
       "      <td>2021-08-04</td>\n",
       "      <td>0.00</td>\n",
       "      <td>2017-07-10</td>\n",
       "      <td>0.00</td>\n",
       "      <td>2021-04-26</td>\n",
       "      <td>0.00</td>\n",
       "      <td>2021-04-28</td>\n",
       "      <td>0.00</td>\n",
       "      <td>2018-09-13</td>\n",
       "      <td>0.00</td>\n",
       "      <td>2019-07-31</td>\n",
       "      <td>0.00</td>\n",
       "      <td>2016-06-24</td>\n",
       "      <td>0.00</td>\n",
       "      <td>NaT</td>\n",
       "      <td>0.00</td>\n",
       "      <td>2015-05-04</td>\n",
       "      <td>Eberspächer Abgas</td>\n",
       "      <td>NaN</td>\n",
       "      <td>NaN</td>\n",
       "      <td>NaN</td>\n",
       "      <td>NaN</td>\n",
       "      <td>NaN</td>\n",
       "      <td>NaN</td>\n",
       "      <td>NaN</td>\n",
       "      <td>NaN</td>\n",
       "      <td>NaN</td>\n",
       "      <td>NaN</td>\n",
       "    </tr>\n",
       "  </tbody>\n",
       "</table>\n",
       "</div>"
      ],
      "text/plain": [
       "   lfnr      artnr  index                    beschreibung bestellkennzeichen  \\\n",
       "0   430  08.607.83      0  N CORSA D  1,0L  44KW  BJ 2006                  8   \n",
       "1   430  08.607.81      0  M CORSA D  1,4L  66KW  BJ 2006                  8   \n",
       "\n",
       "   verp_einheit stat_gruppe ltz_vk_ges  basispreis  basispr_summe  \\\n",
       "0             1         L20 2018-11-07       75.36           0.00   \n",
       "1             1         L20 2021-08-04       93.63           0.00   \n",
       "\n",
       "   gesamt_lager  wen_lager ltz_vk_wen  rgb_lager ltz_vk_rgb  amb_lager  \\\n",
       "0          0.00       0.00        NaT       0.00 2018-11-07       0.00   \n",
       "1          0.00       0.00 2021-08-04       0.00 2017-07-10       0.00   \n",
       "\n",
       "  ltz_vk_amb  cha_lager ltz_vk_cha  str_lager ltz_vk_str  pas_lager  \\\n",
       "0 2017-08-08       0.00 2016-04-29       0.00 2017-12-14       0.00   \n",
       "1 2021-04-26       0.00 2021-04-28       0.00 2018-09-13       0.00   \n",
       "\n",
       "  ltz_vk_pas  lan_lager ltz_vk_lan  müh_lager ltz_vk_müh  ros_lager  \\\n",
       "0        NaT       0.00 2017-08-31       0.00        NaT       0.00   \n",
       "1 2019-07-31       0.00 2016-06-24       0.00        NaT       0.00   \n",
       "\n",
       "  ltz_vk_ros          lieferant  gesamt_vk  wen_vk  rgb_vk  str_vk  pas_vk  \\\n",
       "0 2014-03-26  Eberspächer Abgas        NaN     NaN     NaN     NaN     NaN   \n",
       "1 2015-05-04  Eberspächer Abgas        NaN     NaN     NaN     NaN     NaN   \n",
       "\n",
       "   amb_vk  cha_vk  lan_vk  müh_vk  ros_vk  \n",
       "0     NaN     NaN     NaN     NaN     NaN  \n",
       "1     NaN     NaN     NaN     NaN     NaN  "
      ]
     },
     "execution_count": 124,
     "metadata": {},
     "output_type": "execute_result"
    }
   ],
   "source": [
    "df_master.head(2)"
   ]
  },
  {
   "attachments": {},
   "cell_type": "markdown",
   "metadata": {},
   "source": [
    "## Build Frameworks for MVP's"
   ]
  },
  {
   "cell_type": "code",
   "execution_count": null,
   "metadata": {},
   "outputs": [],
   "source": [
    "the current spare parts inventory of a specific subsidiary or across all subsidiaries,\n",
    "the inventory for one, several or all spare part product(s),\n",
    "which supplier a product was obtained from,\n",
    "the product's description,\n",
    "the total number of products which are in stock at a specific subsidiary or across all subsidiaries,\n",
    "the value of products of a specific subsidiary or across all subsidiaries,"
   ]
  },
  {
   "cell_type": "code",
   "execution_count": 154,
   "metadata": {},
   "outputs": [
    {
     "data": {
      "text/html": [
       "<div>\n",
       "<style scoped>\n",
       "    .dataframe tbody tr th:only-of-type {\n",
       "        vertical-align: middle;\n",
       "    }\n",
       "\n",
       "    .dataframe tbody tr th {\n",
       "        vertical-align: top;\n",
       "    }\n",
       "\n",
       "    .dataframe thead th {\n",
       "        text-align: right;\n",
       "    }\n",
       "</style>\n",
       "<table border=\"1\" class=\"dataframe\">\n",
       "  <thead>\n",
       "    <tr style=\"text-align: right;\">\n",
       "      <th></th>\n",
       "      <th></th>\n",
       "      <th>lan_lager</th>\n",
       "    </tr>\n",
       "    <tr>\n",
       "      <th>artnr</th>\n",
       "      <th>beschreibung</th>\n",
       "      <th></th>\n",
       "    </tr>\n",
       "  </thead>\n",
       "  <tbody>\n",
       "    <tr>\n",
       "      <th>03.0137-0419.2</th>\n",
       "      <th>TBB-SATZ</th>\n",
       "      <td>1.00</td>\n",
       "    </tr>\n",
       "    <tr>\n",
       "      <th>03.0137-3029.2</th>\n",
       "      <th>TBB-SATZ</th>\n",
       "      <td>1.00</td>\n",
       "    </tr>\n",
       "    <tr>\n",
       "      <th>03.0137-4004.2</th>\n",
       "      <th>TBB-SATZ MIT ZUBEHOER</th>\n",
       "      <td>1.00</td>\n",
       "    </tr>\n",
       "    <tr>\n",
       "      <th>03.0137-4009.2</th>\n",
       "      <th>TBB-SATZ MIT ZUBEHOER</th>\n",
       "      <td>1.00</td>\n",
       "    </tr>\n",
       "    <tr>\n",
       "      <th>03.0137-4013.2</th>\n",
       "      <th>TBB-SATZ MIT ZUBEHOER</th>\n",
       "      <td>1.00</td>\n",
       "    </tr>\n",
       "    <tr>\n",
       "      <th>...</th>\n",
       "      <th>...</th>\n",
       "      <td>...</td>\n",
       "    </tr>\n",
       "    <tr>\n",
       "      <th>WM3489</th>\n",
       "      <th>RADLAGERSATZ MIT GEHAEUSE</th>\n",
       "      <td>1.00</td>\n",
       "    </tr>\n",
       "    <tr>\n",
       "      <th>WM521</th>\n",
       "      <th>RADLAGERSATZ OHNE GEHÄUSE/NABE</th>\n",
       "      <td>1.00</td>\n",
       "    </tr>\n",
       "    <tr>\n",
       "      <th>WM6524</th>\n",
       "      <th>RADLAGERSATZ MIT GEHÄUSE</th>\n",
       "      <td>1.00</td>\n",
       "    </tr>\n",
       "    <tr>\n",
       "      <th>WM7408</th>\n",
       "      <th>RADLAGERSATZ</th>\n",
       "      <td>1.00</td>\n",
       "    </tr>\n",
       "    <tr>\n",
       "      <th>WM7439</th>\n",
       "      <th>RADLAGERSATZ CHEVROLET/OPEL HI</th>\n",
       "      <td>1.00</td>\n",
       "    </tr>\n",
       "  </tbody>\n",
       "</table>\n",
       "<p>1199 rows × 1 columns</p>\n",
       "</div>"
      ],
      "text/plain": [
       "                                               lan_lager\n",
       "artnr          beschreibung                             \n",
       "03.0137-0419.2 TBB-SATZ                             1.00\n",
       "03.0137-3029.2 TBB-SATZ                             1.00\n",
       "03.0137-4004.2 TBB-SATZ MIT ZUBEHOER                1.00\n",
       "03.0137-4009.2 TBB-SATZ MIT ZUBEHOER                1.00\n",
       "03.0137-4013.2 TBB-SATZ MIT ZUBEHOER                1.00\n",
       "...                                                  ...\n",
       "WM3489         RADLAGERSATZ MIT GEHAEUSE            1.00\n",
       "WM521          RADLAGERSATZ OHNE GEHÄUSE/NABE       1.00\n",
       "WM6524         RADLAGERSATZ MIT GEHÄUSE             1.00\n",
       "WM7408         RADLAGERSATZ                         1.00\n",
       "WM7439         RADLAGERSATZ CHEVROLET/OPEL HI       1.00\n",
       "\n",
       "[1199 rows x 1 columns]"
      ]
     },
     "execution_count": 154,
     "metadata": {},
     "output_type": "execute_result"
    }
   ],
   "source": [
    "# The current spare parts inventory of a specific subsidiary or across all subsidiaries (all subsidies enter \"gesamt\" )\n",
    "\n",
    "specific_subsidy = input('Please enter subsidy or \"gesamt\":')  # Enter respective subsidiary\n",
    "specific_subsidy = f'{specific_subsidy}_lager'\n",
    "specific_subsidy_inventory = df_master[['artnr', 'beschreibung', specific_subsidy]]\n",
    "grouped_inventory_data_subsidy = specific_subsidy_inventory.groupby(['artnr', 'beschreibung']).sum()\n",
    "filtered_data = grouped_inventory_data_subsidy[grouped_inventory_data_subsidy[specific_subsidy] > 0]\n",
    "filtered_data"
   ]
  },
  {
   "cell_type": "code",
   "execution_count": 106,
   "metadata": {},
   "outputs": [
    {
     "name": "stdout",
     "output_type": "stream",
     "text": [
      "<class 'pandas.core.frame.DataFrame'>\n",
      "Int64Index: 357829 entries, 0 to 357828\n",
      "Data columns (total 40 columns):\n",
      " #   Column              Non-Null Count   Dtype         \n",
      "---  ------              --------------   -----         \n",
      " 0   lfnr                357829 non-null  int64         \n",
      " 1   artnr               357829 non-null  object        \n",
      " 2   index               357829 non-null  int64         \n",
      " 3   beschreibung        357829 non-null  object        \n",
      " 4   bestellkennzeichen  357829 non-null  object        \n",
      " 5   verp_einheit        357829 non-null  int64         \n",
      " 6   stat_gruppe         357829 non-null  object        \n",
      " 7   ltz_vk_ges          338128 non-null  datetime64[ns]\n",
      " 8   basispreis          357829 non-null  float64       \n",
      " 9   basispr_summe       357829 non-null  float64       \n",
      " 10  gesamt_lager        325061 non-null  float64       \n",
      " 11  wen_lager           325061 non-null  float64       \n",
      " 12  ltz_vk_wen          204992 non-null  datetime64[ns]\n",
      " 13  rgb_lager           98303 non-null   float64       \n",
      " 14  ltz_vk_rgb          124822 non-null  datetime64[ns]\n",
      " 15  amb_lager           98303 non-null   float64       \n",
      " 16  ltz_vk_amb          112562 non-null  datetime64[ns]\n",
      " 17  cha_lager           32767 non-null   float64       \n",
      " 18  ltz_vk_cha          55833 non-null   datetime64[ns]\n",
      " 19  str_lager           95685 non-null   float64       \n",
      " 20  ltz_vk_str          149798 non-null  datetime64[ns]\n",
      " 21  pas_lager           98303 non-null   float64       \n",
      " 22  ltz_vk_pas          70193 non-null   datetime64[ns]\n",
      " 23  lan_lager           62917 non-null   float64       \n",
      " 24  ltz_vk_lan          89659 non-null   datetime64[ns]\n",
      " 25  müh_lager           32767 non-null   float64       \n",
      " 26  ltz_vk_müh          77325 non-null   datetime64[ns]\n",
      " 27  ros_lager           98303 non-null   float64       \n",
      " 28  ltz_vk_ros          112682 non-null  datetime64[ns]\n",
      " 29  lieferant           357828 non-null  object        \n",
      " 30  gesamt_vk           65532 non-null   float64       \n",
      " 31  wen_vk              65532 non-null   float64       \n",
      " 32  rgb_vk              65532 non-null   float64       \n",
      " 33  str_vk              65532 non-null   float64       \n",
      " 34  pas_vk              65532 non-null   float64       \n",
      " 35  amb_vk              65532 non-null   float64       \n",
      " 36  cha_vk              65532 non-null   float64       \n",
      " 37  lan_vk              65532 non-null   float64       \n",
      " 38  müh_vk              65532 non-null   float64       \n",
      " 39  ros_vk              65532 non-null   float64       \n",
      "dtypes: datetime64[ns](10), float64(22), int64(3), object(5)\n",
      "memory usage: 111.9+ MB\n"
     ]
    }
   ],
   "source": [
    "df_master.info()"
   ]
  },
  {
   "cell_type": "code",
   "execution_count": 112,
   "metadata": {},
   "outputs": [
    {
     "name": "stdout",
     "output_type": "stream",
     "text": [
      "Data type of the first row under 'artnr' column: <class 'str'>\n"
     ]
    }
   ],
   "source": [
    "# check data type of artnr\n",
    "data_type = type(df_master.loc[0, 'artnr'])\n",
    "print(\"Data type of the first row under 'artnr' column:\", data_type)"
   ]
  },
  {
   "cell_type": "code",
   "execution_count": 158,
   "metadata": {},
   "outputs": [
    {
     "name": "stdout",
     "output_type": "stream",
     "text": [
      "Total inventory for article 03.0137-0419.2 across subsidiaries:\n",
      "6.0\n"
     ]
    }
   ],
   "source": [
    "# The inventory for one product\n",
    "\n",
    "specific_artnr = str(input('Please enter the article number: '))\n",
    "\n",
    "matching_rows = df_master[df_master['artnr'] == specific_artnr]\n",
    "\n",
    "if not matching_rows.empty:\n",
    "    subsidiary_columns = ['wen_lager', 'rgb_lager', 'müh_lager', 'ros_lager','pas_lager','cha_lager','str_lager','lan_lager', 'amb_lager']\n",
    "    total_stock = 0\n",
    "\n",
    "    for column in subsidiary_columns:\n",
    "        total_stock += matching_rows[column].sum()\n",
    "\n",
    "    print(\"Total inventory for article\", specific_artnr, \"across subsidiaries:\")\n",
    "    print(total_stock)\n",
    "else:\n",
    "    print(\"No matching rows found for the specified article number.\")\n"
   ]
  },
  {
   "cell_type": "code",
   "execution_count": 161,
   "metadata": {},
   "outputs": [
    {
     "ename": "ValueError",
     "evalue": "The truth value of a Series is ambiguous. Use a.empty, a.bool(), a.item(), a.any() or a.all().",
     "output_type": "error",
     "traceback": [
      "\u001b[0;31m---------------------------------------------------------------------------\u001b[0m",
      "\u001b[0;31mValueError\u001b[0m                                Traceback (most recent call last)",
      "Cell \u001b[0;32mIn[161], line 10\u001b[0m\n\u001b[1;32m      6\u001b[0m artnrs_list \u001b[39m=\u001b[39m specific_artnrs\u001b[39m.\u001b[39msplit(\u001b[39m'\u001b[39m\u001b[39m,\u001b[39m\u001b[39m'\u001b[39m)\n\u001b[1;32m      8\u001b[0m \u001b[39m#specific_artnr = str(input('Please enter the article number: '))\u001b[39;00m\n\u001b[0;32m---> 10\u001b[0m matching_rows \u001b[39m=\u001b[39m df_master[df_master[\u001b[39m'\u001b[39;49m\u001b[39martnr\u001b[39;49m\u001b[39m'\u001b[39;49m] \u001b[39min\u001b[39;49;00m artnrs_list]\n\u001b[1;32m     12\u001b[0m \u001b[39mif\u001b[39;00m \u001b[39mnot\u001b[39;00m matching_rows\u001b[39m.\u001b[39mempty:\n\u001b[1;32m     13\u001b[0m     subsidiary_columns \u001b[39m=\u001b[39m [\u001b[39m'\u001b[39m\u001b[39mwen_lager\u001b[39m\u001b[39m'\u001b[39m, \u001b[39m'\u001b[39m\u001b[39mrgb_lager\u001b[39m\u001b[39m'\u001b[39m, \u001b[39m'\u001b[39m\u001b[39mmüh_lager\u001b[39m\u001b[39m'\u001b[39m, \u001b[39m'\u001b[39m\u001b[39mros_lager\u001b[39m\u001b[39m'\u001b[39m,\u001b[39m'\u001b[39m\u001b[39mpas_lager\u001b[39m\u001b[39m'\u001b[39m,\u001b[39m'\u001b[39m\u001b[39mcha_lager\u001b[39m\u001b[39m'\u001b[39m,\u001b[39m'\u001b[39m\u001b[39mstr_lager\u001b[39m\u001b[39m'\u001b[39m,\u001b[39m'\u001b[39m\u001b[39mlan_lager\u001b[39m\u001b[39m'\u001b[39m, \u001b[39m'\u001b[39m\u001b[39mamb_lager\u001b[39m\u001b[39m'\u001b[39m]\n",
      "File \u001b[0;32m/opt/homebrew/Caskroom/miniconda/base/envs/nf_sql/lib/python3.9/site-packages/pandas/core/generic.py:1527\u001b[0m, in \u001b[0;36mNDFrame.__nonzero__\u001b[0;34m(self)\u001b[0m\n\u001b[1;32m   1525\u001b[0m \u001b[39m@final\u001b[39m\n\u001b[1;32m   1526\u001b[0m \u001b[39mdef\u001b[39;00m \u001b[39m__nonzero__\u001b[39m(\u001b[39mself\u001b[39m) \u001b[39m-\u001b[39m\u001b[39m>\u001b[39m NoReturn:\n\u001b[0;32m-> 1527\u001b[0m     \u001b[39mraise\u001b[39;00m \u001b[39mValueError\u001b[39;00m(\n\u001b[1;32m   1528\u001b[0m         \u001b[39mf\u001b[39m\u001b[39m\"\u001b[39m\u001b[39mThe truth value of a \u001b[39m\u001b[39m{\u001b[39;00m\u001b[39mtype\u001b[39m(\u001b[39mself\u001b[39m)\u001b[39m.\u001b[39m\u001b[39m__name__\u001b[39m\u001b[39m}\u001b[39;00m\u001b[39m is ambiguous. \u001b[39m\u001b[39m\"\u001b[39m\n\u001b[1;32m   1529\u001b[0m         \u001b[39m\"\u001b[39m\u001b[39mUse a.empty, a.bool(), a.item(), a.any() or a.all().\u001b[39m\u001b[39m\"\u001b[39m\n\u001b[1;32m   1530\u001b[0m     )\n",
      "\u001b[0;31mValueError\u001b[0m: The truth value of a Series is ambiguous. Use a.empty, a.bool(), a.item(), a.any() or a.all()."
     ]
    }
   ],
   "source": [
    "# the inventory for several products\n",
    "# example article numbers: 03.0137-0419.2, WM3489\n",
    "# for loop, concate\n",
    "\n",
    "specific_artnrs = input(\"Please enter mulitple article numbers separated by comma:\")\n",
    "artnrs_list = specific_artnrs.split(',')\n",
    "\n",
    "#specific_artnr = str(input('Please enter the article number: '))\n",
    "\n",
    "matching_rows = df_master[df_master['artnr'] in artnrs_list]\n",
    "\n",
    "if not matching_rows.empty:\n",
    "    subsidiary_columns = ['wen_lager', 'rgb_lager', 'müh_lager', 'ros_lager','pas_lager','cha_lager','str_lager','lan_lager', 'amb_lager']\n",
    "    total_stock = 0\n",
    "\n",
    "    for column in subsidiary_columns:\n",
    "        total_stock += matching_rows[column].sum()\n",
    "\n",
    "    print(\"Total inventory for article\", specific_artnr, \"across subsidiaries:\")\n",
    "    print(total_stock)\n",
    "else:\n",
    "    print(\"No matching rows found for the specified article number.\")\n"
   ]
  },
  {
   "cell_type": "code",
   "execution_count": 144,
   "metadata": {},
   "outputs": [
    {
     "name": "stdout",
     "output_type": "stream",
     "text": [
      "Supplier for article 10604-8T7 :\n",
      "WAECO\n"
     ]
    }
   ],
   "source": [
    "# which supplier a product was obtained from\n",
    "# still to be covered if article number got provided by several suppliers\n",
    "\n",
    "specific_artnr = str(input('Please enter the article number: '))\n",
    "\n",
    "matching_rows = df_master[df_master['artnr'] == specific_artnr]\n",
    "\n",
    "if not matching_rows.empty:\n",
    "    specific_article_lfnr = matching_rows['lfnr'].iloc[0]\n",
    "    specific_article_supplier = df_master.loc[df_master['lfnr'] == specific_article_lfnr, 'lieferant'].iloc[0]\n",
    "\n",
    "    print(\"Supplier for article\", specific_artnr, \":\")\n",
    "    print(specific_article_supplier)\n",
    "else:\n",
    "    print(\"No matching rows found for the specified article number.\")\n"
   ]
  },
  {
   "cell_type": "code",
   "execution_count": 74,
   "metadata": {},
   "outputs": [
    {
     "name": "stdout",
     "output_type": "stream",
     "text": [
      "47671.0\n"
     ]
    }
   ],
   "source": [
    "# the total number of products which are in stock at a specific subsidiary \n",
    "\n",
    "specific_subsidy = 'pas'  # Replace 'rgb' with the subsidiary code you're interested in\n",
    "\n",
    "specific_subsidy_inventory = df_lagerbestand[specific_subsidy]\n",
    "total_stock_subsidy = specific_subsidy_inventory.sum()\n",
    "print(total_stock_subsidy)\n"
   ]
  },
  {
   "cell_type": "code",
   "execution_count": 76,
   "metadata": {},
   "outputs": [
    {
     "name": "stdout",
     "output_type": "stream",
     "text": [
      "2143138.0\n"
     ]
    }
   ],
   "source": [
    "# the total number of products which are in stock across all subsidiaries \n",
    "\n",
    "total_stock_all_subsidiaries = df_lagerbestand['gesamt'].sum()\n",
    "\n",
    "print(total_stock_all_subsidiaries)\n"
   ]
  },
  {
   "cell_type": "code",
   "execution_count": 77,
   "metadata": {},
   "outputs": [
    {
     "name": "stdout",
     "output_type": "stream",
     "text": [
      "0\n"
     ]
    }
   ],
   "source": [
    "# the value of products of a specific subsidiary \n",
    "\n",
    "specific_subsidy = 'rgb'  # Replace 'rgb' with the subsidiary code you're interested in\n",
    "\n",
    "specific_subsidy_value = df_lagerbestand[specific_subsidy] * df_lagerbestand['basispreis']\n",
    "total_value_specific_subsidy = specific_subsidy_value.sum()\n",
    "print(total_value_specific_subsidy)\n"
   ]
  },
  {
   "cell_type": "code",
   "execution_count": null,
   "metadata": {},
   "outputs": [],
   "source": [
    "# the value of products across all subsidiaries\n",
    "# all_subsidiaries_value =\n",
    "\n"
   ]
  }
 ],
 "metadata": {
  "kernelspec": {
   "display_name": "nf_sql",
   "language": "python",
   "name": "python3"
  },
  "language_info": {
   "codemirror_mode": {
    "name": "ipython",
    "version": 3
   },
   "file_extension": ".py",
   "mimetype": "text/x-python",
   "name": "python",
   "nbconvert_exporter": "python",
   "pygments_lexer": "ipython3",
   "version": "3.9.16"
  },
  "orig_nbformat": 4
 },
 "nbformat": 4,
 "nbformat_minor": 2
}
